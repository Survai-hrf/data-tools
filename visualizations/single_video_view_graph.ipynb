{
 "cells": [
  {
   "cell_type": "code",
   "execution_count": null,
   "metadata": {},
   "outputs": [],
   "source": [
    "from plotly.subplots import make_subplots\n",
    "import plotly.graph_objects as go\n",
    "import json\n",
    "import pandas as pd\n",
    "import datetime as dt\n",
    "import plotly"
   ]
  },
  {
   "cell_type": "code",
   "execution_count": null,
   "metadata": {},
   "outputs": [],
   "source": [
    "# select json to generate data from\n",
    "OD_FILE = \"fire_greece_ps.json\"\n",
    "VAR_FILE = \"\""
   ]
  },
  {
   "cell_type": "code",
   "execution_count": null,
   "metadata": {},
   "outputs": [],
   "source": [
    "\n",
    "\n",
    "with open(OD_FILE) as f:\n",
    "    data = json.load(f)\n",
    "\n",
    "# generate variables to be added to the df\n",
    "vidlength = data['videoInfo']['videoLength']\n",
    "unique_keys = set([_key for key,val in data['seconds'].items() for _key, _val in val.items()])\n",
    "df = pd.DataFrame({'seconds': range(0, vidlength)})\n",
    "df['seconds'] = pd.to_datetime(df[\"seconds\"], unit='s').dt.strftime('%H:%M:%S')\n",
    "\n",
    "#add placeholder values\n",
    "for unique_key in unique_keys:\n",
    "    df[unique_key] = 0\n",
    "\n",
    "#impute real values in their corresponding seconds\n",
    "for second, vals in data['seconds'].items():\n",
    "    for _key, _val in vals.items():\n",
    "\n",
    "        df.at[int(second), _key] = _val\n",
    "\n",
    "# reorder columns\n",
    "df = df[['seconds', 'Officer', 'Civilian', 'Chemical Smoke', 'Riot Shield', 'Baton']]"
   ]
  },
  {
   "cell_type": "code",
   "execution_count": null,
   "metadata": {},
   "outputs": [],
   "source": [
    "df"
   ]
  },
  {
   "cell_type": "code",
   "execution_count": null,
   "metadata": {},
   "outputs": [],
   "source": [
    "\n",
    "#keep track of detection colors\n",
    "detection_colors = {'Officer': 'blue', 'Civilian': 'blue', 'Baton': 'green', 'Gun':'green', 'Riot Shield': 'green', 'Chemical Smoke': 'red'}\n",
    "\n",
    "# make the subplots with corresponding universal values\n",
    "fig = make_subplots(\n",
    "    rows=len(df.columns)-1, \n",
    "    cols=1,\n",
    "    #shared_xaxes=True,\n",
    "    subplot_titles=df.columns[1:],\n",
    "    vertical_spacing=0,\n",
    "    column_widths=[1],\n",
    "    )\n",
    "\n",
    "# add the bars into the graph\n",
    "for i, val in enumerate(df.columns):\n",
    "    if val == 'seconds':\n",
    "        continue\n",
    "    fig.append_trace(\n",
    "        go.Bar(\n",
    "        x=df['seconds'],\n",
    "        y=df[val],\n",
    "        marker=dict(color=detection_colors[val])\n",
    "    ),row=i, col=1),\n",
    "    # add negative of same values to flip the bars on the same graph\n",
    "    fig.append_trace(\n",
    "        go.Bar(\n",
    "        x=df['seconds'],\n",
    "        y=df[val] * -1,\n",
    "        marker=dict(color=detection_colors[val])\n",
    "    ),row=i, col=1)\n",
    "\n",
    "# adjust universal values surroinding the graph, and bar types\n",
    "fig.update_layout(\n",
    "    showlegend=False,\n",
    "    barmode='relative',\n",
    "    height = 400,\n",
    "    width = 1500,\n",
    "    margin=dict(\n",
    "    l=150,\n",
    "    r=0,\n",
    "    b=0,\n",
    "    t=30,\n",
    "    pad=0\n",
    "    ),\n",
    "    )\n",
    "\n",
    "# update axes of graphs\n",
    "for i in range(1, len(df.columns)):\n",
    "    fig.update_yaxes(\n",
    "    row=i, col=1, range=[-10,10], side='left', showticklabels=False, showgrid=False, linewidth=1, linecolor='black', mirror=True,)\n",
    "\n",
    "    if i == 1:\n",
    "        fig.update_xaxes(row=i, col=1, side='top',linewidth=1, linecolor='gray', mirror=True,nticks=12)\n",
    "    else:\n",
    "        fig.update_xaxes(row=i, col=1, showticklabels=False, linewidth=1, linecolor='gray', mirror=True)\n",
    "\n",
    "# go into the dictionary to make extremely custom changes to locations of items in graph\n",
    "for i in range(0, len(df.columns[1:])):\n",
    "    fig.layout.annotations[i].update(x=-0.06)\n",
    "    fig.layout.annotations[i]['y'] = fig.layout.annotations[i]['y'] - 0.13\n",
    "\n",
    "fig.show()"
   ]
  },
  {
   "cell_type": "code",
   "execution_count": null,
   "metadata": {},
   "outputs": [],
   "source": [
    "# export graph\n",
    "# \n",
    "# plotly.io.write_json(fig, f'{file_name_split}_plotly.json', validate=True, pretty=False, remove_uids=True)\n"
   ]
  },
  {
   "cell_type": "code",
   "execution_count": null,
   "metadata": {},
   "outputs": [],
   "source": [
    "#function before sending to remove needless data\n",
    "# create duration list\n",
    "# remove all instances of time\n",
    "\n",
    "def format_and_export_plotly_to_json(fig):\n",
    "\n",
    "    file_name_split = FILE.split('.')[0]\n",
    "    export_json_name = f'{file_name_split}_plotly.json'\n",
    "\n",
    "    plotly.io.write_json(fig, export_json_name, validate=True, pretty=False, remove_uids=True)\n",
    "\n",
    "    with open(export_json_name) as f:\n",
    "        data = json.load(f)\n",
    "\n",
    "    time_list = df['seconds'].to_list()\n",
    "\n",
    "    # ALWAYS append time list to end of data list\n",
    "    data['data'].append({'duration': time_list})\n",
    "\n",
    "    for i in data['data']:\n",
    "        \n",
    "        # if i['x'] exists\n",
    "        try:\n",
    "            del i['x']\n",
    "        except:\n",
    "            continue\n",
    "    \n",
    "    with open(export_json_name, \"w\") as outfile:\n",
    "        json.dump(data, outfile)\n",
    "\n",
    "\n",
    "\n",
    "format_and_export_plotly_to_json(fig)"
   ]
  },
  {
   "cell_type": "code",
   "execution_count": null,
   "metadata": {},
   "outputs": [],
   "source": []
  }
 ],
 "metadata": {
  "interpreter": {
   "hash": "696d2529491b84605c2f10100943787b7539f12fba5e4adcc6c4f988d6b014cb"
  },
  "kernelspec": {
   "display_name": "Python 3.10.2 ('dsbasic')",
   "language": "python",
   "name": "python3"
  },
  "language_info": {
   "codemirror_mode": {
    "name": "ipython",
    "version": 3
   },
   "file_extension": ".py",
   "mimetype": "text/x-python",
   "name": "python",
   "nbconvert_exporter": "python",
   "pygments_lexer": "ipython3",
   "version": "3.10.2"
  },
  "orig_nbformat": 4
 },
 "nbformat": 4,
 "nbformat_minor": 2
}
