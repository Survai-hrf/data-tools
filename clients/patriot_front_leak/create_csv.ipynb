{
 "cells": [
  {
   "cell_type": "code",
   "execution_count": 168,
   "metadata": {},
   "outputs": [],
   "source": [
    "import os\n",
    "import csv\n",
    "import json\n",
    "import pandas as pd\n",
    "import datetime\n",
    "from google.cloud import storage\n",
    "from supabase import create_client"
   ]
  },
  {
   "cell_type": "code",
   "execution_count": 54,
   "metadata": {},
   "outputs": [],
   "source": [
    "# connect to gcloud bucket\n",
    "os.environ['GOOGLE_APPLICATION_CREDENTIALS'] = 'survai-data-connect.json'\n",
    "storage_client = storage.Client()\n",
    "bucket_name = 'survai-dataset'\n",
    "bucket = storage_client.bucket(bucket_name)\n",
    "\n",
    "# Connect to database\n",
    "url = os.environ.get(\"SUPABASE_URL\")\n",
    "key = os.environ.get(\"SUPABASE_KEY\")\n",
    "email = os.environ.get(\"EMAIL\")\n",
    "password = os.environ.get(\"PASSWORD\")\n",
    "client = create_client(url, key)\n",
    "user = client.auth.sign_in(email=email, password=password)"
   ]
  },
  {
   "cell_type": "code",
   "execution_count": 56,
   "metadata": {},
   "outputs": [],
   "source": [
    "table = 'patriot_front_data'"
   ]
  },
  {
   "cell_type": "code",
   "execution_count": 182,
   "metadata": {},
   "outputs": [],
   "source": [
    "# access temp_videodata_storage folder\n",
    "blobs = storage_client.list_blobs(bucket_name, prefix='datasets/test_datasets/sparverius_pf/results_08052022/temp_videodata_storage/')\n",
    "file_list = []\n",
    "\n",
    "for blob in blobs:\n",
    "\n",
    "    file = blob.name.split('/')[5]\n",
    "\n",
    "    # filter for desired files\n",
    "    if 'od.json' in file or 'stats.json' in file:\n",
    "        i = file.count('_') # count instances of '_' in file name\n",
    "\n",
    "        if i > 1:\n",
    "            file_name = \"_\".join(file.split(\"_\", i)[:i]) # split on last '_'\n",
    "            if file_name not in file_list:\n",
    "                file_list.append(file_name)\n",
    "                client.table(table).insert({'video': f'{file_name}.mp4'}).execute()\n",
    "\n",
    "        else:\n",
    "            file_name = file.split('_')[0]\n",
    "            if file_name not in file_list:\n",
    "                file_list.append(file_name)\n",
    "                client.table(table).insert({'video': f'{file_name}.mp4'}).execute()\n",
    "\n",
    "            \n",
    "    if 'od.json' in file:\n",
    "        od = json.loads(blob.download_as_string())\n",
    "\n",
    "        # change seconds to datetime\n",
    "        for k,v in list(od.items()):\n",
    "            newkey = str(datetime.timedelta(seconds=int(k)))\n",
    "            od[newkey] = od.pop(k)\n",
    "\n",
    "        client.table(table).update({'detections_by_second': od}).eq('video', f'{file_name}.mp4').execute()\n",
    "\n",
    "    if 'stats.json' in file:\n",
    "        stats = json.loads(blob.download_as_string())\n",
    "        for k,v in stats.items():\n",
    "            client.table(table).update({k: v}).eq('video', f'{file_name}.mp4').execute()\n"
   ]
  },
  {
   "cell_type": "code",
   "execution_count": 184,
   "metadata": {},
   "outputs": [
    {
     "name": "stdout",
     "output_type": "stream",
     "text": [
      "                              video  Baton  Pepper Spray  Uniformed  \\\n",
      "0                           009.mp4    NaN           NaN        NaN   \n",
      "1           2021-11-14_01.13.50.mp4    NaN          13.0        NaN   \n",
      "2         1_4934073479210205678.mp4    NaN           NaN        NaN   \n",
      "3                           008.mp4    NaN           NaN        6.0   \n",
      "4           2021-11-20_11.20.14.mp4    NaN           NaN        NaN   \n",
      "..                              ...    ...           ...        ...   \n",
      "424                 WA_DSCF3252.mp4    6.0           NaN        5.0   \n",
      "425             drilling_draft1.mp4    NaN           NaN      130.0   \n",
      "426         latesT_PAtriotfront.mp4    5.0           1.0      335.0   \n",
      "427  paint_test_20211208_212840.mp4    NaN           NaN        NaN   \n",
      "428                     sample2.mp4    NaN           NaN        NaN   \n",
      "\n",
      "     Chemical Smoke   Gun  Riot Shield  Non Uniformed  spray  running  crowd  \\\n",
      "0               NaN  10.0         13.0          150.0   25.0      NaN    NaN   \n",
      "1               NaN   NaN          NaN           47.0   35.0      NaN    NaN   \n",
      "2               NaN   NaN          NaN            NaN    NaN      NaN    NaN   \n",
      "3               NaN   NaN          1.0           40.0    2.0      NaN    NaN   \n",
      "4               NaN   NaN          NaN           20.0    1.0      NaN    NaN   \n",
      "..              ...   ...          ...            ...    ...      ...    ...   \n",
      "424             NaN  16.0          NaN          196.0   40.0      NaN    NaN   \n",
      "425             NaN  10.0        428.0         2738.0  303.0     20.0  136.0   \n",
      "426            21.0  10.0         86.0          850.0   31.0      NaN  137.0   \n",
      "427             NaN   NaN          NaN            NaN    2.0      NaN    NaN   \n",
      "428             1.0   NaN          NaN            6.0    NaN      NaN    NaN   \n",
      "\n",
      "     brawling  person_on_ground  throwing  arresting  striking  \\\n",
      "0         NaN              33.0       NaN        NaN       NaN   \n",
      "1         NaN               NaN       NaN        NaN       NaN   \n",
      "2         NaN               NaN       NaN        NaN       NaN   \n",
      "3         NaN               8.0       NaN        NaN       NaN   \n",
      "4         NaN               NaN       NaN        NaN       NaN   \n",
      "..        ...               ...       ...        ...       ...   \n",
      "424       NaN               4.0       NaN        NaN       NaN   \n",
      "425       NaN             115.0       NaN        4.0     115.0   \n",
      "426     133.0             296.0       NaN        NaN       NaN   \n",
      "427       NaN               NaN       NaN        NaN       NaN   \n",
      "428       NaN               NaN       NaN        NaN       NaN   \n",
      "\n",
      "     violent_actions detections_by_second  \n",
      "0                0.0      [object Object]  \n",
      "1                0.0      [object Object]  \n",
      "2                0.0      [object Object]  \n",
      "3                0.0      [object Object]  \n",
      "4                0.0      [object Object]  \n",
      "..               ...                  ...  \n",
      "424              0.0      [object Object]  \n",
      "425            119.0      [object Object]  \n",
      "426            133.0      [object Object]  \n",
      "427              0.0      [object Object]  \n",
      "428              0.0      [object Object]  \n",
      "\n",
      "[429 rows x 18 columns]\n"
     ]
    }
   ],
   "source": [
    "df = pd.read_csv('patriot_front_data.csv')\n",
    "print(df)"
   ]
  }
 ],
 "metadata": {
  "interpreter": {
   "hash": "7f0d9b29d3abf450bf16b2b0a1c26e44348ebdbb4c4f2d61ade5ad73213c2959"
  },
  "kernelspec": {
   "display_name": "Python 3.9.7 ('dsbasic')",
   "language": "python",
   "name": "python3"
  },
  "language_info": {
   "codemirror_mode": {
    "name": "ipython",
    "version": 3
   },
   "file_extension": ".py",
   "mimetype": "text/x-python",
   "name": "python",
   "nbconvert_exporter": "python",
   "pygments_lexer": "ipython3",
   "version": "3.9.7"
  },
  "orig_nbformat": 4
 },
 "nbformat": 4,
 "nbformat_minor": 2
}
