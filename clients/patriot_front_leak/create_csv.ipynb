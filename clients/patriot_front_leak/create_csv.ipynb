{
 "cells": [
  {
   "cell_type": "code",
   "execution_count": 168,
   "metadata": {},
   "outputs": [],
   "source": [
    "import os\n",
    "import csv\n",
    "import json\n",
    "import pandas as pd\n",
    "import datetime\n",
    "from google.cloud import storage\n",
    "from supabase import create_client"
   ]
  },
  {
   "cell_type": "code",
   "execution_count": 54,
   "metadata": {},
   "outputs": [],
   "source": [
    "# connect to gcloud bucket\n",
    "os.environ['GOOGLE_APPLICATION_CREDENTIALS'] = 'survai-data-connect.json'\n",
    "storage_client = storage.Client()\n",
    "bucket_name = 'survai-dataset'\n",
    "bucket = storage_client.bucket(bucket_name)\n",
    "\n",
    "# Connect to database\n",
    "url = os.environ.get(\"SUPABASE_URL\")\n",
    "key = os.environ.get(\"SUPABASE_KEY\")\n",
    "email = os.environ.get(\"EMAIL\")\n",
    "password = os.environ.get(\"PASSWORD\")\n",
    "client = create_client(url, key)\n",
    "user = client.auth.sign_in(email=email, password=password)"
   ]
  },
  {
   "cell_type": "code",
   "execution_count": 56,
   "metadata": {},
   "outputs": [],
   "source": [
    "table = 'patriot_front_data'"
   ]
  },
  {
   "cell_type": "code",
   "execution_count": 173,
   "metadata": {},
   "outputs": [],
   "source": [
    "# access temp_videodata_storage folder\n",
    "blobs = storage_client.list_blobs(bucket_name, prefix='datasets/test_datasets/sparverius_pf/results_08052022/temp_videodata_storage/')\n",
    "file_list = []\n",
    "\n",
    "for blob in blobs:\n",
    "\n",
    "    file = blob.name.split('/')[5]\n",
    "\n",
    "    if 'od.json' in file or 'stats.json' in file:\n",
    "        i = file.count('_')\n",
    "\n",
    "        if i > 1:\n",
    "            file_name = \"_\".join(file.split(\"_\", i)[:i])\n",
    "            if file_name not in file_list:\n",
    "                file_list.append(file_name)\n",
    "                client.table(table).insert({'video': file_name}).execute()\n",
    "\n",
    "        else:\n",
    "            file_name = file.split('_')[0]\n",
    "            if file_name not in file_list:\n",
    "                file_list.append(file_name)\n",
    "                client.table(table).insert({'video': file_name}).execute()\n",
    "\n",
    "            \n",
    "    if 'od.json' in file:\n",
    "        od = json.loads(blob.download_as_string())\n",
    "\n",
    "        for k,v in list(od.items()):\n",
    "            newkey = str(datetime.timedelta(seconds=int(k)))\n",
    "            od[newkey] = od.pop(k)\n",
    "\n",
    "        client.table(table).update({'detections_by_second': od}).eq('video', file_name).execute()\n",
    "\n",
    "    if 'stats.json' in file:\n",
    "        stats = json.loads(blob.download_as_string())\n",
    "        for k,v in stats.items():\n",
    "            client.table(table).update({k: v}).eq('video', file_name).execute()\n"
   ]
  }
 ],
 "metadata": {
  "interpreter": {
   "hash": "7f0d9b29d3abf450bf16b2b0a1c26e44348ebdbb4c4f2d61ade5ad73213c2959"
  },
  "kernelspec": {
   "display_name": "Python 3.9.7 ('dsbasic')",
   "language": "python",
   "name": "python3"
  },
  "language_info": {
   "codemirror_mode": {
    "name": "ipython",
    "version": 3
   },
   "file_extension": ".py",
   "mimetype": "text/x-python",
   "name": "python",
   "nbconvert_exporter": "python",
   "pygments_lexer": "ipython3",
   "version": "3.9.7"
  },
  "orig_nbformat": 4
 },
 "nbformat": 4,
 "nbformat_minor": 2
}
