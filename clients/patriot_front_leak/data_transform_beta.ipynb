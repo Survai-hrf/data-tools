{
 "cells": [
  {
   "cell_type": "markdown",
   "metadata": {},
   "source": [
    "# Extract data results from generated txts and put into csv for patriotfront"
   ]
  },
  {
   "cell_type": "code",
   "execution_count": null,
   "metadata": {},
   "outputs": [],
   "source": [
    "import pandas as pd\n",
    "import datetime\n",
    "from pathlib import Path\n",
    "import copy"
   ]
  },
  {
   "cell_type": "code",
   "execution_count": null,
   "metadata": {},
   "outputs": [],
   "source": [
    "ROOT_DATA_PATH = \"/media/beanbagthomas/AED47533D474FEC1/Large_Storage/data/patriotfrontleak/2021/survai_output/\"\n",
    "CSV_OUT_PATH = \"patriotfront_var_results.csv\"\n",
    "\n",
    "output_detections = ['person_on_ground', 'striking', 'spray', 'crowd']\n",
    "\n",
    "columns = {'file name': str, 'striking count': 0, 'striking timestamps': [], \n",
    "    'spray count': 0, 'spray timestamps': [],'crowd count': 0, 'crowd timestamps': [],\n",
    "    'person_on_ground count': 0, 'person_on_ground timestamps': []}\n",
    "\n",
    "#max_time_between_ts = 5.0\n"
   ]
  },
  {
   "cell_type": "code",
   "execution_count": null,
   "metadata": {},
   "outputs": [],
   "source": [
    "files = Path(ROOT_DATA_PATH).glob('*.txt')\n",
    "\n",
    "df = pd.DataFrame.from_dict(columns)\n",
    "\n",
    "for file in files:\n",
    "    det_dictionary = copy.deepcopy(columns)\n",
    "    det_dictionary['file name'] = str(file).split('/')[-1].split('_out.mp4_detections.txt')[0] + '.'\n",
    "\n",
    "    with open(file) as f:\n",
    "        all_txt = f.readlines()\n",
    "\n",
    "    for det in all_txt:\n",
    "        det_name = det.split(\" \")[0].strip(\":\")\n",
    "        det_seconds = int(float(det.split(\" \")[-1]))\n",
    "        if det_seconds <= 5:\n",
    "            det_timestamp='0:00:00'\n",
    "        else:\n",
    "            det_timestamp = str(datetime.timedelta(seconds=det_seconds - 5))\n",
    "        \n",
    "\n",
    "        if det_name in output_detections:\n",
    "\n",
    "            det_dictionary[det_name + ' count'] += 1\n",
    "            det_dictionary[det_name + ' timestamps'].append(det_timestamp)    \n",
    "        else:\n",
    "            continue\n",
    "    df = df.append(det_dictionary, ignore_index=True)\n",
    "    f.close()\n"
   ]
  },
  {
   "cell_type": "code",
   "execution_count": null,
   "metadata": {},
   "outputs": [],
   "source": [
    "df2 = pd.read_csv(\"patriot_front_leak.csv\")\n",
    "\n",
    "# change filename of our df to filename in leak\n",
    "for index in range(0, len(df)):\n",
    "    for ind in range(0, len(df2)):\n",
    "        if df['file name'][index] in df2['file name'][ind]:\n",
    "            df['file name'][index] = df2['file name'][ind]\n",
    "            break\n",
    "\n",
    "df3 = pd.merge(df, df2, on='file name', how='right')\n",
    "\n",
    "# reorder\n",
    "df3 = df3[['index', 'file name', 'directory path', 'link', 'striking count', 'striking timestamps',\n",
    " 'spray count', 'spray timestamps', 'crowd count', 'crowd timestamps', \n",
    " 'person_on_ground count', 'person_on_ground timestamps']]"
   ]
  },
  {
   "cell_type": "code",
   "execution_count": null,
   "metadata": {},
   "outputs": [],
   "source": [
    "df3.to_csv(CSV_OUT_PATH)\n",
    "df3.sort_values('striking count', ascending=False)"
   ]
  }
 ],
 "metadata": {
  "interpreter": {
   "hash": "439b39d12d78a9279461302b80d21b2f249f6fb75eaa40c59538590dc7ee8cb7"
  },
  "kernelspec": {
   "display_name": "Python 3.7.12 ('dsbasic')",
   "language": "python",
   "name": "python3"
  },
  "language_info": {
   "codemirror_mode": {
    "name": "ipython",
    "version": 3
   },
   "file_extension": ".py",
   "mimetype": "text/x-python",
   "name": "python",
   "nbconvert_exporter": "python",
   "pygments_lexer": "ipython3",
   "version": "3.7.12"
  },
  "orig_nbformat": 4
 },
 "nbformat": 4,
 "nbformat_minor": 2
}
