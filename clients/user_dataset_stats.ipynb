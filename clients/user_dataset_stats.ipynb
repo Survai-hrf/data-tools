{
 "cells": [
  {
   "cell_type": "markdown",
   "metadata": {},
   "source": [
    "# Read Me\n",
    "\n",
    "This code provides statistical measures for video datasets such as mean, median, mode, standard deviation for both length and size of video. This serves primarily to help estimate video server costs."
   ]
  },
  {
   "cell_type": "markdown",
   "metadata": {},
   "source": [
    "1. Load only .mp4s from patriot front survai_ouput folder"
   ]
  },
  {
   "cell_type": "code",
   "execution_count": null,
   "metadata": {},
   "outputs": [],
   "source": [
    "import os\n",
    "import moviepy.editor\n",
    "import statistics\n",
    "import datetime"
   ]
  },
  {
   "cell_type": "code",
   "execution_count": null,
   "metadata": {},
   "outputs": [],
   "source": [
    "folder_path = 'CapitolHillParler/'\n",
    "files = os.listdir(folder_path)\n",
    "\n",
    "vid_files = []\n",
    "\n",
    "for file in files:\n",
    "    if file.endswith('.mp4'):\n",
    "        vid_files.append(file)\n",
    "\n",
    "print(vid_files)"
   ]
  },
  {
   "cell_type": "markdown",
   "metadata": {},
   "source": [
    "Find duration of each video"
   ]
  },
  {
   "cell_type": "code",
   "execution_count": null,
   "metadata": {},
   "outputs": [],
   "source": [
    "vid_dur = []\n",
    "\n",
    "for vid in vid_files:\n",
    "    # Create an object by passing the location as a string\n",
    "    video = moviepy.editor.VideoFileClip(folder_path + vid)\n",
    "    # Contains the duration of the video in terms of seconds\n",
    "    video_duration = int(video.duration)\n",
    "    vid_dur.append(video_duration)\n",
    "\n",
    "print(vid_dur)"
   ]
  },
  {
   "cell_type": "markdown",
   "metadata": {},
   "source": [
    "#### Statistics"
   ]
  },
  {
   "cell_type": "code",
   "execution_count": null,
   "metadata": {},
   "outputs": [],
   "source": [
    "# Average Length\n",
    "mean = '{:.2f}'.format(statistics.mean(vid_dur))\n",
    "print('Mean Video Length: ', str(datetime.timedelta(seconds=float(mean))))\n",
    "\n",
    "# Median Length\n",
    "median = statistics.median(vid_dur)\n",
    "print('Median Video Length: ', median)\n",
    "\n",
    "# Mode \n",
    "mode = statistics.mode(vid_dur)\n",
    "print('Mode Video Length: ', mode)\n",
    "\n",
    "# Standard Deviation\n",
    "std_dev = '{:.2f}'.format(statistics.stdev(vid_dur))\n",
    "print('Standard Deviation: ', std_dev)\n",
    "\n",
    "total_len = sum(vid_dur)\n",
    "print('Total Length: ', str(datetime.timedelta(seconds=float(total_len))))"
   ]
  },
  {
   "cell_type": "markdown",
   "metadata": {},
   "source": [
    "### File Size"
   ]
  },
  {
   "cell_type": "code",
   "execution_count": null,
   "metadata": {},
   "outputs": [],
   "source": [
    "file_size = []\n",
    "\n",
    "# get the size of file\n",
    "for file in vid_files:\n",
    "    size = os.path.getsize(folder_path + file)\n",
    "    megs = size/1000000\n",
    "    file_size.append(megs)\n",
    "\n",
    "print(file_size)\n",
    "    "
   ]
  },
  {
   "cell_type": "code",
   "execution_count": null,
   "metadata": {},
   "outputs": [],
   "source": [
    "print('Average File Size: ', '{:.2f}'.format(statistics.mean(file_size)), 'mb')\n",
    "print('Median File Size: ', '{:.2f}'.format(statistics.median(file_size)), 'mb')\n",
    "print('Mode File Size: ', '{:.2f}'.format(statistics.mode(file_size)), 'mb')\n",
    "print('Standard Deviation: ', '{:.2f}'.format(statistics.stdev(file_size)), 'mb')\n",
    "print('Total Size: ', '{:.2f}'.format(sum(file_size)), 'mb')"
   ]
  }
 ],
 "metadata": {
  "interpreter": {
   "hash": "224d2077684d48301571c4288cbf20074c4721bf884654f6e3b9c2f7f09e95c7"
  },
  "kernelspec": {
   "display_name": "Python 3.9.7 ('dsbasic')",
   "language": "python",
   "name": "python3"
  },
  "language_info": {
   "codemirror_mode": {
    "name": "ipython",
    "version": 3
   },
   "file_extension": ".py",
   "mimetype": "text/x-python",
   "name": "python",
   "nbconvert_exporter": "python",
   "pygments_lexer": "ipython3",
   "version": "3.9.7"
  },
  "orig_nbformat": 4
 },
 "nbformat": 4,
 "nbformat_minor": 2
}
