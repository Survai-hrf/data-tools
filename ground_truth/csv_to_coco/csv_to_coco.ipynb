{
 "cells": [
  {
   "cell_type": "code",
   "execution_count": 1,
   "metadata": {},
   "outputs": [],
   "source": [
    "import json\n",
    "import pandas as pd\n",
    "from pandas import RangeIndex"
   ]
  },
  {
   "cell_type": "code",
   "execution_count": 2,
   "metadata": {},
   "outputs": [],
   "source": [
    "# add dataframe into csv_to_coco folder\n",
    "df = pd.read_csv('labels_my-project-name_2022-10-27-12-20-00.csv')\n",
    "\n",
    "# add classes.txt to csv_to_coco folder\n",
    "with open('classes.txt', 'r') as f:\n",
    "    classes = f.readlines()\n",
    "    labels = list(enumerate([i.split('\\n')[0] for i in classes]))"
   ]
  },
  {
   "cell_type": "code",
   "execution_count": 3,
   "metadata": {},
   "outputs": [],
   "source": [
    "# converts label names to their respective index from classes.txt\n",
    "df['label_name'] = [x[0] for i in df['label_name'] for x in labels if x[1] == i]"
   ]
  },
  {
   "cell_type": "code",
   "execution_count": 4,
   "metadata": {},
   "outputs": [],
   "source": [
    "# gives index to annotations per image in new column\n",
    "sort_ids = df['image_name'].value_counts().sort_index()\n",
    "annotation_id = [x for i in sort_ids for x in RangeIndex(i)] \n",
    "df['annotation_id'] = annotation_id"
   ]
  },
  {
   "cell_type": "code",
   "execution_count": 5,
   "metadata": {},
   "outputs": [],
   "source": [
    "# building json\n",
    "coco_json = {}\n",
    "images_list = []\n",
    "annotations_list = []\n",
    "for ind, row in df.iterrows():\n",
    "    bboxes = [row['bbox_x'], row['bbox_y'], row['bbox_width'], row['bbox_height']]\n",
    "\n",
    "    images = {'id': int(row['image_name'].split('.jpg')[0]),\n",
    "               'width': row['image_width'],\n",
    "               'height':row['image_height'],\n",
    "               'file_name': row['image_name']\n",
    "             } \n",
    "             \n",
    "    annotations = {\n",
    "                        'id': row['annotation_id'],\n",
    "                        'image_id': int(row['image_name'].split('.jpg')[0]),\n",
    "                        'category_id': row['label_name'],\n",
    "                        'segmentation': [],\n",
    "                        'bbox': bboxes\n",
    "    }               \n",
    "\n",
    "                \n",
    "    \n",
    "    images_list.append(images)\n",
    "    annotations_list.append(annotations)\n",
    "\n",
    "# removes duplicates from images section of coco json\n",
    "images_section = [i for n, i in enumerate(images_list) if i not in images_list[:n]]"
   ]
  },
  {
   "cell_type": "code",
   "execution_count": 6,
   "metadata": {},
   "outputs": [],
   "source": [
    "coco_json['info'] = {'description': #TODO fill with function arg for video_id\n",
    "    'kaDoCpLfAnA_352_354'\n",
    "} \n",
    "coco_json['images'] = images_section\n",
    "\n",
    "\n",
    "coco_json['annotations'] = annotations_list\n",
    "\n",
    "\n",
    "coco_json['categories'] = [\n",
    "{\"id\":0,\"name\":\"uniformed\"},\n",
    "{\"id\":1,\"name\":\"non_uniformed\"},\n",
    "{\"id\":2,\"name\":\"riot_shield\"},\n",
    "{\"id\":3,\"name\":\"gun\"},\n",
    "{\"id\":4,\"name\":\"pepper_spray\"},\n",
    "{\"id\":5,\"name\":\"baton\"},\n",
    "{\"id\":6,\"name\":\"chemical_smoke\"}\n",
    " ]"
   ]
  },
  {
   "cell_type": "code",
   "execution_count": 7,
   "metadata": {},
   "outputs": [],
   "source": [
    "# create .json file\n",
    "with open('kaDoCpLfAnA_352_354.json', 'w+') as file:\n",
    "        json.dump(coco_json, file)"
   ]
  }
 ],
 "metadata": {
  "kernelspec": {
   "display_name": "Python 3.8.10 64-bit",
   "language": "python",
   "name": "python3"
  },
  "language_info": {
   "codemirror_mode": {
    "name": "ipython",
    "version": 3
   },
   "file_extension": ".py",
   "mimetype": "text/x-python",
   "name": "python",
   "nbconvert_exporter": "python",
   "pygments_lexer": "ipython3",
   "version": "3.8.10"
  },
  "orig_nbformat": 4,
  "vscode": {
   "interpreter": {
    "hash": "916dbcbb3f70747c44a77c7bcd40155683ae19c65e1c03b4aa3499c5328201f1"
   }
  }
 },
 "nbformat": 4,
 "nbformat_minor": 2
}
