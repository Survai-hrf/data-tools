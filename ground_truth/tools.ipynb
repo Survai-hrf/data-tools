{
 "cells": [
  {
   "cell_type": "code",
   "execution_count": 1,
   "metadata": {},
   "outputs": [],
   "source": [
    "from pytube import YouTube\n",
    "from moviepy.video.io.ffmpeg_tools import ffmpeg_extract_subclip\n",
    "import os\n",
    "from supabase import create_client\n",
    "from dotenv import load_dotenv, find_dotenv\n",
    "import cv2"
   ]
  },
  {
   "cell_type": "markdown",
   "metadata": {},
   "source": [
    "# Download from Youtube\n"
   ]
  },
  {
   "cell_type": "code",
   "execution_count": 2,
   "metadata": {},
   "outputs": [],
   "source": [
    "def download_video(url, file_name):\n",
    "    video = YouTube(url, use_oauth=True, allow_oauth_cache=True)\n",
    "    yt_video = video.streams.get_highest_resolution()\n",
    "    yt_video.download(output_path='videos/', filename=f\"{file_name}.mp4\")\n",
    "    \n",
    "\n",
    "def get_clip(start, end, file_name):\n",
    "    ffmpeg_extract_subclip(filename=f'videos/{file_name}.mp4', t1=start, t2=end, \n",
    "                        targetname=f'videos/{file_name}_{str(start)}_{str(end)}.mp4') \n",
    "    os.remove(f'videos/{file_name}.mp4') "
   ]
  },
  {
   "cell_type": "code",
   "execution_count": 3,
   "metadata": {},
   "outputs": [
    {
     "name": "stdout",
     "output_type": "stream",
     "text": [
      "Moviepy - Running:\n",
      ">>> \"+ \" \".join(cmd)\n",
      "Moviepy - Command successful\n"
     ]
    }
   ],
   "source": [
    "# input url\n",
    "url = input('input url of youtube video to be downloaded: ')\n",
    "\n",
    "# generate file name\n",
    "file_name = url.split('=')[1]\n",
    "\n",
    "# make directory to store videos\n",
    "if os.path.exists('videos/') == False:\n",
    "    os.makedirs('videos/')\n",
    "\n",
    "# download video from url\n",
    "download_video(url, file_name)\n",
    "\n",
    "# ask for a segment of the video to download\n",
    "seg = input('do you want to download a specific segment? (yes or no): ')\n",
    "\n",
    "# download the video segment and remove the full video\n",
    "if seg == 'yes':\n",
    "    segment = input('input a segment to download (1:02, 2:35): ')\n",
    "\n",
    "    start = (int(segment.split(',')[0].split(':')[0]) * 60) + int(segment.split(',')[0].split(':')[1])\n",
    "    end = (int(segment.split(',')[1].split(':')[0]) * 60) + int(segment.split(',')[1].split(':')[1])\n",
    "\n",
    "    get_clip(start, end, file_name)"
   ]
  },
  {
   "cell_type": "markdown",
   "metadata": {},
   "source": [
    "# Check URL"
   ]
  },
  {
   "cell_type": "code",
   "execution_count": 1,
   "metadata": {},
   "outputs": [
    {
     "name": "stdout",
     "output_type": "stream",
     "text": [
      "URL AVAIALBLE\n"
     ]
    }
   ],
   "source": [
    "# Connect to database\n",
    "url = os.environ.get(\"SUPABASE_URL\")\n",
    "key = os.environ.get(\"SUPABASE_KEY\")\n",
    "email = os.environ.get(\"EMAIL\")\n",
    "password = os.environ.get(\"PASSWORD\")\n",
    "client = create_client(url, key)\n",
    "user = client.auth.sign_in(email=email, password=password)\n",
    "\n",
    "# check if url is already in database\n",
    "vid_url = input(\"enter full url of youtube video, or enter d to save & exit\")\n",
    "vid_url = str(vid_url)\n",
    "\n",
    "existing_urls = list(client.table('urls').select('url').execute())[0][1]\n",
    "url_search = next((item for item in existing_urls if item[\"url\"] == vid_url), None)\n",
    "\n",
    "if url_search is not None:\n",
    "    print('URL USED')\n",
    "\n",
    "else:\n",
    "    print('URL AVAIALBLE')"
   ]
  },
  {
   "cell_type": "markdown",
   "metadata": {},
   "source": [
    "# Extract Frames from Video"
   ]
  },
  {
   "cell_type": "code",
   "execution_count": 4,
   "metadata": {},
   "outputs": [
    {
     "name": "stdout",
     "output_type": "stream",
     "text": [
      "Read a new frame:  True\n",
      "Read a new frame:  True\n",
      "Read a new frame:  True\n",
      "Read a new frame:  True\n",
      "Read a new frame:  True\n",
      "Read a new frame:  True\n",
      "Read a new frame:  True\n",
      "Read a new frame:  True\n",
      "Read a new frame:  True\n",
      "Read a new frame:  True\n",
      "Read a new frame:  True\n",
      "Read a new frame:  True\n",
      "Read a new frame:  True\n",
      "Read a new frame:  True\n",
      "Read a new frame:  True\n",
      "Read a new frame:  True\n",
      "Read a new frame:  True\n",
      "Read a new frame:  True\n",
      "Read a new frame:  True\n",
      "Read a new frame:  True\n",
      "Read a new frame:  True\n",
      "Read a new frame:  True\n",
      "Read a new frame:  True\n",
      "Read a new frame:  True\n",
      "Read a new frame:  True\n",
      "Read a new frame:  True\n",
      "Read a new frame:  True\n",
      "Read a new frame:  True\n",
      "Read a new frame:  True\n",
      "Read a new frame:  True\n",
      "Read a new frame:  True\n",
      "Read a new frame:  True\n",
      "Read a new frame:  True\n",
      "Read a new frame:  True\n",
      "Read a new frame:  True\n",
      "Read a new frame:  True\n",
      "Read a new frame:  True\n",
      "Read a new frame:  True\n",
      "Read a new frame:  True\n",
      "Read a new frame:  True\n",
      "Read a new frame:  True\n",
      "Read a new frame:  True\n",
      "Read a new frame:  True\n",
      "Read a new frame:  True\n",
      "Read a new frame:  True\n",
      "Read a new frame:  True\n",
      "Read a new frame:  True\n",
      "Read a new frame:  True\n",
      "Read a new frame:  True\n",
      "Read a new frame:  True\n",
      "Read a new frame:  True\n",
      "Read a new frame:  True\n",
      "Read a new frame:  True\n",
      "Read a new frame:  True\n",
      "Read a new frame:  True\n",
      "Read a new frame:  True\n",
      "Read a new frame:  True\n",
      "Read a new frame:  True\n",
      "Read a new frame:  True\n",
      "Read a new frame:  True\n",
      "Read a new frame:  False\n"
     ]
    }
   ],
   "source": [
    "# provide path to video\n",
    "vid_path = 'videos/BM5xwjkw7rI_150_152.mp4'\n",
    "vid_name = vid_path.split('/')[1].split('.')[0]\n",
    "\n",
    "# read video frames\n",
    "vidcap = cv2.VideoCapture(vid_path)\n",
    "success,image = vidcap.read()\n",
    "\n",
    "# make directory for frames, using name of the video\n",
    "dir = os.mkdir(vid_name)\n",
    "\n",
    "count = 0\n",
    "while success:\n",
    "\n",
    "    # save frame as JPEG file to directory\n",
    "    file_name = str(count).zfill(6)\n",
    "    cv2.imwrite(f\"{vid_name}/{file_name}.jpg\", image)          \n",
    "    success,image = vidcap.read()\n",
    "    print('Read a new frame: ', success)\n",
    "    count += 1"
   ]
  }
 ],
 "metadata": {
  "kernelspec": {
   "display_name": "Python 3.9.13 ('dsbasic')",
   "language": "python",
   "name": "python3"
  },
  "language_info": {
   "codemirror_mode": {
    "name": "ipython",
    "version": 3
   },
   "file_extension": ".py",
   "mimetype": "text/x-python",
   "name": "python",
   "nbconvert_exporter": "python",
   "pygments_lexer": "ipython3",
   "version": "3.9.13"
  },
  "orig_nbformat": 4,
  "vscode": {
   "interpreter": {
    "hash": "ba6b70012bb1886e671e644fad58c5bb2ecea54d2fb7ca838b4cfe439afad372"
   }
  }
 },
 "nbformat": 4,
 "nbformat_minor": 2
}
