{
 "cells": [
  {
   "cell_type": "code",
   "execution_count": 23,
   "metadata": {},
   "outputs": [],
   "source": [
    "import time\n",
    "import json \n",
    "from datetime import datetime"
   ]
  },
  {
   "cell_type": "code",
   "execution_count": 2,
   "metadata": {},
   "outputs": [],
   "source": [
    "#fill_dict = {}"
   ]
  },
  {
   "cell_type": "code",
   "execution_count": 32,
   "metadata": {},
   "outputs": [],
   "source": [
    "#####################################################################################\n",
    "# ALWAYS UPDATE DICT PATH ###########################################################\n",
    "#####################################################################################\n",
    "fill_dict_path = '../../data/survai_data/var_annot_jsons/17-03-2022-16_23_40_master.json'\n",
    "\n",
    "\n",
    "all_possible_annotations = ['brawling', 'br', 'arresting', 'ar', 'pepper spray', 'ps', 'striking', \n",
    "'st', 'advancing', 'ad', 'crowd', 'cr', 'running', 'ru', 'person on ground', 'pg', 'blood', 'bl', 'throwing', 'th', 'aiming', 'am', 'pointing', 'po' ]\n",
    "\n",
    "value_pairs = {'br': 'brawling', 'ar': 'arresting', 'ps': 'spray', 'st': 'striking', 'ad': 'advancing', 'cr': 'crowd', 'ru': 'running', 'pg': 'person on ground', 'bl': 'blood', 'th': 'throwing', 'am+': 'aiming', 'po': 'person pointing'} \n"
   ]
  },
  {
   "cell_type": "code",
   "execution_count": 35,
   "metadata": {},
   "outputs": [
    {
     "name": "stdout",
     "output_type": "stream",
     "text": [
      "Current video: https://www.youtube.com/watch?v=5jzHi6Xs0Qc\n",
      "annot_1: am\n",
      "annot_1 segment: 0:03, 0:06\n"
     ]
    }
   ],
   "source": [
    "with open(fill_dict_path) as json_file:\n",
    "    fill_dict = json.load(json_file)\n",
    "\n",
    "\n",
    "# begin application that can generate json objects compatible with kinetics400 dataset give a video url\n",
    "while True:\n",
    "    vid_url = input(\"enter full url of youtube video, or enter d to save & exit\")\n",
    "    list_url = vid_url.split('&list')\n",
    "    newvid_url = list_url[0]\n",
    "\n",
    "\n",
    "\n",
    "    if newvid_url == '':\n",
    "        continue\n",
    "    if newvid_url == 'd':\n",
    "        break\n",
    "\n",
    "    # generate key for dict\n",
    "    vid_strs = newvid_url.split(\"=\")\n",
    "    vid_key = vid_strs[-1]\n",
    "    \n",
    "    time.sleep(1)\n",
    "    print(f\"Current video: {newvid_url}\")\n",
    "\n",
    "    i = 1\n",
    "\n",
    "    # Begin collecting annotations for the video\n",
    "    while True:\n",
    "        user_annotation = input(\"Add annotation (label), or enter 'x' to delete an annot, enter 'd' if done with video\")\n",
    "        \n",
    "        if newvid_url == '':\n",
    "            continue\n",
    "\n",
    "        if user_annotation == \"d\":\n",
    "            now = datetime.now()\n",
    "            dt_string = now.strftime(\"%d-%m-%Y-%H_%M_%S\")\n",
    "            with open(f\"../../data/survai_data/var_annot_jsons/{dt_string}.json\", \"w\") as outfile:\n",
    "                json.dump(fill_dict, outfile)\n",
    "            break\n",
    "\n",
    "        #create unique key id\n",
    "        new_vid_key = vid_key + str(i)\n",
    "        \n",
    "        #if label is valid\n",
    "        if user_annotation in all_possible_annotations:\n",
    "            print(f'annot_{i}: {user_annotation}')\n",
    "            \n",
    "            user_segment = input(\"enter segment (ex: 1:12, 1:20)\")\n",
    "            print(f\"annot_{i} segment: {user_segment}\")\n",
    "\n",
    "            \n",
    "            \n",
    "            if user_segment == '':\n",
    "                continue\n",
    "                    \n",
    "           \n",
    "          \n",
    "            #convert time to total seconds\n",
    "            try:\n",
    "                user_segment = user_segment.replace(\",\", \"\")\n",
    "                time_list = user_segment.split(' ')\n",
    "                time_list = [item.split(\":\") for item in time_list]\n",
    "                time_list[0][0] = float(time_list[0][0]) * 60\n",
    "                time_list[1][0] = float(time_list[1][0]) * 60\n",
    "                time_list[0][1] = float(time_list[0][1])\n",
    "                time_list[1][1] = float(time_list[1][1])\n",
    "                time_listl = time_list[0][0] + float(time_list[0][1])\n",
    "                time_listr = time_list[1][0] + float(time_list[1][1])\n",
    "                duration = time_listr - time_listl\n",
    "\n",
    "                #converting label abreviations to full word\n",
    "                if user_annotation in value_pairs.keys():\n",
    "                        user_annotation = value_pairs[user_annotation]\n",
    "\n",
    "                \n",
    "                fill_dict[new_vid_key] = {}\n",
    "                fill_dict[new_vid_key]['annotations'] = {'label': user_annotation, 'segment': [time_listl, time_listr]}\n",
    "                fill_dict[new_vid_key]['duration'] = duration\n",
    "                fill_dict[new_vid_key]['subset'] = 'train'\n",
    "                fill_dict[new_vid_key]['url'] = newvid_url\n",
    "                fill_dict[new_vid_key]['tags'] = {\"clarity_level\": \"\", \"bad_egg\": False}\n",
    "\n",
    "                i += 1\n",
    "\n",
    "            except:\n",
    "                print(\"INCORRECT ENTRY - RETRYING\")\n",
    "                continue\n",
    "            \n",
    "           \n",
    "\n",
    "        elif user_annotation == \"x\":\n",
    "            annot_to_delete = input(\"what annot do you want to delete? (ex: annot_1), Or enter x to cancel\")\n",
    "\n",
    "            if annot_to_delete == '':\n",
    "                continue\n",
    "\n",
    "            if annot_to_delete == 'x':\n",
    "                continue\n",
    "\n",
    "            else:\n",
    "                print(f'{annot_to_delete}, DELETED')\n",
    "                #fix\n",
    "                ind = annot_to_delete[-1:]\n",
    "                fill_dict.pop(vid_key+ind)               \n",
    "                continue\n",
    "\n",
    "        else:\n",
    "            continue"
   ]
  }
 ],
 "metadata": {
  "kernelspec": {
   "display_name": "Python 3.8.10 64-bit",
   "language": "python",
   "name": "python3"
  },
  "language_info": {
   "codemirror_mode": {
    "name": "ipython",
    "version": 3
   },
   "file_extension": ".py",
   "mimetype": "text/x-python",
   "name": "python",
   "nbconvert_exporter": "python",
   "pygments_lexer": "ipython3",
   "version": "3.8.10"
  },
  "orig_nbformat": 4,
  "vscode": {
   "interpreter": {
    "hash": "916dbcbb3f70747c44a77c7bcd40155683ae19c65e1c03b4aa3499c5328201f1"
   }
  }
 },
 "nbformat": 4,
 "nbformat_minor": 2
}
