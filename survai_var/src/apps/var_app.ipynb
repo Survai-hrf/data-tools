{
 "cells": [
  {
   "cell_type": "code",
   "execution_count": 93,
   "metadata": {},
   "outputs": [],
   "source": [
    "import time\n",
    "import os\n",
    "from dotenv import load_dotenv, find_dotenv\n",
    "load_dotenv(find_dotenv())\n",
    "from supabase import create_client"
   ]
  },
  {
   "cell_type": "code",
   "execution_count": 102,
   "metadata": {},
   "outputs": [],
   "source": [
    "# Connect to database\n",
    "url = os.environ.get(\"SUPABASE_URL\")\n",
    "key = os.environ.get(\"SUPABASE_KEY\")\n",
    "client = create_client(url, key)\n",
    "\n",
    "email = 'jackson.shinpaugh@gmail.com'\n",
    "password = 'Zestymeatloaf1'\n",
    "user = client.auth.sign_in(email=email, password=password)"
   ]
  },
  {
   "cell_type": "code",
   "execution_count": 103,
   "metadata": {},
   "outputs": [],
   "source": [
    "# All possible entries\n",
    "all_possible_annotations = ['brawling', 'br', 'restraining', 're', 'pepper spray', 'ps', 'striking', \n",
    "                            'st', 'advancing', 'ad', 'crowd', 'cr', 'running', 'ru', 'person on ground', 'pg', \n",
    "                            'blood', 'bl', 'throwing', 'th', 'aiming', 'am', 'pointing', 'po', 'nothing', 'no']\n",
    "\n",
    "value_pairs = {'br': 'brawling', 're': 'restraining', 'ps': 'spray', 'st': 'striking', 'ad': 'advancing', \n",
    "                'cr': 'crowd', 'ru': 'running', 'pg': 'person on ground', 'bl': 'blood', \n",
    "                'th': 'throwing', 'am': 'aiming', 'po': 'person pointing', 'nothing': 'no'} \n",
    "\n",
    "clarity_options = ['easy', 'medium', 'hard']"
   ]
  },
  {
   "cell_type": "code",
   "execution_count": 105,
   "metadata": {},
   "outputs": [
    {
     "name": "stdout",
     "output_type": "stream",
     "text": [
      "URL ALREADY USED\n"
     ]
    }
   ],
   "source": [
    "# enter user id\n",
    "user_id = input('enter user id: ')\n",
    "\n",
    "# begin application that updates database\n",
    "while True:\n",
    "   \n",
    "    vid_url = input(\"enter full url of youtube video, or enter d to save & exit\")\n",
    "    list_url = vid_url.split('&list')\n",
    "    newvid_url = list_url[0]\n",
    "\n",
    "    # check if url is already in table\n",
    "    existing_urls = list(client.table('urls').select('url').execute())[0][1]\n",
    "    url_search = next((item for item in existing_urls if item[\"url\"] == newvid_url), None)\n",
    "    if url_search is not None:\n",
    "        print('URL ALREADY USED')\n",
    "        continue\n",
    "\n",
    "    # generate key for dict\n",
    "    vid_strs = newvid_url.split(\"=\")\n",
    "    vid_key = vid_strs[-1]\n",
    "    \n",
    "    if newvid_url == 'd': break\n",
    "    \n",
    "    # update urls table with new url\n",
    "    client.table('urls').insert({'url': newvid_url, 'youtube_id': vid_key}).execute()\n",
    "\n",
    "    if newvid_url == '': continue\n",
    "\n",
    "    time.sleep(1)\n",
    "    print(f\"Current video: {newvid_url}\")\n",
    "\n",
    "    i = 1\n",
    "    \n",
    "\n",
    "    # Begin collecting annotations for the video\n",
    "    while True:\n",
    "        user_annotation = input(\"Add annotation (label), or enter 'x' to delete an annot, enter 'd' if done with video\")\n",
    "        \n",
    "        if newvid_url == '': continue\n",
    "        if user_annotation == \"d\": break\n",
    "        \n",
    "        clarity_level = input('Input clarity level (easy, medium, hard)')\n",
    "        if clarity_level not in clarity_options:\n",
    "            print('INCORRECT ENTRY - RETRY')\n",
    "            continue\n",
    "        \n",
    "        #create unique key id\n",
    "        new_vid_key = vid_key + str(i)\n",
    "        \n",
    "        #if label is valid\n",
    "        if user_annotation in all_possible_annotations:\n",
    "            print(f'annot_{i}: {user_annotation}')\n",
    "            \n",
    "            user_segment = input(\"enter segment (ex: 1:12, 1:20)\")\n",
    "            print(f\"annot_{i} segment: {user_segment}\")\n",
    "\n",
    "            if user_segment == '': continue\n",
    "\n",
    "            try:\n",
    "                #convert time to total seconds\n",
    "                user_segment = user_segment.replace(\",\", \"\")\n",
    "                time_list = user_segment.split(' ')\n",
    "                time_list = [item.split(\":\") for item in time_list]\n",
    "                time_list[0][0] = float(time_list[0][0]) * 60\n",
    "                time_list[1][0] = float(time_list[1][0]) * 60\n",
    "                time_list[0][1] = float(time_list[0][1])\n",
    "                time_list[1][1] = float(time_list[1][1])\n",
    "                time_listl = time_list[0][0] + float(time_list[0][1])\n",
    "                time_listr = time_list[1][0] + float(time_list[1][1])\n",
    "\n",
    "                #convert label abreviations to full word\n",
    "                if user_annotation in value_pairs.keys():\n",
    "                    user_annotation = value_pairs[user_annotation]\n",
    "                \n",
    "                # fill in with sql queries to update var_data table\n",
    "                client.table('var_data').insert({'id': new_vid_key, 'label': user_annotation, \n",
    "                                                'time_start': time_listl, 'time_end': time_listr,\n",
    "                                                'clarity_level': clarity_level, 'youtube_id': vid_key,\n",
    "                                                'user_id': user_id}).execute()\n",
    "                \n",
    "                i += 1\n",
    "            \n",
    "            except:\n",
    "                print(\"INCORRECT ENTRY - RETRYING\")\n",
    "                continue\n",
    "        \n",
    "        elif user_annotation == \"x\":\n",
    "            annot_to_delete = input(\"what annot do you want to delete? (ex: annot_1), Or enter x to cancel\")\n",
    "\n",
    "            if annot_to_delete == '': continue\n",
    "\n",
    "            if annot_to_delete == 'x': continue\n",
    "\n",
    "            else:\n",
    "                print(f'{annot_to_delete}, DELETED')\n",
    "                ind = annot_to_delete[-1:]\n",
    "                # delete row from var_data table\n",
    "                client.table('var_data').delete().eq('id', vid_key+ind).execute()               \n",
    "                continue\n",
    "\n",
    "        else:\n",
    "            continue   \n"
   ]
  }
 ],
 "metadata": {
  "interpreter": {
   "hash": "7f0d9b29d3abf450bf16b2b0a1c26e44348ebdbb4c4f2d61ade5ad73213c2959"
  },
  "kernelspec": {
   "display_name": "Python 3.9.7 ('dsbasic')",
   "language": "python",
   "name": "python3"
  },
  "language_info": {
   "codemirror_mode": {
    "name": "ipython",
    "version": 3
   },
   "file_extension": ".py",
   "mimetype": "text/x-python",
   "name": "python",
   "nbconvert_exporter": "python",
   "pygments_lexer": "ipython3",
   "version": "3.9.7"
  },
  "orig_nbformat": 4,
  "vscode": {
   "interpreter": {
    "hash": "916dbcbb3f70747c44a77c7bcd40155683ae19c65e1c03b4aa3499c5328201f1"
   }
  }
 },
 "nbformat": 4,
 "nbformat_minor": 2
}
