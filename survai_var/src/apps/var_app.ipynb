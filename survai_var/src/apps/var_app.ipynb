{
 "cells": [
  {
   "cell_type": "code",
<<<<<<< HEAD
   "execution_count": 112,
=======
   "execution_count": 10,
>>>>>>> 3e583ac3aea71d068ac170fa6f36b82bc5d005b2
   "metadata": {},
   "outputs": [],
   "source": [
    "import time\n",
    "import os\n",
    "from dotenv import load_dotenv, find_dotenv\n",
    "load_dotenv(find_dotenv())\n",
<<<<<<< HEAD
    "from supabase import create_client\n",
    "from datetime import date\n",
    "from google.cloud import storage\n",
    "from pytube import YouTube\n",
    "from moviepy.video.io.ffmpeg_tools import ffmpeg_extract_subclip\n"
=======
    "from supabase import create_client"
>>>>>>> 3e583ac3aea71d068ac170fa6f36b82bc5d005b2
   ]
  },
  {
   "cell_type": "code",
<<<<<<< HEAD
   "execution_count": 113,
   "metadata": {},
   "outputs": [],
   "source": [
    "# Connect to database\n",
    "url = os.environ.get(\"SUPABASE_URL\")\n",
    "key = os.environ.get(\"SUPABASE_KEY\")\n",
    "email = os.environ.get(\"EMAIL\")\n",
    "password = os.environ.get(\"PASSWORD\")\n",
    "\n",
    "client = create_client(url, key)\n",
    "user = client.auth.sign_in(email=email, password=password)"
   ]
  },
  {
   "cell_type": "code",
   "execution_count": 114,
   "metadata": {},
   "outputs": [],
   "source": [
    "# connect to gcloud bucket\n",
    "os.environ['GOOGLE_APPLICATION_CREDENTIALS'] = 'survai-data-connect.json'\n",
    "storage_client = storage.Client()\n",
    "bucket_name = 'survai-dataset'\n",
    "bucket = storage_client.bucket(bucket_name)"
   ]
  },
  {
   "cell_type": "code",
   "execution_count": 115,
   "metadata": {},
   "outputs": [],
   "source": [
    "# All possible entries\n",
    "all_possible_annotations = ['brawling', 'br', 'restraining', 're', 'pepper spray', 'ps', 'striking', \n",
    "                            'st', 'advancing', 'ad', 'crowd', 'cr', 'running', 'ru', 'person on ground', 'pg', \n",
    "                            'blood', 'bl', 'throwing', 'th', 'aiming', 'am', 'pointing', 'po', 'nothing', 'no']\n",
    "\n",
    "value_pairs = {'br': 'brawling', 're': 'restraining', 'ps': 'spray', 'st': 'striking', 'ad': 'advancing', \n",
    "                'cr': 'crowd', 'ru': 'running', 'pg': 'person on ground', 'bl': 'blood', \n",
    "                'th': 'throwing', 'am': 'aiming', 'po': 'person pointing', 'no': 'nothing'} \n",
    "\n",
    "clarity_options = ['easy', 'medium', 'hard']\n",
    "\n",
    "var_data = 'var_data'\n",
    "urls = 'urls'\n",
    "has_dash = False"
   ]
  },
  {
   "cell_type": "code",
   "execution_count": 116,
   "metadata": {},
   "outputs": [],
   "source": [
    "def upload_to_bucket(blob_name, file_path, bucket_name):\n",
    "    '''uploads video clip to appropriate folder in gcloud'''\n",
    "    try:\n",
    "        bucket = storage_client.get_bucket(bucket_name)\n",
    "        blob = bucket.blob(blob_name)\n",
    "        blob.upload_from_filename(file_path)\n",
    "    except Exception as e:\n",
    "        print(e)"
   ]
  },
  {
   "cell_type": "code",
   "execution_count": 117,
=======
   "execution_count": 13,
>>>>>>> 3e583ac3aea71d068ac170fa6f36b82bc5d005b2
   "metadata": {},
   "outputs": [
    {
     "name": "stdout",
     "output_type": "stream",
     "text": [
<<<<<<< HEAD
      "Current video: https://www.youtube.com/watch?v=amKat_bOZTk\n",
      "annot_1: no\n",
      "annot_1: easy\n",
      "annot_1 segment: 0:12, 0:14\n",
      "Moviepy - Running:\n",
      ">>> \"+ \" \".join(cmd)\n",
      "Moviepy - Command successful\n"
     ]
    },
    {
     "ename": "NameError",
     "evalue": "name 'has_dash' is not defined",
     "output_type": "error",
     "traceback": [
      "\u001b[1;31m---------------------------------------------------------------------------\u001b[0m",
      "\u001b[1;31mNameError\u001b[0m                                 Traceback (most recent call last)",
      "\u001b[1;32m~\\AppData\\Local\\Temp/ipykernel_15576/722240960.py\u001b[0m in \u001b[0;36m<module>\u001b[1;34m\u001b[0m\n\u001b[0;32m    107\u001b[0m             \u001b[0mos\u001b[0m\u001b[1;33m.\u001b[0m\u001b[0mremove\u001b[0m\u001b[1;33m(\u001b[0m\u001b[1;34mf'{new_vid_key}.mp4'\u001b[0m\u001b[1;33m)\u001b[0m\u001b[1;33m\u001b[0m\u001b[1;33m\u001b[0m\u001b[0m\n\u001b[0;32m    108\u001b[0m \u001b[1;33m\u001b[0m\u001b[0m\n\u001b[1;32m--> 109\u001b[1;33m             \u001b[1;32mif\u001b[0m \u001b[0mhas_dash\u001b[0m \u001b[1;33m==\u001b[0m \u001b[1;32mTrue\u001b[0m\u001b[1;33m:\u001b[0m\u001b[1;33m\u001b[0m\u001b[1;33m\u001b[0m\u001b[0m\n\u001b[0m\u001b[0;32m    110\u001b[0m                 os.rename(f'{new_vid_key}_{fill_start}_{fill_end}.mp4', \n\u001b[0;32m    111\u001b[0m                             f'-{new_vid_key}_{fill_start}_{fill_end}.mp4')\n",
      "\u001b[1;31mNameError\u001b[0m: name 'has_dash' is not defined"
=======
      "mdenis179@gmail.com\n"
     ]
    },
    {
     "ename": "APIError",
     "evalue": "",
     "output_type": "error",
     "traceback": [
      "\u001b[1;31m---------------------------------------------------------------------------\u001b[0m",
      "\u001b[1;31mHTTPStatusError\u001b[0m                           Traceback (most recent call last)",
      "File \u001b[1;32mc:\\Users\\mdeni\\Miniconda3\\envs\\dsbasic\\lib\\site-packages\\gotrue\\helpers.py:16\u001b[0m, in \u001b[0;36mcheck_response\u001b[1;34m(response)\u001b[0m\n\u001b[0;32m     15\u001b[0m \u001b[39mtry\u001b[39;00m:\n\u001b[1;32m---> 16\u001b[0m     response\u001b[39m.\u001b[39;49mraise_for_status()\n\u001b[0;32m     17\u001b[0m \u001b[39mexcept\u001b[39;00m HTTPError:\n",
      "File \u001b[1;32mc:\\Users\\mdeni\\Miniconda3\\envs\\dsbasic\\lib\\site-packages\\httpx\\_models.py:1508\u001b[0m, in \u001b[0;36mResponse.raise_for_status\u001b[1;34m(self)\u001b[0m\n\u001b[0;32m   1507\u001b[0m message \u001b[39m=\u001b[39m message\u001b[39m.\u001b[39mformat(\u001b[39mself\u001b[39m, error_type\u001b[39m=\u001b[39merror_type)\n\u001b[1;32m-> 1508\u001b[0m \u001b[39mraise\u001b[39;00m HTTPStatusError(message, request\u001b[39m=\u001b[39mrequest, response\u001b[39m=\u001b[39m\u001b[39mself\u001b[39m)\n",
      "\u001b[1;31mHTTPStatusError\u001b[0m: Client error '400 Bad Request' for url 'https://gcqjfsaovvyvuedsquli.supabase.co//auth/v1/token?grant_type=password'\nFor more information check: https://httpstatuses.com/400",
      "\nDuring handling of the above exception, another exception occurred:\n",
      "\u001b[1;31mAPIError\u001b[0m                                  Traceback (most recent call last)",
      "\u001b[1;32mc:\\code\\data-tools\\survai_var\\src\\apps\\var_app.ipynb Cell 3\u001b[0m in \u001b[0;36m<cell line: 9>\u001b[1;34m()\u001b[0m\n\u001b[0;32m      <a href='vscode-notebook-cell:/c%3A/code/data-tools/survai_var/src/apps/var_app.ipynb#ch0000001?line=5'>6</a>\u001b[0m client \u001b[39m=\u001b[39m create_client(url, key)\n\u001b[0;32m      <a href='vscode-notebook-cell:/c%3A/code/data-tools/survai_var/src/apps/var_app.ipynb#ch0000001?line=6'>7</a>\u001b[0m \u001b[39mprint\u001b[39m(email)\n\u001b[1;32m----> <a href='vscode-notebook-cell:/c%3A/code/data-tools/survai_var/src/apps/var_app.ipynb#ch0000001?line=8'>9</a>\u001b[0m user \u001b[39m=\u001b[39m client\u001b[39m.\u001b[39;49mauth\u001b[39m.\u001b[39;49msign_in(email\u001b[39m=\u001b[39;49memail, password\u001b[39m=\u001b[39;49mpassword)\n",
      "File \u001b[1;32mc:\\Users\\mdeni\\Miniconda3\\envs\\dsbasic\\lib\\site-packages\\gotrue\\_sync\\client.py:210\u001b[0m, in \u001b[0;36mSyncGoTrueClient.sign_in\u001b[1;34m(self, email, phone, password, refresh_token, provider, redirect_to, scopes, create_user)\u001b[0m\n\u001b[0;32m    208\u001b[0m \u001b[39mif\u001b[39;00m email:\n\u001b[0;32m    209\u001b[0m     \u001b[39mif\u001b[39;00m password:\n\u001b[1;32m--> 210\u001b[0m         response \u001b[39m=\u001b[39m \u001b[39mself\u001b[39;49m\u001b[39m.\u001b[39;49m_handle_email_sign_in(\n\u001b[0;32m    211\u001b[0m             email\u001b[39m=\u001b[39;49memail,\n\u001b[0;32m    212\u001b[0m             password\u001b[39m=\u001b[39;49mpassword,\n\u001b[0;32m    213\u001b[0m             redirect_to\u001b[39m=\u001b[39;49mredirect_to,\n\u001b[0;32m    214\u001b[0m         )\n\u001b[0;32m    215\u001b[0m     \u001b[39melse\u001b[39;00m:\n\u001b[0;32m    216\u001b[0m         response \u001b[39m=\u001b[39m \u001b[39mself\u001b[39m\u001b[39m.\u001b[39mapi\u001b[39m.\u001b[39msend_magic_link_email(\n\u001b[0;32m    217\u001b[0m             email\u001b[39m=\u001b[39memail, create_user\u001b[39m=\u001b[39mcreate_user\n\u001b[0;32m    218\u001b[0m         )\n",
      "File \u001b[1;32mc:\\Users\\mdeni\\Miniconda3\\envs\\dsbasic\\lib\\site-packages\\gotrue\\_sync\\client.py:508\u001b[0m, in \u001b[0;36mSyncGoTrueClient._handle_email_sign_in\u001b[1;34m(self, email, password, redirect_to)\u001b[0m\n\u001b[0;32m    500\u001b[0m \u001b[39mdef\u001b[39;00m \u001b[39m_handle_email_sign_in\u001b[39m(\n\u001b[0;32m    501\u001b[0m     \u001b[39mself\u001b[39m,\n\u001b[0;32m    502\u001b[0m     \u001b[39m*\u001b[39m,\n\u001b[1;32m   (...)\u001b[0m\n\u001b[0;32m    505\u001b[0m     redirect_to: Optional[\u001b[39mstr\u001b[39m],\n\u001b[0;32m    506\u001b[0m ) \u001b[39m-\u001b[39m\u001b[39m>\u001b[39m Session:\n\u001b[0;32m    507\u001b[0m     \u001b[39m\"\"\"Sign in with email and password.\"\"\"\u001b[39;00m\n\u001b[1;32m--> 508\u001b[0m     response \u001b[39m=\u001b[39m \u001b[39mself\u001b[39;49m\u001b[39m.\u001b[39;49mapi\u001b[39m.\u001b[39;49msign_in_with_email(\n\u001b[0;32m    509\u001b[0m         email\u001b[39m=\u001b[39;49memail,\n\u001b[0;32m    510\u001b[0m         password\u001b[39m=\u001b[39;49mpassword,\n\u001b[0;32m    511\u001b[0m         redirect_to\u001b[39m=\u001b[39;49mredirect_to,\n\u001b[0;32m    512\u001b[0m     )\n\u001b[0;32m    513\u001b[0m     \u001b[39mself\u001b[39m\u001b[39m.\u001b[39m_save_session(session\u001b[39m=\u001b[39mresponse)\n\u001b[0;32m    514\u001b[0m     \u001b[39mself\u001b[39m\u001b[39m.\u001b[39m_notify_all_subscribers(event\u001b[39m=\u001b[39mAuthChangeEvent\u001b[39m.\u001b[39mSIGNED_IN)\n",
      "File \u001b[1;32mc:\\Users\\mdeni\\Miniconda3\\envs\\dsbasic\\lib\\site-packages\\gotrue\\_sync\\api.py:178\u001b[0m, in \u001b[0;36mSyncGoTrueAPI.sign_in_with_email\u001b[1;34m(self, email, password, redirect_to)\u001b[0m\n\u001b[0;32m    176\u001b[0m url \u001b[39m=\u001b[39m \u001b[39mf\u001b[39m\u001b[39m\"\u001b[39m\u001b[39m{\u001b[39;00m\u001b[39mself\u001b[39m\u001b[39m.\u001b[39murl\u001b[39m}\u001b[39;00m\u001b[39m/token\u001b[39m\u001b[39m{\u001b[39;00mquery_string\u001b[39m}\u001b[39;00m\u001b[39m\"\u001b[39m\n\u001b[0;32m    177\u001b[0m response \u001b[39m=\u001b[39m \u001b[39mself\u001b[39m\u001b[39m.\u001b[39mhttp_client\u001b[39m.\u001b[39mpost(url, json\u001b[39m=\u001b[39mdata, headers\u001b[39m=\u001b[39mheaders)\n\u001b[1;32m--> 178\u001b[0m \u001b[39mreturn\u001b[39;00m Session\u001b[39m.\u001b[39;49mparse_response(response)\n",
      "File \u001b[1;32mc:\\Users\\mdeni\\Miniconda3\\envs\\dsbasic\\lib\\site-packages\\gotrue\\types.py:26\u001b[0m, in \u001b[0;36mBaseModelFromResponse.parse_response\u001b[1;34m(cls, response)\u001b[0m\n\u001b[0;32m     24\u001b[0m \u001b[39m@classmethod\u001b[39m\n\u001b[0;32m     25\u001b[0m \u001b[39mdef\u001b[39;00m \u001b[39mparse_response\u001b[39m(\u001b[39mcls\u001b[39m: Type[T], response: Response) \u001b[39m-\u001b[39m\u001b[39m>\u001b[39m T:\n\u001b[1;32m---> 26\u001b[0m     check_response(response)\n\u001b[0;32m     27\u001b[0m     \u001b[39mreturn\u001b[39;00m \u001b[39mcls\u001b[39m\u001b[39m.\u001b[39mparse_obj(response\u001b[39m.\u001b[39mjson())\n",
      "File \u001b[1;32mc:\\Users\\mdeni\\Miniconda3\\envs\\dsbasic\\lib\\site-packages\\gotrue\\helpers.py:18\u001b[0m, in \u001b[0;36mcheck_response\u001b[1;34m(response)\u001b[0m\n\u001b[0;32m     16\u001b[0m     response\u001b[39m.\u001b[39mraise_for_status()\n\u001b[0;32m     17\u001b[0m \u001b[39mexcept\u001b[39;00m HTTPError:\n\u001b[1;32m---> 18\u001b[0m     \u001b[39mraise\u001b[39;00m APIError\u001b[39m.\u001b[39mfrom_dict(response\u001b[39m.\u001b[39mjson())\n",
      "\u001b[1;31mAPIError\u001b[0m: "
>>>>>>> 3e583ac3aea71d068ac170fa6f36b82bc5d005b2
     ]
    }
   ],
   "source": [
<<<<<<< HEAD
    "user_email = list(client.table('users').select('email', 'id').eq('email', email).execute())[0][1]\n",
    "user_id = user_email[0]['id']\n",
    "\n",
    "date_added = str(date.today())\n",
    "\n",
=======
    "# Connect to database\n",
    "url = os.environ.get(\"SUPABASE_URL\")\n",
    "key = os.environ.get(\"SUPABASE_KEY\")\n",
    "email = os.environ.get(\"EMAIL\")\n",
    "password = os.environ.get(\"PASSWORD\")\n",
    "client = create_client(url, key)\n",
    "\n",
    "user = client.auth.sign_in(email=email, password=password)"
   ]
  },
  {
   "cell_type": "code",
   "execution_count": 103,
   "metadata": {},
   "outputs": [],
   "source": [
    "# All possible entries\n",
    "all_possible_annotations = ['brawling', 'br', 'restraining', 're', 'pepper spray', 'ps', 'striking', \n",
    "                            'st', 'advancing', 'ad', 'crowd', 'cr', 'running', 'ru', 'person on ground', 'pg', \n",
    "                            'blood', 'bl', 'throwing', 'th', 'aiming', 'am', 'pointing', 'po', 'nothing', 'no']\n",
    "\n",
    "value_pairs = {'br': 'brawling', 're': 'restraining', 'ps': 'spray', 'st': 'striking', 'ad': 'advancing', \n",
    "                'cr': 'crowd', 'ru': 'running', 'pg': 'person on ground', 'bl': 'blood', \n",
    "                'th': 'throwing', 'am': 'aiming', 'po': 'person pointing', 'nothing': 'no'} \n",
    "\n",
    "clarity_options = ['easy', 'medium', 'hard']"
   ]
  },
  {
   "cell_type": "code",
   "execution_count": 105,
   "metadata": {},
   "outputs": [
    {
     "name": "stdout",
     "output_type": "stream",
     "text": [
      "URL ALREADY USED\n"
     ]
    }
   ],
   "source": [
    "# enter user id\n",
    "user_id = input('enter user id: ')\n",
    "\n",
>>>>>>> 3e583ac3aea71d068ac170fa6f36b82bc5d005b2
    "# begin application that updates database\n",
    "while True:\n",
    "   \n",
    "    vid_url = input(\"enter full url of youtube video, or enter d to save & exit\")\n",
    "    list_url = vid_url.split('&list')\n",
    "    newvid_url = str(list_url[0])\n",
    "\n",
<<<<<<< HEAD
    "    if newvid_url == 'd': break\n",
    "    if newvid_url == '': continue\n",
=======
    "    # check if url is already in table\n",
    "    existing_urls = list(client.table('urls').select('url').execute())[0][1]\n",
    "    url_search = next((item for item in existing_urls if item[\"url\"] == newvid_url), None)\n",
    "    if url_search is not None:\n",
    "        print('URL ALREADY USED')\n",
    "        continue\n",
>>>>>>> 3e583ac3aea71d068ac170fa6f36b82bc5d005b2
    "\n",
    "    # generate key for dict\n",
    "    vid_strs = newvid_url.split(\"=\")\n",
    "    vid_key = vid_strs[-1]\n",
<<<<<<< HEAD
    "    if len(vid_key) != 11:\n",
    "        print(\"url not entered correctly, try again\")\n",
    "        continue\n",
    "\n",
    "    # check if url is already in table\n",
    "    existing_urls = list(client.table(urls).select('url').execute())[0][1]\n",
    "    url_search = next((item for item in existing_urls if item[\"url\"] == newvid_url), None)\n",
    "    if url_search is not None:\n",
    "        print('URL ALREADY USED')\n",
    "        continue\n",
    "\n",
    "    # update urls table with new url and create url_id\n",
    "    client.table(urls).insert({'url': newvid_url, 'youtube_id': vid_key}).execute()\n",
    "    url = list(client.table(urls).select('url', 'id').eq('url', newvid_url).execute())[0][1]\n",
    "    url_id = url[0]['id'] \n",
=======
    "    \n",
    "    if newvid_url == 'd': break\n",
    "    \n",
    "    # update urls table with new url\n",
    "    client.table('urls').insert({'url': newvid_url, 'youtube_id': vid_key}).execute()\n",
    "\n",
    "    if newvid_url == '': continue\n",
>>>>>>> 3e583ac3aea71d068ac170fa6f36b82bc5d005b2
    "\n",
    "    time.sleep(1)\n",
    "    print(f\"Current video: {newvid_url}\")\n",
    "\n",
    "    i = 1\n",
    "    \n",
<<<<<<< HEAD
=======
    "\n",
>>>>>>> 3e583ac3aea71d068ac170fa6f36b82bc5d005b2
    "    # Begin collecting annotations for the video\n",
    "    while True:\n",
    "        user_annotation = input(\"Add annotation (label), or enter 'x' to delete an annot, enter 'd' if done with video\")\n",
    "        \n",
    "        if newvid_url == '': continue\n",
    "        if user_annotation == \"d\": break\n",
    "        \n",
<<<<<<< HEAD
=======
    "        clarity_level = input('Input clarity level (easy, medium, hard)')\n",
    "        if clarity_level not in clarity_options:\n",
    "            print('INCORRECT ENTRY - RETRY')\n",
    "            continue\n",
    "        \n",
>>>>>>> 3e583ac3aea71d068ac170fa6f36b82bc5d005b2
    "        #create unique key id\n",
    "        new_vid_key = vid_key + str(i)\n",
    "        \n",
    "        #if label is valid\n",
    "        if user_annotation in all_possible_annotations:\n",
    "            print(f'annot_{i}: {user_annotation}')\n",
    "\n",
    "            clarity_level = input('Input clarity level (easy, medium, hard)')\n",
    "            print(f'annot_{i}: {clarity_level}')\n",
    "\n",
    "            if clarity_level not in clarity_options:\n",
    "                print('INCORRECT ENTRY - RETRY')\n",
    "                continue\n",
    "            \n",
    "            user_segment = input(\"enter segment (ex: 1:12, 1:20)\")\n",
    "            print(f\"annot_{i} segment: {user_segment}\")\n",
    "\n",
    "            if user_segment == '': continue\n",
    "\n",
    "            try:\n",
    "                #convert time to total seconds\n",
    "                user_segment = user_segment.replace(\",\", \"\")\n",
    "                time_list = user_segment.split(' ')\n",
    "                time_list = [item.split(\":\") for item in time_list]\n",
    "                time_list[0][0] = float(time_list[0][0]) * 60\n",
    "                time_list[1][0] = float(time_list[1][0]) * 60\n",
    "                time_list[0][1] = float(time_list[0][1])\n",
    "                time_list[1][1] = float(time_list[1][1])\n",
<<<<<<< HEAD
    "                time_start = time_list[0][0] + float(time_list[0][1])\n",
    "                time_end = time_list[1][0] + float(time_list[1][1])\n",
    "                fill_start = str(int(time_start)).zfill(6)\n",
    "                fill_end = str(int(time_end)).zfill(6)\n",
    "\n",
    "            except Exception as e:\n",
    "                print(e)\n",
    "                print(\"INCORRECT ENTRY - RETRYING\")\n",
    "                continue\n",
    "\n",
    "            #convert label abreviations to full word\n",
    "            if user_annotation in value_pairs.keys():\n",
    "                user_annotation = value_pairs[user_annotation]\n",
    "            \n",
    "            # fill in with sql queries to update var_data table\n",
    "            client.table(var_data).insert({'id': new_vid_key, 'label': user_annotation, \n",
    "                                            'time_start': time_start, 'time_end': time_end,\n",
    "                                            'clarity_level': clarity_level, 'youtube_id': vid_key,\n",
    "                                            'user_id': user_id, 'date_added': date_added, 'url_id': url_id}).execute()\n",
    "\n",
    "            # upload to gcloud\n",
    "            video = YouTube(newvid_url, use_oauth=True, allow_oauth_cache=True) \n",
    "            yt_video = video.streams.get_highest_resolution()\n",
    "            yt_video.download(output_path='', filename=f\"{new_vid_key}.mp4\")\n",
    "\n",
    "            if new_vid_key[0] == '-':\n",
    "                has_dash = True\n",
    "                os.rename(f'{new_vid_key}.mp4', f'{new_vid_key[1:]}.mp4')\n",
    "                new_vid_key = new_vid_key[1:]\n",
    "\n",
    "            ffmpeg_extract_subclip(filename=f'{new_vid_key}.mp4', t1=time_start, t2=time_end, \n",
    "                                    targetname=f'{new_vid_key}_{fill_start}_{fill_end}.mp4') \n",
    "            os.remove(f'{new_vid_key}.mp4')\n",
    "\n",
    "            if has_dash == True:\n",
    "                os.rename(f'{new_vid_key}_{fill_start}_{fill_end}.mp4', \n",
    "                            f'-{new_vid_key}_{fill_start}_{fill_end}.mp4')\n",
    "                new_vid_key = '-' + new_vid_key\n",
    "                has_dash = False\n",
    "\n",
    "            upload_to_bucket(f'datasets/var/master_videos/{user_annotation}/{new_vid_key}_{fill_start}_{fill_end}.mp4', \n",
    "                            f\"{new_vid_key}_{fill_start}_{fill_end}.mp4\", bucket_name)\n",
    "            os.remove(f\"{new_vid_key}_{fill_start}_{fill_end}.mp4\")\n",
    "            i += 1\n",
=======
    "                time_listl = time_list[0][0] + float(time_list[0][1])\n",
    "                time_listr = time_list[1][0] + float(time_list[1][1])\n",
    "\n",
    "                #convert label abreviations to full word\n",
    "                if user_annotation in value_pairs.keys():\n",
    "                    user_annotation = value_pairs[user_annotation]\n",
    "                \n",
    "                # fill in with sql queries to update var_data table\n",
    "                client.table('var_data').insert({'id': new_vid_key, 'label': user_annotation, \n",
    "                                                'time_start': time_listl, 'time_end': time_listr,\n",
    "                                                'clarity_level': clarity_level, 'youtube_id': vid_key,\n",
    "                                                'user_id': user_id}).execute()\n",
    "                \n",
    "                i += 1\n",
    "            \n",
    "            except:\n",
    "                print(\"INCORRECT ENTRY - RETRYING\")\n",
    "                continue\n",
>>>>>>> 3e583ac3aea71d068ac170fa6f36b82bc5d005b2
    "        \n",
    "        elif user_annotation == \"x\":\n",
    "            annot_to_delete = input(\"what annot do you want to delete? (ex: annot_1), Or enter x to cancel\")\n",
    "\n",
    "            if annot_to_delete == '': continue\n",
    "\n",
    "            if annot_to_delete == 'x': continue\n",
    "\n",
    "            else:\n",
    "                print(f'{annot_to_delete}, DELETED')\n",
    "                ind = annot_to_delete[-1:]\n",
<<<<<<< HEAD
    "                label = list(client.table(var_data).select('label').eq('id', vid_key+ind).execute())[0][1][0]['label']\n",
    "\n",
    "                # delete clip from gcloud\n",
    "                blob = bucket.blob(f\"datasets/var/master_videos/{label}/{vid_key+ind}_{fill_start}_{fill_end}.mp4\")\n",
    "                blob.delete()\n",
    "                print('deleted from gcloud successfully')\n",
    "\n",
    "                # delete row from var_data table\n",
    "                client.table(var_data).delete().eq('id', vid_key+ind).execute()             \n",
    "                continue\n",
    "\n",
    "        else:\n",
    "            continue   "
=======
    "                # delete row from var_data table\n",
    "                client.table('var_data').delete().eq('id', vid_key+ind).execute()               \n",
    "                continue\n",
    "\n",
    "        else:\n",
    "            continue   \n"
>>>>>>> 3e583ac3aea71d068ac170fa6f36b82bc5d005b2
   ]
  }
 ],
 "metadata": {
  "kernelspec": {
   "display_name": "Python 3.8.13 ('dsbasic')",
   "language": "python",
   "name": "python3"
  },
  "language_info": {
   "codemirror_mode": {
    "name": "ipython",
    "version": 3
   },
   "file_extension": ".py",
   "mimetype": "text/x-python",
   "name": "python",
   "nbconvert_exporter": "python",
   "pygments_lexer": "ipython3",
   "version": "3.8.13"
  },
  "orig_nbformat": 4,
  "vscode": {
   "interpreter": {
    "hash": "79a58c12407d6ba28ca12a201ed0739758fd3249c8511e1c0b8902de2990e783"
   }
  }
 },
 "nbformat": 4,
 "nbformat_minor": 2
}
