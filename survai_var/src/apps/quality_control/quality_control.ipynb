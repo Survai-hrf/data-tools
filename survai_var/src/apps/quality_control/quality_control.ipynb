{
 "cells": [
  {
   "cell_type": "code",
   "execution_count": 1,
   "metadata": {},
   "outputs": [],
   "source": [
    "from IPython.display import HTML, clear_output, YouTubeVideo, IFrame\n",
    "import json\n",
    "import time\n",
    "import pandas as pd\n",
    "import os\n",
    "from supabase import create_client\n",
    "from datetime import date\n",
    "from dotenv import load_dotenv, find_dotenv"
   ]
  },
  {
   "cell_type": "code",
   "execution_count": null,
   "metadata": {},
   "outputs": [],
   "source": [
    "# Connect to database\n",
    "url = os.environ.get(\"SUPABASE_URL\")\n",
    "key = os.environ.get(\"SUPABASE_KEY\")\n",
    "email = os.environ.get(\"EMAIL\")\n",
    "password = os.environ.get(\"PASSWORD\")\n",
    "client = create_client(url, key)\n",
    "user = client.auth.sign_in(email=email, password=password)"
   ]
  },
  {
   "cell_type": "code",
   "execution_count": null,
   "metadata": {},
   "outputs": [],
   "source": [
    "clarity_list = ['easy', 'medium', 'hard', 'bad']\n",
    "\n",
    "label = input('enter the label you want to review: ')\n",
    "\n",
    "# create list of matching labels where clarity_level is none\n",
    "clips = list(client.table('var_data').select('clarity_level', 'id', 'time_start', 'time_end', 'label').eq('clarity_level', 'none').eq('label', label).execute())[0][1]"
   ]
  },
  {
   "cell_type": "code",
   "execution_count": 4,
   "metadata": {},
   "outputs": [
    {
     "data": {
      "image/jpeg": "[encoded data removed]",
      "text/html": [
       "\n",
       "        <iframe\n",
       "            width=\"560\"\n",
       "            height=\"315\"\n",
       "            src=\"https://www.youtube.com/embed/eppIM1LWppM?start=182&end=188&autoplay=1\"\n",
       "            frameborder=\"0\"\n",
       "            allowfullscreen\n",
       "            allow=\"autoplay\"\n",
       "        ></iframe>\n",
       "        "
      ],
      "text/plain": [
       "<IPython.lib.display.YouTubeVideo at 0x7fb034742c70>"
      ]
     },
     "metadata": {},
     "output_type": "display_data"
    },
    {
     "name": "stdout",
     "output_type": "stream",
     "text": [
      "video id:  eppIM1LWppM15  start:  182  end:  188\n",
      "r = restartvid, s = change start or end time, cl = claritylevel, n = next vid, exit = exitexit\n"
     ]
    }
   ],
   "source": [
    "break_out = False\n",
    "index = 0\n",
    "\n",
    "while True:\n",
    "\n",
    "    adjusting_annot = True\n",
    "    untagged = True\n",
    "    is_changing = False\n",
    "\n",
    "    id = clips[index]['id']\n",
    "    start = clips[index]['time_start']\n",
    "    end = clips[index]['time_end']\n",
    "    clarity = clips[index]['clarity_level']\n",
    "    \n",
    "\n",
    "    if break_out == True:\n",
    "        break\n",
    "\n",
    "\n",
    "    if clarity != 'none':\n",
    "        untagged = False\n",
    "    else:\n",
    "        untagged = True \n",
    "\n",
    "\n",
    "    while adjusting_annot == True:\n",
    "\n",
    "        # play video\n",
    "        clear_output(wait=True) \n",
    "        vid = YouTubeVideo(id[0:11], start=start, end=end, allow_autoplay=True, width=560, height=315)\n",
    "        display(vid)\n",
    "\n",
    "        if is_changing == True:\n",
    "            print(f\"index:{index}/{len(clips)}\",\"label:\", label, \"start:\", time_start, \"end:\", time_end, f\"original:{start} - {end}\", \"tag:\", clarity)\n",
    "        else:\n",
    "            print(f\"index:{index}/{len(clips)}\",\"label:\", label, \"start:\", time_start, \"end:\", time_end, 'clarity level:', clarity)\n",
    "\n",
    "        #print('video id: ', id, ' start: ', start, ' end: ', end, ' clarity level: ', clarity)\n",
    "        data = input(\"r = restart vid, t = change timestamp, cl = change clarity_level, n = next vid, p = previous vid, exit = exit\")\n",
    "\n",
    "\n",
    "        # restart video\n",
    "        if data == 'r':\n",
    "            continue\n",
    "        \n",
    "\n",
    "        # change start and/or end time\n",
    "        if data == 't':\n",
    "            is_changing = True\n",
    "            time_stamp = input('enter new timestamp (2:23, 2:34): ')\n",
    "            \n",
    "            # convert time to total seconds\n",
    "            time_start = (int(time_stamp.split(',')[0].split(':')[0]) * 60) + int(time_stamp.split(',')[0].split(':')[1])\n",
    "            time_end = (int(time_stamp.split(',')[1].split(':')[0]) * 60) + int(time_stamp.split(',')[1].split(':')[1])\n",
    "\n",
    "            # insert new data into var_data\n",
    "            client.table('var_data').update({'time_start': time_start, 'time_end': time_end}).eq('id', id).execute()\n",
    "\n",
    "\n",
    "        # change label\n",
    "        if data == 'l':\n",
    "            label = input('enter label: ')\n",
    "            client.table('var_data').update({'label': label}).eq('id', id).execute()\n",
    "\n",
    "\n",
    "        # update clarity_level\n",
    "        if data == 'cl':\n",
    "            clarity = input('enter clarity_level (easy, medium, hard or bad): ')\n",
    "\n",
    "            # insert new clarity_level to var_data\n",
    "            if clarity in clarity_list:\n",
    "                client.table('var_data').update({'clarity_level': clarity}).eq('id', id).execute()\n",
    "                untagged = False\n",
    "            else:\n",
    "                print('invalid input, try again')\n",
    "                continue\n",
    "\n",
    "        \n",
    "        # go to next video\n",
    "        if data == 'n':\n",
    "            if untagged == True:\n",
    "                print('no clarity_level tag on video')\n",
    "                time.sleep(3)\n",
    "                continue\n",
    "            else:\n",
    "                # add the date to the 'reviewed' column\n",
    "                client.table('var_data').update({'reviewed': str(date.today())}).eq('id', id).execute()\n",
    "                index += 1\n",
    "                adjusting_annot = False    \n",
    "\n",
    "        \n",
    "        # go to previous video\n",
    "        if data == 'p':\n",
    "            index -= 1\n",
    "            adjusting_annot = False\n",
    "            \n",
    "\n",
    "        # exit program\n",
    "        if data == 'exit':\n",
    "            break_out = True\n",
    "            adjusting_annot = False\n",
    "            break\n"
   ]
  }
 ],
 "metadata": {
  "kernelspec": {
   "display_name": "Python 3 (ipykernel)",
   "language": "python",
   "name": "python3"
  },
  "language_info": {
   "codemirror_mode": {
    "name": "ipython",
    "version": 3
   },
   "file_extension": ".py",
   "mimetype": "text/x-python",
   "name": "python",
   "nbconvert_exporter": "python",
   "pygments_lexer": "ipython3",
   "version": "3.9.13"
  },
  "vscode": {
   "interpreter": {
    "hash": "ba6b70012bb1886e671e644fad58c5bb2ecea54d2fb7ca838b4cfe439afad372"
   }
  }
 },
 "nbformat": 4,
 "nbformat_minor": 2
}
