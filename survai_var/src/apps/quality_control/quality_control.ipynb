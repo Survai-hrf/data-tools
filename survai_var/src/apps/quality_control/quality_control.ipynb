{
 "cells": [
  {
   "cell_type": "markdown",
   "metadata": {},
   "source": [
    "# Quality Control App\n",
    "\n",
    "This app iterates through the existing videos in SurvAI's [var_data](https://app.supabase.com/project/gcqjfsaovvyvuedsquli/editor/19455?sort=index%3Adesc) database and allows you to update the label, time_start, time_end and clarity_level for each.\n",
    "\n",
    "### Running the app\n",
    "1. `pip install notebook` in your desired environment, if you haven't already.\n",
    "2. In a terminal, cd to the appropriate directory and enter `jupyter notebook quality_control.ipynb`\n",
    "3. Run the cells in order once jupyter notebook is launched.\n",
    "\n",
    "### Features\n",
    "- The third cell will prompt you for a specific label that you wish to review. This will filter the database and create a list of clips that match the specified label.\n",
    "\n",
    "- Using 'eq' functions, you can filter through whatever combination of data constraints are desired. In its current form, the list of clips will include videos that have a clarity_level 'equal to' none and a label 'equal to' the label you specify. You can add or take away as many of these constraints as you want. Eq functions can be utilized by adding, deleting or modifying the existing line of code in cell 3 that creates the list of clips. Below are specific examples of how to use the eq functions.\n",
    "\n",
    "    - examples:\n",
    "\n",
    "        1. A list of videos that have a 'clarity_level' of 'hard' --> eq('clarity_level', 'hard')\n",
    "\n",
    "        2. A list of videos that have a 'youtube_id' of 'R8vVsPCwKY4' --> eq('youtube_id', 'R8vVsPCwKY4')\n",
    "        \n",
    "        3. A list of videos that have a 'clarity_level' of 'hard' AND a 'youtube_id' of 'R8vVsPCwKY4' --> eq('clarity_level', 'hard').eq('youtube_id', 'R8vVsPCwKY4')"
   ]
  },
  {
   "cell_type": "code",
   "execution_count": 1,
   "metadata": {},
   "outputs": [
    {
     "data": {
      "text/plain": [
       "True"
      ]
     },
     "execution_count": 1,
     "metadata": {},
     "output_type": "execute_result"
    }
   ],
   "source": [
    "from IPython.display import HTML, clear_output, YouTubeVideo, IFrame\n",
    "import time\n",
    "import os\n",
    "from supabase import create_client\n",
    "import datetime\n",
    "from datetime import date\n",
    "from dotenv import load_dotenv, find_dotenv\n",
    "load_dotenv(find_dotenv())"
   ]
  },
  {
   "cell_type": "code",
   "execution_count": 2,
   "metadata": {},
   "outputs": [],
   "source": [
    "# Connect to database\n",
    "url = os.environ.get(\"SUPABASE_URL\")\n",
    "key = os.environ.get(\"SUPABASE_KEY\")\n",
    "email = os.environ.get(\"EMAIL\")\n",
    "password = os.environ.get(\"PASSWORD\")\n",
    "client = create_client(url, key)\n",
    "user = client.auth.sign_in(email=email, password=password)"
   ]
  },
  {
   "cell_type": "code",
   "execution_count": null,
   "metadata": {},
   "outputs": [],
   "source": [
    "def convert_time(time):\n",
    "    '''function to convert total seconds to hours, minutes and seconds'''\n",
    "    return str(datetime.timedelta(seconds=time))\n",
    "\n",
    "clarity_list = ['easy', 'medium', 'hard', 'bad']\n",
    "\n",
    "labels = ['brawling', 'crowd', 'restraining', 'running', 'person_on_ground', 'nothing', \n",
    "                'spray', 'striking', 'throwing', 'person_pointing', 'advancing', 'aiming']\n",
    "\n",
    "label = input('enter the label you want to review: ')\n",
    "\n",
    "# create list of clips with matching labels where clarity_level is none\n",
    "clips = list(client.table('var_data').select('clarity_level', 'id', 'time_start', 'time_end', 'label').eq('clarity_level', 'none').eq('label', label).execute())[0][1]\n",
    "clips"
   ]
  },
  {
   "cell_type": "code",
   "execution_count": 4,
   "metadata": {},
   "outputs": [
    {
     "data": {
      "image/jpeg": "[encoded data removed]",
      "text/html": [
       "\n",
       "        <iframe\n",
       "            width=\"560\"\n",
       "            height=\"315\"\n",
       "            src=\"https://www.youtube.com/embed/4Hn2FjmhP4Q?start=1352&end=1356&autoplay=1\"\n",
       "            frameborder=\"0\"\n",
       "            allowfullscreen\n",
       "            allow=\"autoplay\"\n",
       "        ></iframe>\n",
       "        "
      ],
      "text/plain": [
       "<IPython.lib.display.YouTubeVideo at 0x7f77f8bfb670>"
      ]
     },
     "metadata": {},
     "output_type": "display_data"
    },
    {
     "name": "stdout",
     "output_type": "stream",
     "text": [
      "index:3/210 , id: 4Hn2FjmhP4Q19 , label: person_pointing , timestamp: 0:22:32 - 0:22:36 , clarity level: none\n",
      "r = restart vid, t = change timestamp, cl = change clarity_level, n = next vid, p = previous vid, exit = exitexit\n"
     ]
    }
   ],
   "source": [
    "break_out = False\n",
    "index = 0\n",
    "\n",
    "while True:\n",
    "\n",
    "    id = clips[index]['id']\n",
    "    start = clips[index]['time_start']\n",
    "    end = clips[index]['time_end']\n",
    "    clarity = clips[index]['clarity_level']\n",
    "\n",
    "    adjusting_annot = True\n",
    "   \n",
    "\n",
    "    if break_out == True:\n",
    "        break\n",
    "\n",
    "    if clarity != 'none':\n",
    "        untagged = False\n",
    "    else:\n",
    "        untagged = True \n",
    "\n",
    "\n",
    "    while adjusting_annot == True:\n",
    "\n",
    "        # play video\n",
    "        clear_output(wait=True) \n",
    "        vid = YouTubeVideo(id[0:11], start=start, end=end, allow_autoplay=True, width=560, height=315)\n",
    "        display(vid)\n",
    "\n",
    "        # print data\n",
    "        print(f'index:{index}/{len(clips)}', ', id:', id,', label:', label, \n",
    "                f', timestamp: {convert_time(start)} - {convert_time(end)}', ', clarity level:', clarity)\n",
    "\n",
    "        data = input('r = restart vid, t = change timestamp, cl = change clarity_level, n = next vid, p = previous vid, exit = exit')\n",
    "\n",
    "\n",
    "        # restart video\n",
    "        if data == 'r':\n",
    "            continue\n",
    "        \n",
    "\n",
    "        # change start and/or end time\n",
    "        if data == 't':\n",
    "            time_stamp = input('enter new timestamp (2:23, 2:34): ')\n",
    "            \n",
    "            try:\n",
    "                # convert time to total seconds\n",
    "                start = (int(time_stamp.split(',')[0].split(':')[0]) * 60) + int(time_stamp.split(',')[0].split(':')[1])\n",
    "                end = (int(time_stamp.split(',')[1].split(':')[0]) * 60) + int(time_stamp.split(',')[1].split(':')[1])\n",
    "\n",
    "                # insert new data into var_data\n",
    "                client.table('var_data').update({'time_start': start, 'time_end': end}).eq('id', id).execute()\n",
    "\n",
    "                # update data in list\n",
    "                clips[index]['time_start'] = start\n",
    "                clips[index]['time_end'] = end\n",
    "\n",
    "            except:\n",
    "                print('incorrect entry, try again')\n",
    "                time.sleep(2)\n",
    "\n",
    "\n",
    "        # change label\n",
    "        if data == 'l':\n",
    "            label = input('enter label: ')\n",
    "\n",
    "            if label in labels:\n",
    "                client.table('var_data').update({'label': label}).eq('id', id).execute()\n",
    "                clips[index]['label'] = label\n",
    "            else:\n",
    "                print('invalid input, try again')\n",
    "                continue\n",
    "            \n",
    "\n",
    "        # update clarity_level\n",
    "        if data == 'cl':\n",
    "            clarity = input('enter clarity_level (easy, medium, hard or bad): ')\n",
    "\n",
    "            # insert new clarity_level to var_data\n",
    "            if clarity in clarity_list:\n",
    "                client.table('var_data').update({'clarity_level': clarity}).eq('id', id).execute()\n",
    "                clips[index]['clarity_level'] = clarity\n",
    "                untagged = False\n",
    "            else:\n",
    "                print('invalid input, try again')\n",
    "                continue\n",
    "\n",
    "        \n",
    "        # go to next video\n",
    "        if data == 'n':\n",
    "            if untagged == True:\n",
    "                print('no clarity_level tag on video')\n",
    "                time.sleep(3)\n",
    "                continue\n",
    "            else:\n",
    "                # add the date to the 'reviewed' column\n",
    "                client.table('var_data').update({'reviewed': str(date.today())}).eq('id', id).execute()\n",
    "                index += 1\n",
    "                adjusting_annot = False    \n",
    "\n",
    "        \n",
    "        # go to previous video\n",
    "        if data == 'p':\n",
    "            index -= 1\n",
    "            adjusting_annot = False\n",
    "            break\n",
    "\n",
    "        # exit program\n",
    "        if data == 'exit':\n",
    "            break_out = True\n",
    "            adjusting_annot = False\n",
    "            break\n"
   ]
  }
 ],
 "metadata": {
  "kernelspec": {
   "display_name": "Python 3 (ipykernel)",
   "language": "python",
   "name": "python3"
  },
  "language_info": {
   "codemirror_mode": {
    "name": "ipython",
    "version": 3
   },
   "file_extension": ".py",
   "mimetype": "text/x-python",
   "name": "python",
   "nbconvert_exporter": "python",
   "pygments_lexer": "ipython3",
   "version": "3.9.13"
  },
  "vscode": {
   "interpreter": {
    "hash": "ba6b70012bb1886e671e644fad58c5bb2ecea54d2fb7ca838b4cfe439afad372"
   }
  }
 },
 "nbformat": 4,
 "nbformat_minor": 2
}
