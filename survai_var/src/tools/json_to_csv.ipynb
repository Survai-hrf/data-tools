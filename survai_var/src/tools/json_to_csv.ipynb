{
 "cells": [
  {
   "cell_type": "code",
   "execution_count": 1,
   "metadata": {},
   "outputs": [],
   "source": [
    "#SPLITS JSON INTO TRAIN, TEST, VALIDATE, THEN CONVERTS THEM TO CSVS\n",
    "\n",
    "import pandas as pd\n",
    "from sklearn.model_selection import train_test_split"
   ]
  },
  {
   "cell_type": "code",
   "execution_count": 4,
   "metadata": {},
   "outputs": [],
   "source": [
    "JSON_PATH = \"../../data/survai_data/var_annot_jsons/11-11-21_03-17-22_LEGACY/07-12-2021-10_37_57.json\"\n",
    "\n",
    "df = pd.read_json(JSON_PATH, orient = 'index')\n",
    "\n",
    "# data clean\n",
    "df = df.reset_index()\n",
    "df = df.rename(columns={'index': 'youtube_id', 'subset': 'split'})\n",
    "df = df.drop(['url', 'duration'], axis=1)\n",
    "\n",
    "#create dummy columns\n",
    "df['time_start'] = None\n",
    "df['time_end'] = None\n",
    "df['label'] = None\n",
    "\n",
    "# New code\n",
    "df['clarity_level'] = None\n",
    "df['bad_egg'] = None"
   ]
  },
  {
   "cell_type": "code",
   "execution_count": 6,
   "metadata": {},
   "outputs": [],
   "source": [
    "for ind, row in enumerate(df['annotations']):\n",
    "    df['time_start'][ind] = int(row['segment'][0])\n",
    "    df['time_end'][ind] = int(row['segment'][1])\n",
    "    df['label'][ind] = row['label']\n",
    "\n",
    "# New code\n",
    "'''for ind, row in enumerate(df['tags']):\n",
    "    df['clarity_level'][ind] = row['clarity_level']\n",
    "    df['bad_egg'][ind] = row['bad_egg']'''\n",
    "\n",
    "df.drop('annotations', axis=1)\n",
    "\n",
    "#just rearranges columns\n",
    "df = df[['label', 'youtube_id', 'time_start', 'time_end', 'split', 'clarity_level', 'bad_egg']]\n",
    "\n",
    "#train test split\n",
    "train, val = train_test_split(df, test_size = 0.25)\n",
    "test, val = train_test_split(df, test_size = 0.75)\n",
    "test['split'] = 'test'\n",
    "val['split'] = 'validate'\n"
   ]
  },
  {
   "cell_type": "code",
   "execution_count": 11,
   "metadata": {},
   "outputs": [
    {
     "data": {
      "text/plain": [
       "(    label     youtube_id time_start time_end  split clarity_level bad_egg\n",
       " 278    ad   9pAia49_ovA2         37       42  train          None    None\n",
       " 101    cr  UBNRj1eRWLs37        652      659  train          None    None\n",
       " 158    st   ixc5jas6U3Q4         52       53  train          None    None\n",
       " 178    ad  r4WFKmznKNQ14        116      124  train          None    None\n",
       " 74     ar  UBNRj1eRWLs10        184      214  train          None    None\n",
       " ..    ...            ...        ...      ...    ...           ...     ...\n",
       " 160    ru   ZzsKYlDqu5Q2         20       23  train          None    None\n",
       " 361    ru  Ov4M5DJyWFk16         96      101  train          None    None\n",
       " 412    ad   270F8s5TEKY6        156      159  train          None    None\n",
       " 336    ad   8aONGnwjOcE4         85       95  train          None    None\n",
       " 82     cr  UBNRj1eRWLs18        343      345  train          None    None\n",
       " \n",
       " [343 rows x 7 columns],\n",
       "     label     youtube_id time_start time_end     split clarity_level bad_egg\n",
       " 42     st   4GXivYtOLvQ5         20       35  validate          None    None\n",
       " 328    ru  UHa-PLwBgkI16        138      140  validate          None    None\n",
       " 6      cr   4pRPc04xoEo7         95      107  validate          None    None\n",
       " 163    cr   ZzsKYlDqu5Q5         45       50  validate          None    None\n",
       " 390    cr   -sPYqifV7U07         39       44  validate          None    None\n",
       " ..    ...            ...        ...      ...       ...           ...     ...\n",
       " 354    st   Ov4M5DJyWFk9         52       55  validate          None    None\n",
       " 384    cr   -sPYqifV7U01          0        8  validate          None    None\n",
       " 76     ar  UBNRj1eRWLs12        269      285  validate          None    None\n",
       " 306    st   8oJMGgaww706         24       26  validate          None    None\n",
       " 71     ru   UBNRj1eRWLs7         96       98  validate          None    None\n",
       " \n",
       " [344 rows x 7 columns])"
      ]
     },
     "execution_count": 11,
     "metadata": {},
     "output_type": "execute_result"
    }
   ],
   "source": []
  },
  {
   "cell_type": "code",
   "execution_count": 10,
   "metadata": {},
   "outputs": [],
   "source": [
    "#export csvs \n",
    "import os\n",
    "\n",
    "folder_name = JSON_PATH.split('/')[5].split('.')[0]\n",
    "outdir = f'../../data/survai_data/train_test_split_csvs/{folder_name}'\n",
    "if not os.path.exists(outdir):\n",
    "    os.mkdir(outdir)\n",
    "\n",
    "df.to_csv(f\"../../data/survai_data/train_test_split_csvs/{folder_name}.csv\", index = False)\n",
    "val.to_csv(f\"../../data/survai_data/train_test_split_csvs/{folder_name}/{folder_name}_val.csv\", index = False)\n",
    "test.to_csv(f\"../../data/survai_data/train_test_split_csvs/{folder_name}/{folder_name}_test.csv\", index = False)"
   ]
  }
 ],
 "metadata": {
  "interpreter": {
   "hash": "7f0d9b29d3abf450bf16b2b0a1c26e44348ebdbb4c4f2d61ade5ad73213c2959"
  },
  "kernelspec": {
   "display_name": "Python 3.9.7 ('dsbasic')",
   "language": "python",
   "name": "python3"
  },
  "language_info": {
   "codemirror_mode": {
    "name": "ipython",
    "version": 3
   },
   "file_extension": ".py",
   "mimetype": "text/x-python",
   "name": "python",
   "nbconvert_exporter": "python",
   "pygments_lexer": "ipython3",
   "version": "3.9.7"
  },
  "orig_nbformat": 4
 },
 "nbformat": 4,
 "nbformat_minor": 2
}
