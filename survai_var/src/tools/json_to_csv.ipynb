{
 "cells": [
  {
   "cell_type": "code",
   "execution_count": 1,
   "metadata": {},
   "outputs": [],
   "source": [
    "#SPLITS JSON INTO TRAIN, TEST, VALIDATE, THEN CONVERTS THEM TO CSVS\n",
    "\n",
    "import pandas as pd\n",
    "from sklearn.model_selection import train_test_split"
   ]
  },
  {
   "cell_type": "code",
   "execution_count": 6,
   "metadata": {},
   "outputs": [],
   "source": [
    "JSON_PATH = \"../../data/survai_data/var_annot_jsons/17-03-2022-16_23_40_master.json\"\n",
    "\n",
    "df = pd.read_json(JSON_PATH, orient = 'index')\n",
    "\n",
    "# data clean\n",
    "df = df.reset_index()\n",
    "df = df.rename(columns={'index': 'youtube_id', 'subset': 'split'})\n",
    "df = df.drop(['url', 'duration'], axis=1)\n",
    "\n",
    "#create dummy columns\n",
    "df['time_start'] = None\n",
    "df['time_end'] = None\n",
    "df['label'] = None\n",
    "\n",
    "# New code\n",
    "df['clarity_level'] = None\n",
    "df['bad_egg'] = None"
   ]
  },
  {
   "cell_type": "code",
   "execution_count": 7,
   "metadata": {},
   "outputs": [],
   "source": [
    "for ind, row in enumerate(df['annotations']):\n",
    "    df['time_start'][ind] = int(row['segment'][0])\n",
    "    df['time_end'][ind] = int(row['segment'][1])\n",
    "    df['label'][ind] = row['label']\n",
    "\n",
    "# New code\n",
    "for ind, row in enumerate(df['tags']):\n",
    "    df['clarity_level'][ind] = row['clarity_level']\n",
    "    df['bad_egg'][ind] = row['bad_egg']\n",
    "\n",
    "df.drop('annotations', axis=1)\n",
    "\n",
    "#just rearranges columns\n",
    "df = df[['label', 'youtube_id', 'time_start', 'time_end', 'split', 'clarity_level', 'bad_egg']]\n",
    "\n",
    "#train test split\n",
    "#train, val = train_test_split(df, test_size = 0.25)\n",
    "#test, val = train_test_split(test, test_size = 0.5)\n",
    "#test['split'] = 'test'\n",
    "#val['split'] = 'validate'\n"
   ]
  },
  {
   "cell_type": "code",
   "execution_count": 15,
   "metadata": {},
   "outputs": [],
   "source": [
    "#export csvs \n",
    "import os\n",
    "\n",
    "folder_name = JSON_PATH.split('/')[5].split('.')[0]\n",
    "outdir = f'../../data/survai_data/csvs/{folder_name}'\n",
    "if not os.path.exists(outdir):\n",
    "    os.mkdir(outdir)\n",
    "\n",
    "df.to_csv(f\"../../data/survai_data/csvs/{folder_name}.csv\", index = False)\n",
    "#val.to_csv(f\"train_test_split_csvs/{folder_name}/{folder_name}_val.csv\", index = False)\n",
    "#test.to_csv(f\"train_test_split_csvs/{folder_name}/{folder_name}_test.csv\", index = False)"
   ]
  }
 ],
 "metadata": {
  "interpreter": {
   "hash": "0d7836a5c286ff5bfd19e6d7bf1cf29d0ba2c87cc54f63882fbbe4714c6b5054"
  },
  "kernelspec": {
   "display_name": "Python 3.9.5 64-bit ('base': conda)",
   "language": "python",
   "name": "python3"
  },
  "language_info": {
   "codemirror_mode": {
    "name": "ipython",
    "version": 3
   },
   "file_extension": ".py",
   "mimetype": "text/x-python",
   "name": "python",
   "nbconvert_exporter": "python",
   "pygments_lexer": "ipython3",
   "version": "3.9.7"
  },
  "orig_nbformat": 4
 },
 "nbformat": 4,
 "nbformat_minor": 2
}
