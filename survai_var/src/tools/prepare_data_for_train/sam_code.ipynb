{
 "cells": [
  {
   "cell_type": "code",
   "execution_count": 1,
   "metadata": {},
   "outputs": [],
   "source": [
    "import os\n",
    "import shutil\n",
    "import pandas as pd\n",
    "from pytube.exceptions import VideoUnavailable\n",
    "from pytube import YouTube\n",
    "from moviepy.video.io.ffmpeg_tools import ffmpeg_extract_subclip"
   ]
  },
  {
   "cell_type": "code",
   "execution_count": null,
   "metadata": {},
   "outputs": [],
   "source": [
    "test_path = '11-11-21_03-17-22_LEGACY_test.csv'\n",
    "df = pd.read_csv(test_path)\n",
    "df = df\n",
    "df = df.reset_index()  # make sure indexes pair with number of rows\n",
    "df.head()\n"
   ]
  },
  {
   "cell_type": "code",
   "execution_count": 3,
   "metadata": {},
   "outputs": [],
   "source": [
    "broken_videos = set()\n",
    "\n",
    "def retry_download(tries, url, file_name, label):\n",
    "    for i in range(tries):\n",
    "            try:\n",
    "                video = YouTube(url)\n",
    "                yt_video = video.streams.get_highest_resolution()\n",
    "                yt_video.download(output_path=f'videos/{label}/', filename=f\"{file_name}.mp4\")\n",
    "\n",
    "                # download videos into correct folder\n",
    "                ffmpeg_extract_subclip(filename=f'videos/{label}/{file_name}.mp4', t1=start, t2=end, targetname=f'videos/{label}/{file_name}_{start}_{end}.mp4') \n",
    "                os.remove(f'videos/{label}/{file_name}.mp4')\n",
    "                \n",
    "            except VideoUnavailable:\n",
    "                if i < tries:\n",
    "                    broken_videos.add(file_name)\n",
    "                    continue"
   ]
  },
  {
   "cell_type": "code",
   "execution_count": null,
   "metadata": {},
   "outputs": [],
   "source": [
    "# Iterates all videos in csv\n",
    "for index, row in df.iterrows():\n",
    "    file_name = str(row['youtube_id'])\n",
    "    start = int(row['time_start'])\n",
    "    end = int(row['time_end'])\n",
    "    label = str(row['label'])\n",
    "    url = f'https://www.youtube.com/watch?v={file_name[0:11]}'\n",
    "    fill_start = str(start).zfill(6)\n",
    "    fill_end = str(end).zfill(6)\n",
    "\n",
    "    if os.path.exists(f\"videos/{label}/{file_name}_{start}_{end}.mp4\"):\n",
    "            print('file already exists')\n",
    "            continue\n",
    " \n",
    "    try:\n",
    "        video = YouTube(url)\n",
    "        yt_video = video.streams.get_highest_resolution()\n",
    "        yt_video.download(output_path=f'videos/{label}/', filename=f\"{file_name}.mp4\")\n",
    "\n",
    "        # download videos into correct folder\n",
    "        \n",
    "        ffmpeg_extract_subclip(filename=f'videos/{label}/{file_name}.mp4', t1=start, t2=end, \n",
    "                                targetname=f'videos/{label}/{file_name}_{fill_start}_{fill_end}.mp4') \n",
    "        os.remove(f'videos/{label}/{file_name}.mp4')\n",
    "\n",
    "    except:\n",
    "        print('retrying...', file_name)\n",
    "        retry_download(1, url, file_name, label)      \n"
   ]
  },
  {
   "cell_type": "code",
   "execution_count": 5,
   "metadata": {},
   "outputs": [],
   "source": [
    "# Deletes broken videos\n",
    "for video in broken_videos:\n",
    "    df = df.drop(df.loc[df['youtube_id'] == video].index)"
   ]
  },
  {
   "cell_type": "code",
   "execution_count": 6,
   "metadata": {},
   "outputs": [],
   "source": [
    "# Creates a list with all labels from label_map.txt\n",
    "with open('label_map.txt', 'r') as f:\n",
    "    label_list = [line.strip() for line in f]\n"
   ]
  },
  {
   "cell_type": "code",
   "execution_count": 7,
   "metadata": {},
   "outputs": [],
   "source": [
    "# Drops all rows where df['label'] != to labels in label_list\n",
    "for label in df['label']:\n",
    "    if label not in label_list:\n",
    "        df = df.drop(df.loc[df['label'] == label].index)\n",
    "    \n",
    "    "
   ]
  },
  {
   "cell_type": "code",
   "execution_count": 8,
   "metadata": {},
   "outputs": [],
   "source": [
    "# Finding 35 percent of the least common label\n",
    "least_label_35 = int(df['label'].value_counts().min()*.35)\n",
    "# Groups randomized youtube_id's with corresponding labels, time_start, time_end\n",
    "df_val = df.groupby('label')[['youtube_id', 'time_start', 'time_end', 'split']].apply(lambda s: s.sample(least_label_35))"
   ]
  },
  {
   "cell_type": "code",
   "execution_count": 9,
   "metadata": {},
   "outputs": [],
   "source": [
    "df_val = pd.DataFrame(df_val)\n",
    "df_val = df_val.reset_index()\n",
    "df_validation = df_val.drop(columns = 'level_1')"
   ]
  },
  {
   "cell_type": "code",
   "execution_count": 10,
   "metadata": {},
   "outputs": [],
   "source": [
    "# remove df_val from df\n",
    "cond = df['youtube_id'].isin(df_validation['youtube_id'])\n",
    "df.drop(df[cond].index, inplace = True)"
   ]
  },
  {
   "cell_type": "code",
   "execution_count": 11,
   "metadata": {},
   "outputs": [],
   "source": [
    "# move val videos to new directory\n",
    "for ind, row in df_validation.iterrows():\n",
    "    \n",
    "    id = str(row['youtube_id'])\n",
    "    label = str(row['label'])\n",
    "    start = row['time_start']\n",
    "    end = row['time_end']\n",
    "    fill_start = str(start).zfill(6) # make times the same number of digits\n",
    "    fill_end = str(end).zfill(6)\n",
    "\n",
    "    # ignore bad labels and bad videos\n",
    "    if label not in label_list == True:\n",
    "        continue\n",
    "        \n",
    "    # create directory to move val videos\n",
    "    val_path = f'val/{label}'\n",
    "    if not os.path.exists(val_path):\n",
    "        os.makedirs(val_path)\n",
    "    \n",
    "    # Ignore files already downloaded\n",
    "    if os.path.exists(f\"val/{label}/{id}_{fill_start}_{fill_end}.mp4\"):\n",
    "        print('File already exists')\n",
    "        continue\n",
    "\n",
    "    # move videos to val videos\n",
    "    shutil.copyfile(f\"videos/{label}/{id}_{fill_start}_{fill_end}.mp4\", f\"val/{label}/{id}_{fill_start}_{fill_end}.mp4\")\n",
    "\n"
   ]
  },
  {
   "cell_type": "code",
   "execution_count": 40,
   "metadata": {},
   "outputs": [],
   "source": [
    "'''Adds every video file name from val subdirectories and adds file names into a set. \n",
    "This is not complete, works, but not 100% accurate'''\n",
    "\n",
    "file_list = set()\n",
    "for subdir, dirs, files in os.walk('val'):\n",
    "    for file in files:\n",
    "        for i in df_validation['label']:\n",
    "                file_list.add(f'{i}/{file}')"
   ]
  },
  {
   "cell_type": "code",
   "execution_count": 41,
   "metadata": {},
   "outputs": [],
   "source": [
    "# Writes video file name from set into a val txt\n",
    "with open('val_list6.txt', 'w') as f:\n",
    "    for i in file_list:        \n",
    "        f.write(f'{i}\\n')"
   ]
  },
  {
   "cell_type": "code",
   "execution_count": 14,
   "metadata": {},
   "outputs": [],
   "source": [
    "# move train videos to new directory\n",
    "for ind, row in df.iterrows():\n",
    "    \n",
    "    id = str(row['youtube_id'])\n",
    "    label = str(row['label'])\n",
    "    start = row['time_start']\n",
    "    end = row['time_end']\n",
    "    fill_start = str(start).zfill(6) # make times the same number of digits\n",
    "    fill_end = str(end).zfill(6)\n",
    "\n",
    "    # ignore bad labels and bad videos\n",
    "    if label not in label_list:\n",
    "        continue\n",
    "        \n",
    "    # create directory to for train videos\n",
    "    train_path = f'train/{label}'\n",
    "    if not os.path.exists(train_path):\n",
    "        os.makedirs(train_path)\n",
    "\n",
    "    # Ignore files already downloaded\n",
    "    if os.path.exists(f\"train/{label}/{id}_{fill_start}_{fill_end}.mp4\"):\n",
    "        print('File already exists')\n",
    "        continue\n",
    "\n",
    "    # move videos to train videos\n",
    "    shutil.copyfile(f\"videos/{label}/{id}_{fill_start}_{fill_end}.mp4\", f\"train/{label}/{id}_{fill_start}_{fill_end}.mp4\")"
   ]
  }
 ],
 "metadata": {
  "kernelspec": {
   "display_name": "Python 3.9.7 ('base')",
   "language": "python",
   "name": "python3"
  },
  "language_info": {
   "codemirror_mode": {
    "name": "ipython",
    "version": 3
   },
   "file_extension": ".py",
   "mimetype": "text/x-python",
   "name": "python",
   "nbconvert_exporter": "python",
   "pygments_lexer": "ipython3",
   "version": "3.9.7"
  },
  "orig_nbformat": 4,
  "vscode": {
   "interpreter": {
    "hash": "9d8a2aa56706f0475aa983bd88b54765f20e6e6d70a842875d22122789babd85"
   }
  }
 },
 "nbformat": 4,
 "nbformat_minor": 2
}
