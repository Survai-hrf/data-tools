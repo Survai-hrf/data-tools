{
 "cells": [
  {
   "cell_type": "code",
   "execution_count": 1,
   "metadata": {},
   "outputs": [],
   "source": [
    "import os\n",
    "import shutil\n",
    "import pandas as pd\n",
    "from pytube.exceptions import VideoUnavailable\n",
    "from pytube import YouTube\n",
    "from moviepy.video.io.ffmpeg_tools import ffmpeg_extract_subclip"
   ]
  },
  {
   "cell_type": "code",
<<<<<<< HEAD
   "execution_count": 2,
=======
   "execution_count": 3,
>>>>>>> 3d83b5cd596a40c4519132b8b84986d648f610fe
   "metadata": {},
   "outputs": [
    {
     "data": {
      "text/html": [
       "<div>\n",
       "<style scoped>\n",
       "    .dataframe tbody tr th:only-of-type {\n",
       "        vertical-align: middle;\n",
       "    }\n",
       "\n",
       "    .dataframe tbody tr th {\n",
       "        vertical-align: top;\n",
       "    }\n",
       "\n",
       "    .dataframe thead th {\n",
       "        text-align: right;\n",
       "    }\n",
       "</style>\n",
       "<table border=\"1\" class=\"dataframe\">\n",
       "  <thead>\n",
       "    <tr style=\"text-align: right;\">\n",
       "      <th></th>\n",
       "      <th>index</th>\n",
       "      <th>label</th>\n",
       "      <th>youtube_id</th>\n",
       "      <th>time_start</th>\n",
       "      <th>time_end</th>\n",
       "      <th>split</th>\n",
       "      <th>clarity_level</th>\n",
       "      <th>bad_egg</th>\n",
       "    </tr>\n",
       "  </thead>\n",
       "  <tbody>\n",
       "    <tr>\n",
       "      <th>0</th>\n",
       "      <td>0</td>\n",
       "      <td>cr</td>\n",
       "      <td>c8j3h7fuYsY8</td>\n",
       "      <td>114</td>\n",
       "      <td>119</td>\n",
       "      <td>test</td>\n",
       "      <td>NaN</td>\n",
       "      <td>NaN</td>\n",
       "    </tr>\n",
       "    <tr>\n",
       "      <th>1</th>\n",
       "      <td>1</td>\n",
       "      <td>cr</td>\n",
       "      <td>MTJlyb8Odlc9</td>\n",
       "      <td>515</td>\n",
       "      <td>545</td>\n",
       "      <td>test</td>\n",
       "      <td>NaN</td>\n",
       "      <td>NaN</td>\n",
       "    </tr>\n",
       "    <tr>\n",
       "      <th>2</th>\n",
       "      <td>2</td>\n",
       "      <td>cr</td>\n",
       "      <td>UBNRj1eRWLs28</td>\n",
       "      <td>486</td>\n",
       "      <td>500</td>\n",
       "      <td>test</td>\n",
       "      <td>NaN</td>\n",
       "      <td>NaN</td>\n",
       "    </tr>\n",
       "    <tr>\n",
       "      <th>3</th>\n",
       "      <td>3</td>\n",
       "      <td>br</td>\n",
       "      <td>270F8s5TEKY17</td>\n",
       "      <td>644</td>\n",
       "      <td>654</td>\n",
       "      <td>test</td>\n",
       "      <td>NaN</td>\n",
       "      <td>NaN</td>\n",
       "    </tr>\n",
       "    <tr>\n",
       "      <th>4</th>\n",
       "      <td>4</td>\n",
       "      <td>st</td>\n",
       "      <td>ixc5jas6U3Q3</td>\n",
       "      <td>45</td>\n",
       "      <td>46</td>\n",
       "      <td>test</td>\n",
       "      <td>NaN</td>\n",
       "      <td>NaN</td>\n",
       "    </tr>\n",
       "  </tbody>\n",
       "</table>\n",
       "</div>"
      ],
      "text/plain": [
       "   index label     youtube_id  time_start  time_end split  clarity_level  \\\n",
       "0      0    cr   c8j3h7fuYsY8         114       119  test            NaN   \n",
       "1      1    cr   MTJlyb8Odlc9         515       545  test            NaN   \n",
       "2      2    cr  UBNRj1eRWLs28         486       500  test            NaN   \n",
       "3      3    br  270F8s5TEKY17         644       654  test            NaN   \n",
       "4      4    st   ixc5jas6U3Q3          45        46  test            NaN   \n",
       "\n",
       "   bad_egg  \n",
       "0      NaN  \n",
       "1      NaN  \n",
       "2      NaN  \n",
       "3      NaN  \n",
       "4      NaN  "
      ]
     },
<<<<<<< HEAD
     "execution_count": 2,
=======
     "execution_count": 3,
>>>>>>> 3d83b5cd596a40c4519132b8b84986d648f610fe
     "metadata": {},
     "output_type": "execute_result"
    }
   ],
   "source": [
<<<<<<< HEAD
    "test_path = '11-11-21_03-17-22_LEGACY_test.csv'\n",
=======
    "test_path = 'csvs/11-11-21_03-17-22_LEGACY_test.csv'\n",
>>>>>>> 3d83b5cd596a40c4519132b8b84986d648f610fe
    "df = pd.read_csv(test_path)\n",
    "df = df\n",
    "df = df.reset_index()  # make sure indexes pair with number of rows\n",
    "df.head()\n"
   ]
  },
  {
   "cell_type": "code",
<<<<<<< HEAD
=======
   "execution_count": 4,
   "metadata": {},
   "outputs": [
    {
     "data": {
      "text/plain": [
       "cr    60\n",
       "ru    16\n",
       "pg     8\n",
       "ad     8\n",
       "ar     7\n",
       "st     5\n",
       "ps     4\n",
       "br     3\n",
       "bl     3\n",
       "Name: label, dtype: int64"
      ]
     },
     "execution_count": 4,
     "metadata": {},
     "output_type": "execute_result"
    }
   ],
   "source": [
    "df['label'].head(180).value_counts()"
   ]
  },
  {
   "cell_type": "code",
   "execution_count": 20,
   "metadata": {},
   "outputs": [
    {
     "data": {
      "text/plain": [
       "162.75"
      ]
     },
     "execution_count": 20,
     "metadata": {},
     "output_type": "execute_result"
    }
   ],
   "source": [
    "least = df.loc[df['label'] == 'brawling']\n",
    "videos_per_split = len(least)*.35\n",
    "videos_per_split"
   ]
  },
  {
   "cell_type": "code",
>>>>>>> 3d83b5cd596a40c4519132b8b84986d648f610fe
   "execution_count": 3,
   "metadata": {},
   "outputs": [],
   "source": [
    "broken_videos = set()\n",
    "\n",
    "def retry_download(tries, url, file_name, label):\n",
    "    for i in range(tries):\n",
    "            try:\n",
    "                video = YouTube(url)\n",
    "                yt_video = video.streams.get_highest_resolution()\n",
    "                yt_video.download(output_path=f'videos/{label}/', filename=f\"{file_name}.mp4\")\n",
    "\n",
    "                # download videos into correct folder\n",
    "                ffmpeg_extract_subclip(filename=f'videos/{label}/{file_name}.mp4', t1=start, t2=end, targetname=f'videos/{label}/{file_name}_{start}_{end}.mp4') \n",
    "                os.remove(f'videos/{label}/{file_name}.mp4')\n",
    "                \n",
    "            except VideoUnavailable:\n",
    "                if i < tries:\n",
    "                    broken_videos.add(file_name)\n",
    "                    continue"
   ]
  },
  {
   "cell_type": "code",
   "execution_count": 6,
   "metadata": {},
   "outputs": [
    {
     "name": "stdout",
     "output_type": "stream",
     "text": [
      "Moviepy - Running:\n",
      ">>> \"+ \" \".join(cmd)\n",
      "Moviepy - Command successful\n",
      "Moviepy - Running:\n",
      ">>> \"+ \" \".join(cmd)\n",
      "Moviepy - Command successful\n",
      "Moviepy - Running:\n",
      ">>> \"+ \" \".join(cmd)\n",
      "Moviepy - Command successful\n",
      "Moviepy - Running:\n",
      ">>> \"+ \" \".join(cmd)\n",
      "Moviepy - Command successful\n",
      "Moviepy - Running:\n",
      ">>> \"+ \" \".join(cmd)\n",
      "Moviepy - Command successful\n",
      "Moviepy - Running:\n",
      ">>> \"+ \" \".join(cmd)\n",
      "Moviepy - Command successful\n",
      "Moviepy - Running:\n",
      ">>> \"+ \" \".join(cmd)\n",
      "Moviepy - Command successful\n",
      "Moviepy - Running:\n",
      ">>> \"+ \" \".join(cmd)\n",
      "Moviepy - Command successful\n",
      "Moviepy - Running:\n",
      ">>> \"+ \" \".join(cmd)\n",
      "Moviepy - Command successful\n",
      "Moviepy - Running:\n",
      ">>> \"+ \" \".join(cmd)\n",
      "Moviepy - Command successful\n",
      "Moviepy - Running:\n",
      ">>> \"+ \" \".join(cmd)\n",
      "Moviepy - Command successful\n",
      "Moviepy - Running:\n",
      ">>> \"+ \" \".join(cmd)\n",
      "Moviepy - Command successful\n",
      "Moviepy - Running:\n",
      ">>> \"+ \" \".join(cmd)\n",
      "Moviepy - Command successful\n",
      "Moviepy - Running:\n",
      ">>> \"+ \" \".join(cmd)\n",
      "Moviepy - Command successful\n",
      "Moviepy - Running:\n",
      ">>> \"+ \" \".join(cmd)\n",
      "Moviepy - Command successful\n",
      "Moviepy - Running:\n",
      ">>> \"+ \" \".join(cmd)\n",
      "Moviepy - Command successful\n",
      "Moviepy - Running:\n",
      ">>> \"+ \" \".join(cmd)\n",
      "Moviepy - Command successful\n",
      "Moviepy - Running:\n",
      ">>> \"+ \" \".join(cmd)\n",
      "Moviepy - Command successful\n",
      "Moviepy - Running:\n",
      ">>> \"+ \" \".join(cmd)\n",
      "Moviepy - Command successful\n",
      "Moviepy - Running:\n",
      ">>> \"+ \" \".join(cmd)\n",
      "Moviepy - Command successful\n",
      "Moviepy - Running:\n",
      ">>> \"+ \" \".join(cmd)\n",
      "Moviepy - Command successful\n",
      "Moviepy - Running:\n",
      ">>> \"+ \" \".join(cmd)\n",
      "Moviepy - Command successful\n",
      "retrying... IZvA7elG3lg4\n",
      "Moviepy - Running:\n",
      ">>> \"+ \" \".join(cmd)\n",
      "Moviepy - Command successful\n",
      "Moviepy - Running:\n",
      ">>> \"+ \" \".join(cmd)\n",
      "Moviepy - Command successful\n",
      "Moviepy - Running:\n",
      ">>> \"+ \" \".join(cmd)\n",
      "Moviepy - Command successful\n",
      "retrying... IZvA7elG3lg3\n",
      "Moviepy - Running:\n",
      ">>> \"+ \" \".join(cmd)\n",
      "Moviepy - Command successful\n",
      "Moviepy - Running:\n",
      ">>> \"+ \" \".join(cmd)\n",
      "Moviepy - Command successful\n",
      "Moviepy - Running:\n",
      ">>> \"+ \" \".join(cmd)\n",
      "Moviepy - Command successful\n",
      "Moviepy - Running:\n",
      ">>> \"+ \" \".join(cmd)\n",
      "Moviepy - Command successful\n",
      "Moviepy - Running:\n",
      ">>> \"+ \" \".join(cmd)\n",
      "Moviepy - Command successful\n",
      "Moviepy - Running:\n",
      ">>> \"+ \" \".join(cmd)\n",
      "Moviepy - Command successful\n",
      "Moviepy - Running:\n",
      ">>> \"+ \" \".join(cmd)\n",
      "Moviepy - Command successful\n",
      "Moviepy - Running:\n",
      ">>> \"+ \" \".join(cmd)\n",
      "Moviepy - Command successful\n",
      "Moviepy - Running:\n",
      ">>> \"+ \" \".join(cmd)\n",
      "Moviepy - Command successful\n",
      "Moviepy - Running:\n",
      ">>> \"+ \" \".join(cmd)\n",
      "Moviepy - Command successful\n",
      "Moviepy - Running:\n",
      ">>> \"+ \" \".join(cmd)\n",
      "Moviepy - Command successful\n",
      "Moviepy - Running:\n",
      ">>> \"+ \" \".join(cmd)\n",
      "Moviepy - Command successful\n",
      "Moviepy - Running:\n",
      ">>> \"+ \" \".join(cmd)\n",
      "Moviepy - Command successful\n",
      "Moviepy - Running:\n",
      ">>> \"+ \" \".join(cmd)\n",
      "Moviepy - Command successful\n",
      "Moviepy - Running:\n",
      ">>> \"+ \" \".join(cmd)\n",
      "Moviepy - Command successful\n",
      "Moviepy - Running:\n",
      ">>> \"+ \" \".join(cmd)\n",
      "Moviepy - Command successful\n",
      "Moviepy - Running:\n",
      ">>> \"+ \" \".join(cmd)\n",
      "Moviepy - Command successful\n",
      "Moviepy - Running:\n",
      ">>> \"+ \" \".join(cmd)\n",
      "Moviepy - Command successful\n",
      "Moviepy - Running:\n",
      ">>> \"+ \" \".join(cmd)\n",
      "Moviepy - Command successful\n",
      "Moviepy - Running:\n",
      ">>> \"+ \" \".join(cmd)\n",
      "Moviepy - Command successful\n",
      "Moviepy - Running:\n",
      ">>> \"+ \" \".join(cmd)\n",
      "Moviepy - Command successful\n",
      "Moviepy - Running:\n",
      ">>> \"+ \" \".join(cmd)\n",
      "Moviepy - Command successful\n",
      "retrying... UBNRj1eRWLs13\n"
     ]
    }
   ],
   "source": [
    "# Iterates all videos in csv\n",
    "for index, row in df.iterrows():\n",
    "    file_name = str(row['youtube_id'])\n",
    "    start = int(row['time_start'])\n",
    "    end = int(row['time_end'])\n",
    "    label = str(row['label'])\n",
    "    url = f'https://www.youtube.com/watch?v={file_name[0:11]}'\n",
    "    fill_start = str(start).zfill(6)\n",
    "    fill_end = str(end).zfill(6)\n",
    "\n",
    "    if os.path.exists(f\"videos/{label}/{file_name}_{start}_{end}.mp4\"):\n",
    "            print('file already exists')\n",
    "            continue\n",
    " \n",
    "    try:\n",
    "        video = YouTube(url)\n",
    "        yt_video = video.streams.get_highest_resolution()\n",
    "        yt_video.download(output_path=f'videos/{label}/', filename=f\"{file_name}.mp4\")\n",
    "\n",
    "        # download videos into correct folder\n",
    "        \n",
    "        ffmpeg_extract_subclip(filename=f'videos/{label}/{file_name}.mp4', t1=start, t2=end, \n",
    "                                targetname=f'videos/{label}/{file_name}_{fill_start}_{fill_end}.mp4') \n",
    "        os.remove(f'videos/{label}/{file_name}.mp4')\n",
    "\n",
    "    except:\n",
    "        print('retrying...', file_name)\n",
    "        retry_download(1, url, file_name, label)      \n"
   ]
  },
  {
   "cell_type": "code",
   "execution_count": 5,
   "metadata": {},
   "outputs": [],
   "source": [
    "# Deletes broken videos\n",
    "for video in broken_videos:\n",
    "    df = df.drop(df.loc[df['youtube_id'] == video].index)"
   ]
  },
  {
   "cell_type": "code",
   "execution_count": 6,
   "metadata": {},
   "outputs": [],
   "source": [
    "# Creates a list with all labels from label_map.txt\n",
    "with open('\\label_map.txt', 'r') as f:\n",
    "    label_list = [line.strip() for line in f]\n"
   ]
  },
  {
   "cell_type": "code",
   "execution_count": 7,
   "metadata": {},
   "outputs": [],
   "source": [
    "# Drops all rows where df['label'] != to labels in label_list\n",
    "for label in df['label']:\n",
    "    if label not in label_list:\n",
    "        df = df.drop(df.loc[df['label'] == label].index)\n",
    "    \n",
    "    "
   ]
  },
  {
   "cell_type": "code",
   "execution_count": 25,
   "metadata": {},
   "outputs": [],
   "source": [
    "# Finding 35 percent of the least common label\n",
    "least_label_35 = int(df['label'].value_counts().min()*.35)\n",
    "# Groups randomized youtube_id's with corresponding labels, time_start, time_end\n",
    "df_val = df.groupby('label')[['youtube_id', 'time_start', 'time_end', 'split']].apply(lambda s: s.sample(least_label_35))"
   ]
  },
  {
   "cell_type": "code",
   "execution_count": 26,
   "metadata": {},
   "outputs": [],
   "source": [
    "df_val = pd.DataFrame(df_val)\n",
    "df_val = df_val.reset_index()\n",
    "df_validation = df_val.drop(columns = 'level_1')"
   ]
  },
  {
   "cell_type": "code",
<<<<<<< HEAD
   "execution_count": 10,
=======
   "execution_count": 2,
   "metadata": {},
   "outputs": [
    {
     "ename": "NameError",
     "evalue": "name 'new_df' is not defined",
     "output_type": "error",
     "traceback": [
      "\u001b[1;31m---------------------------------------------------------------------------\u001b[0m",
      "\u001b[1;31mNameError\u001b[0m                                 Traceback (most recent call last)",
      "\u001b[1;32m~\\AppData\\Local\\Temp/ipykernel_13004/1825663691.py\u001b[0m in \u001b[0;36m<module>\u001b[1;34m\u001b[0m\n\u001b[1;32m----> 1\u001b[1;33m \u001b[0mnew_df\u001b[0m\u001b[1;33m.\u001b[0m\u001b[0mvalue_counts\u001b[0m\u001b[1;33m(\u001b[0m\u001b[1;33m)\u001b[0m\u001b[1;33m\u001b[0m\u001b[1;33m\u001b[0m\u001b[0m\n\u001b[0m",
      "\u001b[1;31mNameError\u001b[0m: name 'new_df' is not defined"
     ]
    }
   ],
   "source": [
    "new_df.value_counts()"
   ]
  },
  {
   "cell_type": "code",
   "execution_count": null,
>>>>>>> 3d83b5cd596a40c4519132b8b84986d648f610fe
   "metadata": {},
   "outputs": [],
   "source": [
    "# move val videos to new directory\n",
    "for ind, row in df_val.iterrows():\n",
    "    id = str(row['youtube_id'])\n",
    "    label = str(row['label'])\n",
    "    start = row['time_start']\n",
    "    end = row['time_end']\n",
    "    fill_start = str(start).zfill(6) # make times the same number of digits\n",
    "    fill_end = str(end).zfill(6)\n",
    "\n",
    "    if label not in label_list:\n",
    "        continue\n",
    "    \n",
    "    newpath = f'videos_val/{label}' \n",
    "    if not os.path.exists(newpath):\n",
    "        os.makedirs(newpath)\n",
    "\n",
    "    shutil.move(f\"videos_train/{label}/{id}_{fill_start}_{fill_end}.mp4\", f\"videos_val/{label}/{id}_{fill_start}_{fill_end}.mp4\")\n",
    "    \n",
    "        "
   ]
  }
 ],
 "metadata": {
  "interpreter": {
   "hash": "7f0d9b29d3abf450bf16b2b0a1c26e44348ebdbb4c4f2d61ade5ad73213c2959"
  },
  "kernelspec": {
   "display_name": "Python 3.9.7 ('dsbasic')",
   "language": "python",
   "name": "python3"
  },
  "language_info": {
   "codemirror_mode": {
    "name": "ipython",
    "version": 3
   },
   "file_extension": ".py",
   "mimetype": "text/x-python",
   "name": "python",
   "nbconvert_exporter": "python",
   "pygments_lexer": "ipython3",
   "version": "3.9.7"
  },
  "orig_nbformat": 4,
  "vscode": {
   "interpreter": {
    "hash": "9d8a2aa56706f0475aa983bd88b54765f20e6e6d70a842875d22122789babd85"
   }
  }
 },
 "nbformat": 4,
 "nbformat_minor": 2
}
