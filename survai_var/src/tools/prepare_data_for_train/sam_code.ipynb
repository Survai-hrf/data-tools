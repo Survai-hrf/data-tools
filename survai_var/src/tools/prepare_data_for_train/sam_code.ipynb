{
 "cells": [
  {
   "cell_type": "code",
   "execution_count": 44,
   "metadata": {},
   "outputs": [],
   "source": [
    "import os\n",
    "import random\n",
    "import pandas as pd\n",
    "from pytube.exceptions import VideoUnavailable\n",
    "from pytube import YouTube\n",
    "from moviepy.video.io.ffmpeg_tools import ffmpeg_extract_subclip\n",
    "from sklearn.model_selection import train_test_split, StratifiedShuffleSplit"
   ]
  },
  {
   "cell_type": "code",
   "execution_count": 11,
   "metadata": {},
   "outputs": [
    {
     "data": {
      "text/html": [
       "<div>\n",
       "<style scoped>\n",
       "    .dataframe tbody tr th:only-of-type {\n",
       "        vertical-align: middle;\n",
       "    }\n",
       "\n",
       "    .dataframe tbody tr th {\n",
       "        vertical-align: top;\n",
       "    }\n",
       "\n",
       "    .dataframe thead th {\n",
       "        text-align: right;\n",
       "    }\n",
       "</style>\n",
       "<table border=\"1\" class=\"dataframe\">\n",
       "  <thead>\n",
       "    <tr style=\"text-align: right;\">\n",
       "      <th></th>\n",
       "      <th>index</th>\n",
       "      <th>label</th>\n",
       "      <th>youtube_id</th>\n",
       "      <th>time_start</th>\n",
       "      <th>time_end</th>\n",
       "      <th>split</th>\n",
       "    </tr>\n",
       "  </thead>\n",
       "  <tbody>\n",
       "    <tr>\n",
       "      <th>0</th>\n",
       "      <td>0</td>\n",
       "      <td>crowd</td>\n",
       "      <td>4pRPc04xoEo1</td>\n",
       "      <td>0</td>\n",
       "      <td>12</td>\n",
       "      <td>train</td>\n",
       "    </tr>\n",
       "    <tr>\n",
       "      <th>1</th>\n",
       "      <td>1</td>\n",
       "      <td>spray</td>\n",
       "      <td>4pRPc04xoEo2</td>\n",
       "      <td>12</td>\n",
       "      <td>18</td>\n",
       "      <td>train</td>\n",
       "    </tr>\n",
       "    <tr>\n",
       "      <th>2</th>\n",
       "      <td>2</td>\n",
       "      <td>running</td>\n",
       "      <td>4pRPc04xoEo3</td>\n",
       "      <td>12</td>\n",
       "      <td>24</td>\n",
       "      <td>train</td>\n",
       "    </tr>\n",
       "    <tr>\n",
       "      <th>3</th>\n",
       "      <td>3</td>\n",
       "      <td>crowd</td>\n",
       "      <td>4pRPc04xoEo4</td>\n",
       "      <td>34</td>\n",
       "      <td>44</td>\n",
       "      <td>train</td>\n",
       "    </tr>\n",
       "    <tr>\n",
       "      <th>4</th>\n",
       "      <td>4</td>\n",
       "      <td>crowd</td>\n",
       "      <td>4pRPc04xoEo5</td>\n",
       "      <td>66</td>\n",
       "      <td>71</td>\n",
       "      <td>train</td>\n",
       "    </tr>\n",
       "  </tbody>\n",
       "</table>\n",
       "</div>"
      ],
      "text/plain": [
       "   index    label    youtube_id  time_start  time_end  split\n",
       "0      0    crowd  4pRPc04xoEo1           0        12  train\n",
       "1      1    spray  4pRPc04xoEo2          12        18  train\n",
       "2      2  running  4pRPc04xoEo3          12        24  train\n",
       "3      3    crowd  4pRPc04xoEo4          34        44  train\n",
       "4      4    crowd  4pRPc04xoEo5          66        71  train"
      ]
     },
     "execution_count": 11,
     "metadata": {},
     "output_type": "execute_result"
    }
   ],
   "source": [
    "test_path = '01-03-2022-17_55_08_master.csv'\n",
    "df = pd.read_csv(test_path)\n",
    "df = df\n",
    "df = df.reset_index()  # make sure indexes pair with number of rows\n",
    "df.head()\n"
   ]
  },
  {
   "cell_type": "code",
   "execution_count": 54,
   "metadata": {},
   "outputs": [
    {
     "data": {
      "text/plain": [
       "crowd               109\n",
       "running              34\n",
       "restraining          22\n",
       "person_on_ground     18\n",
       "striking             10\n",
       "spray                 6\n",
       "brawling              1\n",
       "Name: label, dtype: int64"
      ]
     },
     "execution_count": 54,
     "metadata": {},
     "output_type": "execute_result"
    }
   ],
   "source": [
    "df['label'].head(180).value_counts()"
   ]
  },
  {
   "cell_type": "code",
   "execution_count": 16,
   "metadata": {},
   "outputs": [
    {
     "data": {
      "text/plain": [
       "spray               1145\n",
       "striking            1145\n",
       "aiming              1085\n",
       "restraining         1078\n",
       "throwing            1069\n",
       "person_on_ground    1068\n",
       "running              755\n",
       "crowd                697\n",
       "advancing            632\n",
       "brawling             465\n",
       "person_pointing      246\n",
       "blood                 68\n",
       "Name: label, dtype: int64"
      ]
     },
     "execution_count": 16,
     "metadata": {},
     "output_type": "execute_result"
    }
   ],
   "source": [
    "df['label'].value_counts()"
   ]
  },
  {
   "cell_type": "code",
   "execution_count": 21,
   "metadata": {},
   "outputs": [
    {
     "data": {
      "text/plain": [
       "spray               1145\n",
       "striking            1145\n",
       "aiming              1085\n",
       "restraining         1078\n",
       "throwing            1069\n",
       "person_on_ground    1068\n",
       "running              755\n",
       "crowd                697\n",
       "advancing            632\n",
       "brawling             465\n",
       "person_pointing      246\n",
       "blood                 68\n",
       "Name: label, dtype: int64"
      ]
     },
     "execution_count": 21,
     "metadata": {},
     "output_type": "execute_result"
    }
   ],
   "source": [
    "df['label'].value_counts()"
   ]
  },
  {
   "cell_type": "code",
   "execution_count": 20,
   "metadata": {},
   "outputs": [
    {
     "data": {
      "text/plain": [
       "162.75"
      ]
     },
     "execution_count": 20,
     "metadata": {},
     "output_type": "execute_result"
    }
   ],
   "source": [
    "least = df.loc[df['label'] == 'brawling']\n",
    "videos_per_split = len(least)*.35\n",
    "videos_per_split"
   ]
  },
  {
   "cell_type": "code",
   "execution_count": 3,
   "metadata": {},
   "outputs": [],
   "source": [
    "broken_videos = set()\n",
    "\n",
    "def retry_download(tries, url, file_name, label):\n",
    "    for i in range(tries):\n",
    "            try:\n",
    "                video = YouTube(url)\n",
    "                yt_video = video.streams.get_highest_resolution()\n",
    "                yt_video.download(output_path=f'videos/{label}/', filename=f\"{file_name}.mp4\")\n",
    "\n",
    "                # download videos into correct folder\n",
    "                ffmpeg_extract_subclip(filename=f'videos/{label}/{file_name}.mp4', t1=start, t2=end, targetname=f'videos/{label}/{file_name}_{start}_{end}.mp4') \n",
    "                os.remove(f'videos/{label}/{file_name}.mp4')\n",
    "                \n",
    "            except VideoUnavailable:\n",
    "                if i < tries:\n",
    "                    broken_videos.add(file_name)\n",
    "                    continue"
   ]
  },
  {
   "cell_type": "code",
   "execution_count": 4,
   "metadata": {},
   "outputs": [
    {
     "name": "stdout",
     "output_type": "stream",
     "text": [
      "Moviepy - Running:\n",
      ">>> \"+ \" \".join(cmd)\n",
      "Moviepy - Command successful\n",
      "Moviepy - Running:\n",
      ">>> \"+ \" \".join(cmd)\n",
      "Moviepy - Command successful\n",
      "Moviepy - Running:\n",
      ">>> \"+ \" \".join(cmd)\n",
      "Moviepy - Command successful\n",
      "Moviepy - Running:\n",
      ">>> \"+ \" \".join(cmd)\n",
      "Moviepy - Command successful\n",
      "Moviepy - Running:\n",
      ">>> \"+ \" \".join(cmd)\n",
      "Moviepy - Command successful\n",
      "Moviepy - Running:\n",
      ">>> \"+ \" \".join(cmd)\n",
      "Moviepy - Command successful\n",
      "Moviepy - Running:\n",
      ">>> \"+ \" \".join(cmd)\n",
      "Moviepy - Command successful\n",
      "Moviepy - Running:\n",
      ">>> \"+ \" \".join(cmd)\n",
      "Moviepy - Command successful\n",
      "Moviepy - Running:\n",
      ">>> \"+ \" \".join(cmd)\n",
      "Moviepy - Command successful\n",
      "Moviepy - Running:\n",
      ">>> \"+ \" \".join(cmd)\n",
      "Moviepy - Command successful\n",
      "Moviepy - Running:\n",
      ">>> \"+ \" \".join(cmd)\n",
      "Moviepy - Command successful\n",
      "Moviepy - Running:\n",
      ">>> \"+ \" \".join(cmd)\n",
      "Moviepy - Command successful\n",
      "Moviepy - Running:\n",
      ">>> \"+ \" \".join(cmd)\n",
      "Moviepy - Command successful\n",
      "Moviepy - Running:\n",
      ">>> \"+ \" \".join(cmd)\n",
      "Moviepy - Command successful\n",
      "Moviepy - Running:\n",
      ">>> \"+ \" \".join(cmd)\n",
      "Moviepy - Command successful\n",
      "Moviepy - Running:\n",
      ">>> \"+ \" \".join(cmd)\n",
      "Moviepy - Command successful\n",
      "Moviepy - Running:\n",
      ">>> \"+ \" \".join(cmd)\n",
      "Moviepy - Command successful\n",
      "Moviepy - Running:\n",
      ">>> \"+ \" \".join(cmd)\n",
      "Moviepy - Command successful\n",
      "Moviepy - Running:\n",
      ">>> \"+ \" \".join(cmd)\n",
      "Moviepy - Command successful\n",
      "Moviepy - Running:\n",
      ">>> \"+ \" \".join(cmd)\n",
      "Moviepy - Command successful\n",
      "Moviepy - Running:\n",
      ">>> \"+ \" \".join(cmd)\n",
      "Moviepy - Command successful\n",
      "Moviepy - Running:\n",
      ">>> \"+ \" \".join(cmd)\n",
      "Moviepy - Command successful\n",
      "Moviepy - Running:\n",
      ">>> \"+ \" \".join(cmd)\n",
      "Moviepy - Command successful\n",
      "Moviepy - Running:\n",
      ">>> \"+ \" \".join(cmd)\n",
      "Moviepy - Command successful\n",
      "Moviepy - Running:\n",
      ">>> \"+ \" \".join(cmd)\n",
      "Moviepy - Command successful\n",
      "Moviepy - Running:\n",
      ">>> \"+ \" \".join(cmd)\n",
      "Moviepy - Command successful\n",
      "Moviepy - Running:\n",
      ">>> \"+ \" \".join(cmd)\n",
      "Moviepy - Command successful\n",
      "Moviepy - Running:\n",
      ">>> \"+ \" \".join(cmd)\n",
      "Moviepy - Command successful\n",
      "Moviepy - Running:\n",
      ">>> \"+ \" \".join(cmd)\n",
      "Moviepy - Command successful\n",
      "Moviepy - Running:\n",
      ">>> \"+ \" \".join(cmd)\n",
      "Moviepy - Command successful\n",
      "Moviepy - Running:\n",
      ">>> \"+ \" \".join(cmd)\n",
      "Moviepy - Command successful\n",
      "Moviepy - Running:\n",
      ">>> \"+ \" \".join(cmd)\n",
      "Moviepy - Command successful\n",
      "Moviepy - Running:\n",
      ">>> \"+ \" \".join(cmd)\n",
      "Moviepy - Command successful\n",
      "Moviepy - Running:\n",
      ">>> \"+ \" \".join(cmd)\n",
      "Moviepy - Command successful\n",
      "Moviepy - Running:\n",
      ">>> \"+ \" \".join(cmd)\n",
      "Moviepy - Command successful\n",
      "Moviepy - Running:\n",
      ">>> \"+ \" \".join(cmd)\n",
      "Moviepy - Command successful\n",
      "Moviepy - Running:\n",
      ">>> \"+ \" \".join(cmd)\n",
      "Moviepy - Command successful\n",
      "Moviepy - Running:\n",
      ">>> \"+ \" \".join(cmd)\n",
      "Moviepy - Command successful\n",
      "retrying... 4GXivYtOLvQ1\n",
      "retrying... 4GXivYtOLvQ2\n",
      "retrying... 4GXivYtOLvQ3\n",
      "retrying... 4GXivYtOLvQ4\n",
      "retrying... 4GXivYtOLvQ5\n",
      "retrying... 4GXivYtOLvQ6\n",
      "Moviepy - Running:\n",
      ">>> \"+ \" \".join(cmd)\n",
      "Moviepy - Command successful\n",
      "Moviepy - Running:\n",
      ">>> \"+ \" \".join(cmd)\n",
      "Moviepy - Command successful\n",
      "Moviepy - Running:\n",
      ">>> \"+ \" \".join(cmd)\n",
      "Moviepy - Command successful\n",
      "Moviepy - Running:\n",
      ">>> \"+ \" \".join(cmd)\n",
      "Moviepy - Command successful\n",
      "Moviepy - Running:\n",
      ">>> \"+ \" \".join(cmd)\n",
      "Moviepy - Command successful\n",
      "Moviepy - Running:\n",
      ">>> \"+ \" \".join(cmd)\n",
      "Moviepy - Command successful\n"
     ]
    }
   ],
   "source": [
    "# Iterates all videos in csv\n",
    "for index, row in df.iterrows():\n",
    "    file_name = str(row['youtube_id'])\n",
    "    start = int(row['time_start'])\n",
    "    end = int(row['time_end'])\n",
    "    label = str(row['label'])\n",
    "    url = f'https://www.youtube.com/watch?v={file_name[0:11]}'\n",
    "    fill_start = str(start).zfill(6)\n",
    "    fill_end = str(end).zfill(6)\n",
    "\n",
    "    if os.path.exists(f\"videos/{label}/{file_name}_{start}_{end}.mp4\"):\n",
    "            print('file already exists')\n",
    "            continue\n",
    "    \n",
    "    try:\n",
    "        video = YouTube(url)\n",
    "        yt_video = video.streams.get_highest_resolution()\n",
    "        yt_video.download(output_path=f'videos/{label}/', filename=f\"{file_name}.mp4\")\n",
    "\n",
    "        # download videos into correct folder\n",
    "        \n",
    "        ffmpeg_extract_subclip(filename=f'videos/{label}/{file_name}.mp4', t1=start, t2=end, \n",
    "                                targetname=f'videos/{label}/{file_name}_{fill_start}_{fill_end}.mp4') \n",
    "        os.remove(f'videos/{label}/{file_name}.mp4')\n",
    "\n",
    "    except:\n",
    "        print('retrying...', file_name)\n",
    "        retry_download(1, url, file_name, label)      \n"
   ]
  },
  {
   "cell_type": "code",
   "execution_count": 22,
   "metadata": {},
   "outputs": [],
   "source": [
    "# Deletes broken videos\n",
    "for video in broken_videos:\n",
    "    df = df.drop(df.loc[df['youtube_id'] == video].index)"
   ]
  },
  {
   "cell_type": "code",
   "execution_count": 23,
   "metadata": {},
   "outputs": [],
   "source": [
    "# Adds working videos to list\n",
    "working_videos = [i for i in df['youtube_id']]"
   ]
  },
  {
   "cell_type": "code",
   "execution_count": 33,
   "metadata": {},
   "outputs": [],
   "source": [
    "with open('videos\\label_map.txt', 'r') as f:\n",
    "    label_list = [line.strip() for line in f]\n"
   ]
  },
  {
   "cell_type": "code",
   "execution_count": null,
   "metadata": {},
   "outputs": [],
   "source": [
    "for label in df['label']:\n",
    "    if label not in label_list:\n",
    "        df = df.drop(df.loc[df['label'] == label].index)\n",
    "    least_label_35 = int(df['label'].value_counts().min()*.35)\n",
    "    "
   ]
  },
  {
   "cell_type": "code",
   "execution_count": 59,
   "metadata": {},
   "outputs": [],
   "source": [
    "least_label_35 = int(df['label'].value_counts().min()*.35)\n",
    "blah = df.groupby('label')['youtube_id'].apply(lambda s: s.sample(least_label_35))\n",
    "    \n",
    "    \n",
    "    "
   ]
  },
  {
   "cell_type": "code",
   "execution_count": 64,
   "metadata": {},
   "outputs": [
    {
     "data": {
      "text/plain": [
       "label         \n",
       "brawling  7094     rs3rYkjA1mo2\n",
       "          7245     xsdjaMLYmgk1\n",
       "          7153     -11K0uXcIzM2\n",
       "          7298     CXOvrl9m3wg4\n",
       "          7371     r37J4gDLZ_c3\n",
       "                      ...      \n",
       "throwing  4036     IDFf66kSIrE5\n",
       "          4131    CoWj-6NR4O029\n",
       "          5670     yOhpEKWNN1U9\n",
       "          5244    rrOjvhGoevY38\n",
       "          5249    rrOjvhGoevY43\n",
       "Name: youtube_id, Length: 1296, dtype: object"
      ]
     },
     "execution_count": 64,
     "metadata": {},
     "output_type": "execute_result"
    }
   ],
   "source": [
    "blah"
   ]
  },
  {
   "cell_type": "code",
   "execution_count": 70,
   "metadata": {},
   "outputs": [],
   "source": [
    "new_df = pd.DataFrame(blah)"
   ]
  },
  {
   "cell_type": "code",
   "execution_count": 71,
   "metadata": {},
   "outputs": [
    {
     "data": {
      "text/html": [
       "<div>\n",
       "<style scoped>\n",
       "    .dataframe tbody tr th:only-of-type {\n",
       "        vertical-align: middle;\n",
       "    }\n",
       "\n",
       "    .dataframe tbody tr th {\n",
       "        vertical-align: top;\n",
       "    }\n",
       "\n",
       "    .dataframe thead th {\n",
       "        text-align: right;\n",
       "    }\n",
       "</style>\n",
       "<table border=\"1\" class=\"dataframe\">\n",
       "  <thead>\n",
       "    <tr style=\"text-align: right;\">\n",
       "      <th></th>\n",
       "      <th></th>\n",
       "      <th>youtube_id</th>\n",
       "    </tr>\n",
       "    <tr>\n",
       "      <th>label</th>\n",
       "      <th></th>\n",
       "      <th></th>\n",
       "    </tr>\n",
       "  </thead>\n",
       "  <tbody>\n",
       "    <tr>\n",
       "      <th rowspan=\"5\" valign=\"top\">brawling</th>\n",
       "      <th>7094</th>\n",
       "      <td>rs3rYkjA1mo2</td>\n",
       "    </tr>\n",
       "    <tr>\n",
       "      <th>7245</th>\n",
       "      <td>xsdjaMLYmgk1</td>\n",
       "    </tr>\n",
       "    <tr>\n",
       "      <th>7153</th>\n",
       "      <td>-11K0uXcIzM2</td>\n",
       "    </tr>\n",
       "    <tr>\n",
       "      <th>7298</th>\n",
       "      <td>CXOvrl9m3wg4</td>\n",
       "    </tr>\n",
       "    <tr>\n",
       "      <th>7371</th>\n",
       "      <td>r37J4gDLZ_c3</td>\n",
       "    </tr>\n",
       "    <tr>\n",
       "      <th>...</th>\n",
       "      <th>...</th>\n",
       "      <td>...</td>\n",
       "    </tr>\n",
       "    <tr>\n",
       "      <th rowspan=\"5\" valign=\"top\">throwing</th>\n",
       "      <th>4036</th>\n",
       "      <td>IDFf66kSIrE5</td>\n",
       "    </tr>\n",
       "    <tr>\n",
       "      <th>4131</th>\n",
       "      <td>CoWj-6NR4O029</td>\n",
       "    </tr>\n",
       "    <tr>\n",
       "      <th>5670</th>\n",
       "      <td>yOhpEKWNN1U9</td>\n",
       "    </tr>\n",
       "    <tr>\n",
       "      <th>5244</th>\n",
       "      <td>rrOjvhGoevY38</td>\n",
       "    </tr>\n",
       "    <tr>\n",
       "      <th>5249</th>\n",
       "      <td>rrOjvhGoevY43</td>\n",
       "    </tr>\n",
       "  </tbody>\n",
       "</table>\n",
       "<p>1296 rows × 1 columns</p>\n",
       "</div>"
      ],
      "text/plain": [
       "                  youtube_id\n",
       "label                       \n",
       "brawling 7094   rs3rYkjA1mo2\n",
       "         7245   xsdjaMLYmgk1\n",
       "         7153   -11K0uXcIzM2\n",
       "         7298   CXOvrl9m3wg4\n",
       "         7371   r37J4gDLZ_c3\n",
       "...                      ...\n",
       "throwing 4036   IDFf66kSIrE5\n",
       "         4131  CoWj-6NR4O029\n",
       "         5670   yOhpEKWNN1U9\n",
       "         5244  rrOjvhGoevY38\n",
       "         5249  rrOjvhGoevY43\n",
       "\n",
       "[1296 rows x 1 columns]"
      ]
     },
     "execution_count": 71,
     "metadata": {},
     "output_type": "execute_result"
    }
   ],
   "source": [
    "new_df"
   ]
  },
  {
   "cell_type": "code",
   "execution_count": null,
   "metadata": {},
   "outputs": [],
   "source": []
  }
 ],
 "metadata": {
  "kernelspec": {
   "display_name": "Python 3.9.7 ('base')",
   "language": "python",
   "name": "python3"
  },
  "language_info": {
   "codemirror_mode": {
    "name": "ipython",
    "version": 3
   },
   "file_extension": ".py",
   "mimetype": "text/x-python",
   "name": "python",
   "nbconvert_exporter": "python",
   "pygments_lexer": "ipython3",
   "version": "3.9.7"
  },
  "orig_nbformat": 4,
  "vscode": {
   "interpreter": {
    "hash": "9d8a2aa56706f0475aa983bd88b54765f20e6e6d70a842875d22122789babd85"
   }
  }
 },
 "nbformat": 4,
 "nbformat_minor": 2
}
