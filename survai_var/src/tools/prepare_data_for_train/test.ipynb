{
 "cells": [
  {
   "cell_type": "code",
   "execution_count": 1,
   "metadata": {},
   "outputs": [],
   "source": [
    "import os\n",
    "from google.cloud import storage"
   ]
  },
  {
   "cell_type": "code",
   "execution_count": 2,
   "metadata": {},
   "outputs": [],
   "source": [
    "# connect to gcloud bucket\n",
    "os.environ['GOOGLE_APPLICATION_CREDENTIALS'] = 'survai-data-connect.json'\n",
    "storage_client = storage.Client()\n",
    "bucket_name = 'survai-dataset'\n",
    "bucket = storage_client.bucket(bucket_name)"
   ]
  },
  {
   "cell_type": "code",
   "execution_count": 9,
   "metadata": {},
   "outputs": [
    {
     "name": "stdout",
     "output_type": "stream",
     "text": [
      "datasets/var/master_videos/person on ground/H9tfQGmeyP07_000220_000225.mp4\n",
      "datasets/var/master_videos/person on ground/H9tfQGmeyP08_000253_000261.mp4\n",
      "datasets/var/master_videos/person on ground/I5gva0o5GPo13_000371_000392.mp4\n",
      "datasets/var/master_videos/person on ground/I5gva0o5GPo14_000435_000441.mp4\n",
      "datasets/var/master_videos/person on ground/I5gva0o5GPo17_000630_000635.mp4\n",
      "datasets/var/master_videos/person on ground/I5gva0o5GPo2_000051_000076.mp4\n",
      "datasets/var/master_videos/person on ground/I5gva0o5GPo4_000135_000137.mp4\n",
      "datasets/var/master_videos/person on ground/I5gva0o5GPo7_000146_000152.mp4\n",
      "datasets/var/master_videos/person on ground/I5gva0o5GPo9_000174_000178.mp4\n",
      "datasets/var/master_videos/person on ground/NkzNcFHnTOk1_000000_000009.mp4\n",
      "datasets/var/master_videos/person on ground/cfgGnPIpFLQ10_000252_000262.mp4\n",
      "datasets/var/master_videos/person on ground/cfgGnPIpFLQ22_000607_000619.mp4\n",
      "datasets/var/master_videos/person on ground/cfgGnPIpFLQ2_000024_000044.mp4\n",
      "datasets/var/master_videos/person on ground/cfgGnPIpFLQ4_000092_000107.mp4\n",
      "datasets/var/master_videos/person on ground/gonlLydYP_I12_000183_000186.mp4\n",
      "datasets/var/master_videos/person on ground/gonlLydYP_I14_000189_000196.mp4\n",
      "datasets/var/master_videos/person on ground/gonlLydYP_I16_000207_000212.mp4\n",
      "datasets/var/master_videos/person on ground/gonlLydYP_I1_000018_000024.mp4\n",
      "datasets/var/master_videos/person on ground/gonlLydYP_I3_000038_000043.mp4\n",
      "datasets/var/master_videos/person on ground/roQ-ObzbDxU10_000141_000161.mp4\n",
      "datasets/var/master_videos/person on ground/roQ-ObzbDxU6_000079_000090.mp4\n",
      "datasets/var/master_videos/person on ground/roQ-ObzbDxU7_000093_000100.mp4\n",
      "datasets/var/master_videos/person on ground/yb6DF7zciSA2_000064_000068.mp4\n"
     ]
    }
   ],
   "source": [
    "blobs = storage_client.list_blobs(bucket_name, prefix='datasets/var/master_videos/person on ground')\n",
    "\n",
    "for blob in blobs:\n",
    "    print(blob.name)"
   ]
  },
  {
   "cell_type": "code",
   "execution_count": 12,
   "metadata": {},
   "outputs": [
    {
     "ename": "AttributeError",
     "evalue": "'str' object has no attribute 'path'",
     "output_type": "error",
     "traceback": [
      "\u001b[1;31m---------------------------------------------------------------------------\u001b[0m",
      "\u001b[1;31mAttributeError\u001b[0m                            Traceback (most recent call last)",
      "\u001b[1;32m~\\AppData\\Local\\Temp/ipykernel_17280/1866098567.py\u001b[0m in \u001b[0;36m<module>\u001b[1;34m\u001b[0m\n\u001b[0;32m      4\u001b[0m     \u001b[0mname\u001b[0m \u001b[1;33m=\u001b[0m \u001b[0mblob\u001b[0m\u001b[1;33m.\u001b[0m\u001b[0mname\u001b[0m\u001b[1;33m.\u001b[0m\u001b[0msplit\u001b[0m\u001b[1;33m(\u001b[0m\u001b[1;34m'/'\u001b[0m\u001b[1;33m)\u001b[0m\u001b[1;33m[\u001b[0m\u001b[1;36m4\u001b[0m\u001b[1;33m]\u001b[0m\u001b[1;33m\u001b[0m\u001b[1;33m\u001b[0m\u001b[0m\n\u001b[0;32m      5\u001b[0m     \u001b[0msource_blob\u001b[0m \u001b[1;33m=\u001b[0m \u001b[0mblob\u001b[0m\u001b[1;33m.\u001b[0m\u001b[0mname\u001b[0m\u001b[1;33m\u001b[0m\u001b[1;33m\u001b[0m\u001b[0m\n\u001b[1;32m----> 6\u001b[1;33m     \u001b[0mblob_copy\u001b[0m \u001b[1;33m=\u001b[0m \u001b[0mbucket\u001b[0m\u001b[1;33m.\u001b[0m\u001b[0mcopy_blob\u001b[0m\u001b[1;33m(\u001b[0m\u001b[0msource_blob\u001b[0m\u001b[1;33m,\u001b[0m \u001b[0mbucket\u001b[0m\u001b[1;33m,\u001b[0m \u001b[1;34mf\"datasets/var/master_videos/person_on_ground/{name}\"\u001b[0m\u001b[1;33m)\u001b[0m\u001b[1;33m\u001b[0m\u001b[1;33m\u001b[0m\u001b[0m\n\u001b[0m\u001b[0;32m      7\u001b[0m \u001b[1;33m\u001b[0m\u001b[0m\n",
      "\u001b[1;32mc:\\Users\\jacks\\.conda\\envs\\dsbasic\\lib\\site-packages\\google\\cloud\\storage\\bucket.py\u001b[0m in \u001b[0;36mcopy_blob\u001b[1;34m(self, blob, destination_bucket, new_name, client, preserve_acl, source_generation, if_generation_match, if_generation_not_match, if_metageneration_match, if_metageneration_not_match, if_source_generation_match, if_source_generation_not_match, if_source_metageneration_match, if_source_metageneration_not_match, timeout, retry)\u001b[0m\n\u001b[0;32m   1948\u001b[0m \u001b[1;33m\u001b[0m\u001b[0m\n\u001b[0;32m   1949\u001b[0m         \u001b[0mnew_blob\u001b[0m \u001b[1;33m=\u001b[0m \u001b[0mBlob\u001b[0m\u001b[1;33m(\u001b[0m\u001b[0mbucket\u001b[0m\u001b[1;33m=\u001b[0m\u001b[0mdestination_bucket\u001b[0m\u001b[1;33m,\u001b[0m \u001b[0mname\u001b[0m\u001b[1;33m=\u001b[0m\u001b[0mnew_name\u001b[0m\u001b[1;33m)\u001b[0m\u001b[1;33m\u001b[0m\u001b[1;33m\u001b[0m\u001b[0m\n\u001b[1;32m-> 1950\u001b[1;33m         \u001b[0mapi_path\u001b[0m \u001b[1;33m=\u001b[0m \u001b[0mblob\u001b[0m\u001b[1;33m.\u001b[0m\u001b[0mpath\u001b[0m \u001b[1;33m+\u001b[0m \u001b[1;34m\"/copyTo\"\u001b[0m \u001b[1;33m+\u001b[0m \u001b[0mnew_blob\u001b[0m\u001b[1;33m.\u001b[0m\u001b[0mpath\u001b[0m\u001b[1;33m\u001b[0m\u001b[1;33m\u001b[0m\u001b[0m\n\u001b[0m\u001b[0;32m   1951\u001b[0m         copy_result = client._post_resource(\n\u001b[0;32m   1952\u001b[0m             \u001b[0mapi_path\u001b[0m\u001b[1;33m,\u001b[0m\u001b[1;33m\u001b[0m\u001b[1;33m\u001b[0m\u001b[0m\n",
      "\u001b[1;31mAttributeError\u001b[0m: 'str' object has no attribute 'path'"
     ]
    }
   ],
   "source": [
    "blobs = storage_client.list_blobs(bucket_name, prefix='datasets/var/master_videos/person on ground')\n",
    "\n",
    "for blob in blobs:\n",
    "    name = blob.name.split('/')[4]\n",
    "    blob_copy = bucket.copy_blob(blob, bucket, f\"datasets/var/master_videos/person_on_ground/{name}\")\n",
    "    \n"
   ]
  }
 ],
 "metadata": {
  "interpreter": {
   "hash": "7f0d9b29d3abf450bf16b2b0a1c26e44348ebdbb4c4f2d61ade5ad73213c2959"
  },
  "kernelspec": {
   "display_name": "Python 3.9.7 ('dsbasic')",
   "language": "python",
   "name": "python3"
  },
  "language_info": {
   "codemirror_mode": {
    "name": "ipython",
    "version": 3
   },
   "file_extension": ".py",
   "mimetype": "text/x-python",
   "name": "python",
   "nbconvert_exporter": "python",
   "pygments_lexer": "ipython3",
   "version": "3.9.7"
  },
  "orig_nbformat": 4
 },
 "nbformat": 4,
 "nbformat_minor": 2
}
