{
 "cells": [
  {
   "cell_type": "code",
   "execution_count": 79,
   "metadata": {},
   "outputs": [],
   "source": [
    "from distutils.log import error\n",
    "import os\n",
    "import shutil\n",
    "from google.cloud import storage\n",
    "import argparse\n",
    "from pytube import YouTube\n",
    "import ffmpeg\n",
    "import pandas as pd\n",
    "from pytube.exceptions import VideoUnavailable\n",
    "import subprocess\n",
    "from decord import VideoReader\n",
    "import os\n",
    "import multiprocessing\n",
    "from multiprocessing import Pool\n",
    "import concurrent.futures\n",
    "import time"
   ]
  },
  {
   "cell_type": "code",
   "execution_count": 80,
   "metadata": {},
   "outputs": [],
   "source": [
    "# connect to gcloud bucket\n",
    "os.environ['GOOGLE_APPLICATION_CREDENTIALS'] = 'survai-data-connect.json'\n",
    "storage_client = storage.Client()\n",
    "bucket_name = 'js_test_bucket'\n",
    "\n"
   ]
  },
  {
   "cell_type": "code",
   "execution_count": 81,
   "metadata": {},
   "outputs": [],
   "source": [
    "csv_path = 'var_data.csv'\n",
    "\n",
    "clarity_level = ['none', 'easy', 'medium', 'hard']"
   ]
  },
  {
   "cell_type": "code",
   "execution_count": 82,
   "metadata": {},
   "outputs": [],
   "source": [
    "# read csv, clean data\n",
    "df = pd.read_csv(csv_path)\n",
    "df = df.reset_index()\n",
    "df['clarity_level'] = df['clarity_level'].fillna('none') \n",
    "df['split'] = 'train'\n",
    "\n",
    "# open label_map.txt, create list of labels with their index as key\n",
    "txt = open('label_map.txt', 'r')\n",
    "lines = [s.strip('\\n')for s in txt]\n",
    "label_map = dict((index, label) for label, index in enumerate(lines, start=0))\n",
    "broken_videos = []\n",
    "\n",
    "videos = storage_client.list_blobs(bucket_name, prefix='datasets/var/master_videos/')\n",
    "video_list = [video.name for video in videos]\n",
    "\n",
    "has_dash = False\n",
    "df = df.head(10)"
   ]
  },
  {
   "cell_type": "code",
   "execution_count": 83,
   "metadata": {},
   "outputs": [
    {
     "data": {
      "text/plain": [
       "[['https://www.youtube.com/watch?v=4pRPc04xoEo',\n",
       "  'crowd',\n",
       "  0,\n",
       "  12,\n",
       "  '4pRPc04xoEo1',\n",
       "  'none'],\n",
       " ['https://www.youtube.com/watch?v=4pRPc04xoEo',\n",
       "  'spray',\n",
       "  12,\n",
       "  18,\n",
       "  '4pRPc04xoEo2',\n",
       "  'hard'],\n",
       " ['https://www.youtube.com/watch?v=4pRPc04xoEo',\n",
       "  'running',\n",
       "  12,\n",
       "  21,\n",
       "  '4pRPc04xoEo3',\n",
       "  'hard'],\n",
       " ['https://www.youtube.com/watch?v=4pRPc04xoEo',\n",
       "  'crowd',\n",
       "  34,\n",
       "  44,\n",
       "  '4pRPc04xoEo4',\n",
       "  'none'],\n",
       " ['https://www.youtube.com/watch?v=4pRPc04xoEo',\n",
       "  'crowd',\n",
       "  66,\n",
       "  71,\n",
       "  '4pRPc04xoEo5',\n",
       "  'none'],\n",
       " ['https://www.youtube.com/watch?v=4pRPc04xoEo',\n",
       "  'spray',\n",
       "  87,\n",
       "  93,\n",
       "  '4pRPc04xoEo6',\n",
       "  'bad'],\n",
       " ['https://www.youtube.com/watch?v=4pRPc04xoEo',\n",
       "  'crowd',\n",
       "  95,\n",
       "  107,\n",
       "  '4pRPc04xoEo7',\n",
       "  'none'],\n",
       " ['https://www.youtube.com/watch?v=4pRPc04xoEo',\n",
       "  'crowd',\n",
       "  135,\n",
       "  153,\n",
       "  '4pRPc04xoEo8',\n",
       "  'none'],\n",
       " ['https://www.youtube.com/watch?v=4pRPc04xoEo',\n",
       "  'crowd',\n",
       "  167,\n",
       "  173,\n",
       "  '4pRPc04xoEo9',\n",
       "  'none'],\n",
       " ['https://www.youtube.com/watch?v=4pRPc04xoEo',\n",
       "  'crowd',\n",
       "  179,\n",
       "  192,\n",
       "  '4pRPc04xoEo10',\n",
       "  'none']]"
      ]
     },
     "execution_count": 83,
     "metadata": {},
     "output_type": "execute_result"
    }
   ],
   "source": [
    "videos = []\n",
    "\n",
    "def create_urls(row):\n",
    "\n",
    "    label = row.label\n",
    "    start = row.time_start\n",
    "    end = row.time_end\n",
    "    id = str(row.id)\n",
    "    url = f'https://www.youtube.com/watch?v={id[0:11]}'\n",
    "    \n",
    "    videos.append([\n",
    "        url,\n",
    "        label,\n",
    "        start,\n",
    "        end,\n",
    "        id,\n",
    "        row.clarity_level\n",
    "    ])\n",
    "\n",
    "\n",
    "df.apply(create_urls, axis=1)\n",
    "\n",
    "videos"
   ]
  },
  {
   "cell_type": "code",
   "execution_count": 84,
   "metadata": {},
   "outputs": [],
   "source": [
    "# function to upload videos to gcloud bucket\n",
    "def upload_to_bucket(blob_name, file_path, bucket_name):\n",
    "    try:\n",
    "        bucket = storage_client.get_bucket(bucket_name)\n",
    "        blob = bucket.blob(blob_name)\n",
    "        blob.upload_from_filename(file_path)\n",
    "    except Exception as e:\n",
    "        print(e)"
   ]
  },
  {
   "cell_type": "code",
   "execution_count": 85,
   "metadata": {},
   "outputs": [],
   "source": [
    "# function to download videos, trim, and upload to gcloud storage\n",
    "def download_videos(video):\n",
    "\n",
    "    # ignore labels not in label map or already in gcloud\n",
    "    blob = f'datasets/var/master_videos/{video[1]}/{video[4]}_{str(video[2]).zfill(6)}_{str(video[3]).zfill(6)}.mp4'\n",
    "\n",
    "    if video[1] in label_map.keys() and blob not in video_list:\n",
    "\n",
    "        try:\n",
    "\n",
    "            # download full video from youtube\n",
    "            vid = YouTube(video[0], use_oauth=True, allow_oauth_cache=True) \n",
    "            yt_video = vid.streams.get_highest_resolution()\n",
    "            yt_video.download(output_path=f'test/{video[1]}', filename=f\"{video[4]}.mp4\")\n",
    "            print(f'{video[4]} downloaded')\n",
    "\n",
    "\n",
    "            # trim video to specified start and end time\n",
    "            command = [\n",
    "                'ffmpeg', '-i',\n",
    "                f'test/{video[1]}/{video[4]}.mp4', '-ss',\n",
    "                str(video[2]), '-t',\n",
    "                str(video[3] - video[2]), '-c:v', 'libx264', '-c:a', 'copy',\n",
    "                '-threads', '1', '-loglevel', 'panic',\n",
    "                f'test/{video[1]}/{video[4]}_{str(video[2]).zfill(6)}_{str(video[3]).zfill(6)}.mp4'\n",
    "            ]\n",
    "            command = ' '.join(command)\n",
    "            print(f'{video[4]} clipped successfully')\n",
    "\n",
    "            try:\n",
    "                subprocess.check_output(\n",
    "                    command, shell=True, stderr=subprocess.STDOUT)\n",
    "            except subprocess.CalledProcessError as err:\n",
    "                return err.output\n",
    "            \n",
    "\n",
    "            # upload to gcloud bucket\n",
    "            upload_to_bucket(f'datasets/var/master_videos/{video[1]}/{video[4]}_{str(video[2]).zfill(6)}_{str(video[3]).zfill(6)}.mp4', \n",
    "                            f'test/{video[1]}/{video[4]}_{str(video[2]).zfill(6)}_{str(video[3]).zfill(6)}.mp4', bucket_name)\n",
    "                                \n",
    "            print(f'{video[4]}_{str(video[2]).zfill(6)}_{str(video[3]).zfill(6)}.mp4 uploaded to gcloud successfully') \n",
    "\n",
    "\n",
    "            # remove videos from local machine\n",
    "            os.remove(f'test/{video[1]}/{video[4]}.mp4')\n",
    "            os.remove(f'test/{video[1]}/{video[4]}_{str(video[2]).zfill(6)}_{str(video[3]).zfill(6)}.mp4')\n",
    "\n",
    "        except:\n",
    "            broken_videos.append(video)\n",
    "               \n",
    "    \n",
    "    else:\n",
    "        print(f'{video[4]}_{str(video[2]).zfill(6)}_{str(video[3]).zfill(6)}.mp4 SKIPPED')"
   ]
  },
  {
   "cell_type": "code",
   "execution_count": 86,
   "metadata": {},
   "outputs": [
    {
     "name": "stdout",
     "output_type": "stream",
     "text": [
      "4pRPc04xoEo1_000000_000012.mp4 SKIPPED\n",
      "4pRPc04xoEo2_000012_000018.mp4 SKIPPED\n",
      "4pRPc04xoEo3_000012_000021.mp4 SKIPPED\n",
      "4pRPc04xoEo4_000034_000044.mp4 SKIPPED\n",
      "4pRPc04xoEo5_000066_000071.mp4 SKIPPED\n",
      "4pRPc04xoEo6_000087_000093.mp4 SKIPPED\n",
      "4pRPc04xoEo7_000095_000107.mp4 SKIPPED\n",
      "4pRPc04xoEo8_000135_000153.mp4 SKIPPED\n",
      "4pRPc04xoEo9_000167_000173.mp4 SKIPPED\n",
      "4pRPc04xoEo10_000179_000192.mp4 SKIPPED\n"
     ]
    }
   ],
   "source": [
    "# execute download videos as multithreaded process\n",
    "with concurrent.futures.ThreadPoolExecutor() as executor:\n",
    "    \n",
    "    executor.map(download_videos, videos)"
   ]
  },
  {
   "cell_type": "code",
   "execution_count": 8,
   "metadata": {},
   "outputs": [],
   "source": [
    "for video in videos:\n",
    "    download_videos(video)"
   ]
  }
 ],
 "metadata": {
  "kernelspec": {
   "display_name": "Python 3.9.13 ('dsbasic')",
   "language": "python",
   "name": "python3"
  },
  "language_info": {
   "codemirror_mode": {
    "name": "ipython",
    "version": 3
   },
   "file_extension": ".py",
   "mimetype": "text/x-python",
   "name": "python",
   "nbconvert_exporter": "python",
   "pygments_lexer": "ipython3",
   "version": "3.9.13"
  },
  "orig_nbformat": 4,
  "vscode": {
   "interpreter": {
    "hash": "ba6b70012bb1886e671e644fad58c5bb2ecea54d2fb7ca838b4cfe439afad372"
   }
  }
 },
 "nbformat": 4,
 "nbformat_minor": 2
}
