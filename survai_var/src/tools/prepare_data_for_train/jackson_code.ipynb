{
 "cells": [
  {
   "cell_type": "code",
   "execution_count": 13,
   "metadata": {},
   "outputs": [],
   "source": [
    "import json\n",
    "import os\n",
    "from pytube import YouTube\n",
    "from moviepy.video.io.ffmpeg_tools import ffmpeg_extract_subclip\n",
    "import pandas as pd"
   ]
  },
  {
   "cell_type": "markdown",
   "metadata": {},
   "source": [
    "## For CSV"
   ]
  },
  {
   "cell_type": "code",
   "execution_count": 87,
   "metadata": {},
   "outputs": [
    {
     "data": {
      "text/html": [
       "<div>\n",
       "<style scoped>\n",
       "    .dataframe tbody tr th:only-of-type {\n",
       "        vertical-align: middle;\n",
       "    }\n",
       "\n",
       "    .dataframe tbody tr th {\n",
       "        vertical-align: top;\n",
       "    }\n",
       "\n",
       "    .dataframe thead th {\n",
       "        text-align: right;\n",
       "    }\n",
       "</style>\n",
       "<table border=\"1\" class=\"dataframe\">\n",
       "  <thead>\n",
       "    <tr style=\"text-align: right;\">\n",
       "      <th></th>\n",
       "      <th>index</th>\n",
       "      <th>Unnamed: 0</th>\n",
       "      <th>label</th>\n",
       "      <th>youtube_id</th>\n",
       "      <th>time_start</th>\n",
       "      <th>time_end</th>\n",
       "      <th>split</th>\n",
       "    </tr>\n",
       "  </thead>\n",
       "  <tbody>\n",
       "    <tr>\n",
       "      <th>0</th>\n",
       "      <td>0</td>\n",
       "      <td>36</td>\n",
       "      <td>ru</td>\n",
       "      <td>LJZSQXpw8ig2</td>\n",
       "      <td>45.0</td>\n",
       "      <td>50.0</td>\n",
       "      <td>test</td>\n",
       "    </tr>\n",
       "    <tr>\n",
       "      <th>1</th>\n",
       "      <td>1</td>\n",
       "      <td>10</td>\n",
       "      <td>cr</td>\n",
       "      <td>4pRPc04xoEo11</td>\n",
       "      <td>210.0</td>\n",
       "      <td>226.0</td>\n",
       "      <td>test</td>\n",
       "    </tr>\n",
       "    <tr>\n",
       "      <th>2</th>\n",
       "      <td>2</td>\n",
       "      <td>35</td>\n",
       "      <td>ru</td>\n",
       "      <td>LJZSQXpw8ig1</td>\n",
       "      <td>2.0</td>\n",
       "      <td>5.0</td>\n",
       "      <td>test</td>\n",
       "    </tr>\n",
       "    <tr>\n",
       "      <th>3</th>\n",
       "      <td>3</td>\n",
       "      <td>11</td>\n",
       "      <td>cr</td>\n",
       "      <td>4pRPc04xoEo12</td>\n",
       "      <td>252.0</td>\n",
       "      <td>266.0</td>\n",
       "      <td>test</td>\n",
       "    </tr>\n",
       "    <tr>\n",
       "      <th>4</th>\n",
       "      <td>4</td>\n",
       "      <td>40</td>\n",
       "      <td>st</td>\n",
       "      <td>4GXivYtOLvQ3</td>\n",
       "      <td>5.0</td>\n",
       "      <td>19.0</td>\n",
       "      <td>test</td>\n",
       "    </tr>\n",
       "    <tr>\n",
       "      <th>5</th>\n",
       "      <td>5</td>\n",
       "      <td>14</td>\n",
       "      <td>ad</td>\n",
       "      <td>NSat-nRefXY2</td>\n",
       "      <td>12.0</td>\n",
       "      <td>17.0</td>\n",
       "      <td>test</td>\n",
       "    </tr>\n",
       "    <tr>\n",
       "      <th>6</th>\n",
       "      <td>6</td>\n",
       "      <td>17</td>\n",
       "      <td>st</td>\n",
       "      <td>NSat-nRefXY5</td>\n",
       "      <td>80.0</td>\n",
       "      <td>81.0</td>\n",
       "      <td>test</td>\n",
       "    </tr>\n",
       "  </tbody>\n",
       "</table>\n",
       "</div>"
      ],
      "text/plain": [
       "   index  Unnamed: 0 label     youtube_id  time_start  time_end split\n",
       "0      0          36    ru   LJZSQXpw8ig2        45.0      50.0  test\n",
       "1      1          10    cr  4pRPc04xoEo11       210.0     226.0  test\n",
       "2      2          35    ru   LJZSQXpw8ig1         2.0       5.0  test\n",
       "3      3          11    cr  4pRPc04xoEo12       252.0     266.0  test\n",
       "4      4          40    st   4GXivYtOLvQ3         5.0      19.0  test\n",
       "5      5          14    ad   NSat-nRefXY2        12.0      17.0  test\n",
       "6      6          17    st   NSat-nRefXY5        80.0      81.0  test"
      ]
     },
     "execution_count": 87,
     "metadata": {},
     "output_type": "execute_result"
    }
   ],
   "source": [
    "csv_path = 'csv/09-11-2021-12_39_19_test.csv'\n",
    "df = pd.read_csv(csv_path)\n",
    "df = df.reset_index()  # make sure indexes pair with number of rows\n",
    "df"
   ]
  },
  {
   "cell_type": "code",
   "execution_count": 100,
   "metadata": {},
   "outputs": [
    {
     "name": "stdout",
     "output_type": "stream",
     "text": [
      "LJZSQXpw8ig\n",
      "Moviepy - Running:\n",
      ">>> \"+ \" \".join(cmd)\n",
      "Moviepy - Command successful\n",
      "4pRPc04xoEo\n",
      "Moviepy - Running:\n",
      ">>> \"+ \" \".join(cmd)\n",
      "Moviepy - Command successful\n",
      "LJZSQXpw8ig\n",
      "Moviepy - Running:\n",
      ">>> \"+ \" \".join(cmd)\n",
      "Moviepy - Command successful\n",
      "4pRPc04xoEo\n",
      "Moviepy - Running:\n",
      ">>> \"+ \" \".join(cmd)\n",
      "Moviepy - Command successful\n",
      "4GXivYtOLvQ\n",
      "NSat-nRefXY\n",
      "Moviepy - Running:\n",
      ">>> \"+ \" \".join(cmd)\n",
      "Moviepy - Command successful\n",
      "NSat-nRefXY\n",
      "Moviepy - Running:\n",
      ">>> \"+ \" \".join(cmd)\n",
      "Moviepy - Command successful\n"
     ]
    }
   ],
   "source": [
    "# download clips of all videos\n",
    "\n",
    "for index, row in df.iterrows():\n",
    "    youtube_id = str(row['youtube_id'][0:11])\n",
    "    start = int(row['time_start'])\n",
    "    end = int(row['time_end'])\n",
    "    url = f'https://www.youtube.com/watch?v={youtube_id}'\n",
    "\n",
    "    video_names = []\n",
    "\n",
    "    try:\n",
    "        video = YouTube(url)\n",
    "        yt_video = video.streams.get_highest_resolution()\n",
    "        video_name = f'{youtube_id}.mp4'\n",
    "        video_names.append(video_name)\n",
    "        yt_video.download(output_path='videos/', filename=video_name)\n",
    "\n",
    "    except:\n",
    "        continue\n",
    "\n",
    "\n",
    "    for video in video_names:\n",
    "        ffmpeg_extract_subclip(filename=f'videos/{video_name}', t1=start, t2=end)   "
   ]
  },
  {
   "cell_type": "markdown",
   "metadata": {},
   "source": [
    "## For JSON"
   ]
  },
  {
   "cell_type": "code",
   "execution_count": null,
   "metadata": {},
   "outputs": [],
   "source": [
    "json_path = '09-11-2021-11_43_23.json'\n",
    "data = json.load(open(json_path, 'r'))"
   ]
  },
  {
   "cell_type": "code",
   "execution_count": 12,
   "metadata": {},
   "outputs": [],
   "source": [
    "# download video clips\n",
    "\n",
    "for k, annot in data.items():\n",
    "    url = annot['url']\n",
    "    segs = annot['annotations']['segment']\n",
    "    start = int(segs[0])\n",
    "    end = int(segs[1])\n",
    "\n",
    "    try:\n",
    "        video = YouTube(url)\n",
    "        yt_video = video.streams.get_highest_resolution()\n",
    "        yt_video.download()\n",
    "        #video_name = yt_video.streams.title()\n",
    "        clips = ffmpeg_extract_subclip(\"RAW Police protesters clash in downtown Denver.mp4\", start, end)\n",
    "        #clips = ffmpeg_extract_subclip(f\"{video_name}.mp4\", start, end)\n",
    "    except:\n",
    "        continue    "
   ]
  }
 ],
 "metadata": {
  "interpreter": {
   "hash": "7f0d9b29d3abf450bf16b2b0a1c26e44348ebdbb4c4f2d61ade5ad73213c2959"
  },
  "kernelspec": {
   "display_name": "Python 3.9.7 ('dsbasic')",
   "language": "python",
   "name": "python3"
  },
  "language_info": {
   "codemirror_mode": {
    "name": "ipython",
    "version": 3
   },
   "file_extension": ".py",
   "mimetype": "text/x-python",
   "name": "python",
   "nbconvert_exporter": "python",
   "pygments_lexer": "ipython3",
   "version": "3.9.7"
  },
  "orig_nbformat": 4
 },
 "nbformat": 4,
 "nbformat_minor": 2
}
