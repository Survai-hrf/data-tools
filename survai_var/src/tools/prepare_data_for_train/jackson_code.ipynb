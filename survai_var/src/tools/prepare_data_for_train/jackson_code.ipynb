{
 "cells": [
  {
   "cell_type": "markdown",
   "metadata": {},
   "source": [
    "#### Download videos from CSV"
   ]
  },
  {
   "cell_type": "code",
   "execution_count": null,
   "metadata": {},
   "outputs": [],
   "source": [
    "import os\n",
    "from pytube import YouTube\n",
    "from moviepy.video.io.ffmpeg_tools import ffmpeg_extract_subclip\n",
    "import pandas as pd\n",
    "from pytube.exceptions import VideoUnavailable\n",
    "import shutil"
   ]
  },
  {
   "cell_type": "code",
   "execution_count": null,
   "metadata": {},
   "outputs": [],
   "source": [
    "csv_path = 'csvs/11-11-21_03-17-22_LEGACY_test.csv'\n",
    "df = pd.read_csv(csv_path)\n",
    "df = df.reset_index()  # make sure indexes pair with number of rows"
   ]
  },
  {
   "cell_type": "code",
   "execution_count": null,
   "metadata": {},
   "outputs": [],
   "source": [
    "label_list = ['br', 'cr', 'st', 'pg', 'ru', 'ar', 'th', 'ps']\n",
    "class_dict = {'br': 0, 'cr': 1, 'pg': 2, 'ar': 3, 'ru': 4, 'ps': 5, 'st': 6}"
   ]
  },
  {
   "cell_type": "code",
   "execution_count": null,
   "metadata": {},
   "outputs": [],
   "source": [
    "# create array to store broken videos\n",
    "broken_videos = set()\n",
    "\n",
    "# function that retries download after first fails, (tries) times\n",
    "def retry_download(tries, url, file_name, label):\n",
    "    for i in range(tries):\n",
    "        try:\n",
    "            video = YouTube(url)\n",
    "            yt_video = video.streams.get_highest_resolution()\n",
    "            yt_video.download(output_path=f'videos/{label}/', filename=f\"{file_name}.mp4\")\n",
    "\n",
    "            # download videos into correct folder\n",
    "            ffmpeg_extract_subclip(filename=f'videos/{label}/{file_name}.mp4', t1=start, t2=end, \n",
    "                                    targetname=f'videos/{label}/{file_name}_{fill_start}_{fill_end}.mp4') \n",
    "            os.remove(f'videos/{label}/{file_name}.mp4')\n",
    "            \n",
    "        except VideoUnavailable:\n",
    "            if i < tries:\n",
    "                broken_videos.add(file_name) # add broken videos to array to be deleted\n",
    "                continue        "
   ]
  },
  {
   "cell_type": "code",
   "execution_count": null,
   "metadata": {},
   "outputs": [],
   "source": [
    "# Iterates all videos in csv\n",
    "for index, row in df.iterrows():\n",
    "\n",
    "    file_name = str(row['youtube_id'])\n",
    "    start = int(row['time_start'])\n",
    "    end = int(row['time_end'])\n",
    "    label = str(row['label'])\n",
    "    bad_egg = row['bad_egg']\n",
    "    url = f'https://www.youtube.com/watch?v={file_name[0:11]}'\n",
    "    fill_start = str(start).zfill(6) # make times the same number of digits\n",
    "    fill_end = str(end).zfill(6)\n",
    "\n",
    "    # ignore bad labels and bad videos\n",
    "    if label not in label_list or bad_egg == True:\n",
    "        continue\n",
    "\n",
    "    # makes sure videos that were previously downloaded don't get downloaded again\n",
    "    if os.path.exists(f\"master_videos/{label}/{file_name}_{fill_start}_{fill_end}.mp4\"):\n",
    "        print('file already exists')\n",
    "        continue\n",
    "    \n",
    "    try:\n",
    "        video = YouTube(url)\n",
    "        yt_video = video.streams.get_highest_resolution()\n",
    "        # download video to master_videos directory\n",
    "        yt_video.download(output_path=f'master_videos/{label}', filename=f\"{file_name}.mp4\")\n",
    "        \n",
    "\n",
    "        # download videos into correct folder\n",
    "        ffmpeg_extract_subclip(filename=f'master_videos/{label}/{file_name}.mp4', t1=start, t2=end, \n",
    "                                targetname=f'master_videos/{label}/{file_name}_{fill_start}_{fill_end}.mp4') \n",
    "        os.remove(f'master_videos/{label}/{file_name}.mp4')\n",
    "\n",
    "    except:\n",
    "        print('retrying...', file_name)\n",
    "        retry_download(1, url, file_name, label)  "
   ]
  },
  {
   "cell_type": "code",
   "execution_count": null,
   "metadata": {},
   "outputs": [],
   "source": [
    "# drop broken videos from dataframe\n",
    "for video in broken_videos:\n",
    "    df = df.drop(df.loc[df['youtube_id'] == video].index)"
   ]
  },
  {
   "cell_type": "code",
   "execution_count": null,
   "metadata": {},
   "outputs": [],
   "source": [
    "# create dataframe of random val videos, amount for each class based off of 35% of the smallest class\n",
    "least_label_35 = int(df['label'].value_counts().min()*.35)\n",
    "df_val = df.groupby('label')['youtube_id', 'time_start', 'time_end'].apply(lambda s: s.sample(least_label_35))\n",
    "df_val = pd.DataFrame(df_val)\n",
    "df_val = df_val.reset_index()"
   ]
  },
  {
   "cell_type": "code",
   "execution_count": null,
   "metadata": {},
   "outputs": [],
   "source": [
    "# remove df_val from df to get list of id's for df_train\n",
    "cond = df['youtube_id'].isin(df_val['youtube_id'])\n",
    "df.drop(df[cond].index, inplace = True)"
   ]
  },
  {
   "cell_type": "code",
   "execution_count": null,
   "metadata": {},
   "outputs": [],
   "source": [
    "# move val videos to new directory\n",
    "val_list = []\n",
    "\n",
    "for ind, row in df_val.iterrows():\n",
    "    \n",
    "    id = str(row['youtube_id'])\n",
    "    label = str(row['label'])\n",
    "    start = row['time_start']\n",
    "    end = row['time_end']\n",
    "    fill_start = str(start).zfill(6) # make times the same number of digits\n",
    "    fill_end = str(end).zfill(6)\n",
    "    class_num = class_dict.get(label)\n",
    "    \n",
    "    # ignore bad labels and bad videos\n",
    "    if label not in label_list or bad_egg == True:\n",
    "        continue   \n",
    "       \n",
    "    # create directory to move val videos\n",
    "    val_path = f'val/{label}'\n",
    "    if not os.path.exists(val_path):\n",
    "        os.makedirs(val_path)\n",
    "\n",
    "    # move videos to val videos\n",
    "    shutil.copyfile(f\"master_videos/{label}/{id}_{fill_start}_{fill_end}.mp4\", \n",
    "                    f\"val/{label}/{id}_{fill_start}_{fill_end}.mp4\")   \n",
    "    val_list.append(f\"{label}/{id}_{fill_start}_{fill_end}.mp4 {class_num}\")"
   ]
  },
  {
   "cell_type": "code",
   "execution_count": null,
   "metadata": {},
   "outputs": [],
   "source": [
    "# move train videos to new directory\n",
    "train_list = []\n",
    "\n",
    "for ind, row in df.iterrows():\n",
    "    \n",
    "    id = str(row['youtube_id'])\n",
    "    label = str(row['label'])\n",
    "    start = row['time_start']\n",
    "    end = row['time_end']\n",
    "    fill_start = str(start).zfill(6) # make times the same number of digits\n",
    "    fill_end = str(end).zfill(6)\n",
    "    class_num = class_dict.get(label)\n",
    "\n",
    "    # ignore bad labels and bad videos\n",
    "    if label not in label_list or bad_egg == True:\n",
    "        continue\n",
    "        \n",
    "    # create directory to for train videos\n",
    "    train_path = f'train/{label}'\n",
    "    if not os.path.exists(train_path):\n",
    "        os.makedirs(train_path)\n",
    "\n",
    "    # move videos to train videos\n",
    "    shutil.copyfile(f\"master_videos/{label}/{id}_{fill_start}_{fill_end}.mp4\", \n",
    "                    f\"train/{label}/{id}_{fill_start}_{fill_end}.mp4\")\n",
    "    train_list.append(f\"{label}/{id}_{fill_start}_{fill_end}.mp4 {class_num}\")"
   ]
  },
  {
   "cell_type": "code",
   "execution_count": null,
   "metadata": {},
   "outputs": [],
   "source": [
    "# create val_list and train_list txt's  \n",
    "with open('files_txts/val_list.txt', 'w') as val_file, open('files_txts/train_list.txt', 'w') as train_file:\n",
    "    for video in val_list:\n",
    "        val_file.write(\"%s\\n\" % f'{video}')\n",
    "    for video in train_list:\n",
    "        train_file.write(\"%s\\n\" % f'{video}')"
   ]
  }
 ],
 "metadata": {
  "interpreter": {
   "hash": "7f0d9b29d3abf450bf16b2b0a1c26e44348ebdbb4c4f2d61ade5ad73213c2959"
  },
  "kernelspec": {
   "display_name": "Python 3.9.7 ('dsbasic')",
   "language": "python",
   "name": "python3"
  },
  "language_info": {
   "codemirror_mode": {
    "name": "ipython",
    "version": 3
   },
   "file_extension": ".py",
   "mimetype": "text/x-python",
   "name": "python",
   "nbconvert_exporter": "python",
   "pygments_lexer": "ipython3",
   "version": "3.9.7"
  },
  "orig_nbformat": 4
 },
 "nbformat": 4,
 "nbformat_minor": 2
}
