{
 "cells": [
  {
   "cell_type": "code",
   "execution_count": 33,
   "metadata": {},
   "outputs": [],
   "source": [
    "import json\n",
    "\n",
    "fill_dict_path = 'var_jsons/16-01-2022-20_58_13.json'\n",
    "\n",
    "\n",
    "all_possible_annotations = ['brawling', 'br', 'arresting', 'ar', 'pepper spray', 'ps', 'striking', \n",
    "'st', 'advancing', 'ad', 'crowd', 'cr', 'running', 'ru', 'person on ground', 'pg', 'blood', 'bl', 'throwing', 'th', 'aiming', 'am', 'pointing', 'po' ]\n",
    "\n",
    "value_pairs = {'br': 'brawling', 'ar': 'arresting', 'ps': 'spray', 'st': 'striking', 'ad': 'advancing', 'cr': 'crowd', 'ru': 'running', 'pg': 'person on ground', 'bl': 'blood', 'th': 'throwing', 'am': 'aiming', 'po': 'person pointing'} \n",
    "\n",
    "\n",
    "with open(fill_dict_path) as json_file:\n",
    "    fill_dict = json.load(json_file)"
   ]
  },
  {
   "cell_type": "code",
   "execution_count": null,
   "metadata": {},
   "outputs": [],
   "source": [
    "for entry in fill_dict:\n",
    "    label = fill_dict[entry]['annotations']['label'] \n",
    "    new_pair = value_pairs[label]\n",
    "    fill_dict[entry]['annotations']['label'] = new_pair\n",
    "    \n",
    "\n",
    "    print(label, new_pair)\n",
    "    #fill_dict[entry]['annotations']['label'] = value_pairs.pop(label)\n",
    "    \n",
    "fill_dict\n",
    "with open(f\"var_jsons/16-01-2022-20_58_13.json\", \"w\") as outfile:\n",
    "    json.dump(fill_dict, outfile)"
   ]
  },
  {
   "cell_type": "code",
   "execution_count": null,
   "metadata": {},
   "outputs": [],
   "source": [
    "fill_dict"
   ]
  },
  {
   "cell_type": "code",
   "execution_count": null,
   "metadata": {},
   "outputs": [],
   "source": []
  }
 ],
 "metadata": {
  "interpreter": {
   "hash": "224d2077684d48301571c4288cbf20074c4721bf884654f6e3b9c2f7f09e95c7"
  },
  "kernelspec": {
   "display_name": "Python 3.9.7 64-bit ('dsbasic': conda)",
   "language": "python",
   "name": "python3"
  },
  "language_info": {
   "codemirror_mode": {
    "name": "ipython",
    "version": 3
   },
   "file_extension": ".py",
   "mimetype": "text/x-python",
   "name": "python",
   "nbconvert_exporter": "python",
   "pygments_lexer": "ipython3",
   "version": "3.9.7"
  },
  "orig_nbformat": 4
 },
 "nbformat": 4,
 "nbformat_minor": 2
}
