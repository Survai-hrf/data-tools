{
 "cells": [
  {
   "cell_type": "code",
   "execution_count": 1,
   "metadata": {},
   "outputs": [],
   "source": [
    "import pandas as pd\n",
    "import psycopg2\n",
    "import numpy as np\n",
    "import os\n",
    "from dotenv import load_dotenv, find_dotenv\n",
    "load_dotenv(find_dotenv())\n",
    "from supabase import create_client, Client\n",
    "import supabase"
   ]
  },
  {
   "cell_type": "code",
   "execution_count": 2,
   "metadata": {},
   "outputs": [],
   "source": [
    "# Load csv into a dataframe\n",
    "data = pd.read_csv('13-07-2022-14_59_00_master.csv')   \n",
    "df = pd.DataFrame(data)"
   ]
  },
  {
   "cell_type": "code",
   "execution_count": 3,
   "metadata": {},
   "outputs": [
    {
     "data": {
      "text/html": [
       "<div>\n",
       "<style scoped>\n",
       "    .dataframe tbody tr th:only-of-type {\n",
       "        vertical-align: middle;\n",
       "    }\n",
       "\n",
       "    .dataframe tbody tr th {\n",
       "        vertical-align: top;\n",
       "    }\n",
       "\n",
       "    .dataframe thead th {\n",
       "        text-align: right;\n",
       "    }\n",
       "</style>\n",
       "<table border=\"1\" class=\"dataframe\">\n",
       "  <thead>\n",
       "    <tr style=\"text-align: right;\">\n",
       "      <th></th>\n",
       "      <th>label</th>\n",
       "      <th>youtube_id</th>\n",
       "      <th>time_start</th>\n",
       "      <th>time_end</th>\n",
       "      <th>clarity_level</th>\n",
       "    </tr>\n",
       "  </thead>\n",
       "  <tbody>\n",
       "    <tr>\n",
       "      <th>0</th>\n",
       "      <td>crowd</td>\n",
       "      <td>4pRPc04xoEo1</td>\n",
       "      <td>0</td>\n",
       "      <td>12</td>\n",
       "      <td>none</td>\n",
       "    </tr>\n",
       "    <tr>\n",
       "      <th>1</th>\n",
       "      <td>spray</td>\n",
       "      <td>4pRPc04xoEo2</td>\n",
       "      <td>12</td>\n",
       "      <td>18</td>\n",
       "      <td>hard</td>\n",
       "    </tr>\n",
       "    <tr>\n",
       "      <th>2</th>\n",
       "      <td>running</td>\n",
       "      <td>4pRPc04xoEo3</td>\n",
       "      <td>12</td>\n",
       "      <td>21</td>\n",
       "      <td>hard</td>\n",
       "    </tr>\n",
       "    <tr>\n",
       "      <th>3</th>\n",
       "      <td>crowd</td>\n",
       "      <td>4pRPc04xoEo4</td>\n",
       "      <td>34</td>\n",
       "      <td>44</td>\n",
       "      <td>none</td>\n",
       "    </tr>\n",
       "    <tr>\n",
       "      <th>4</th>\n",
       "      <td>crowd</td>\n",
       "      <td>4pRPc04xoEo5</td>\n",
       "      <td>66</td>\n",
       "      <td>71</td>\n",
       "      <td>none</td>\n",
       "    </tr>\n",
       "  </tbody>\n",
       "</table>\n",
       "</div>"
      ],
      "text/plain": [
       "     label    youtube_id  time_start  time_end clarity_level\n",
       "0    crowd  4pRPc04xoEo1           0        12          none\n",
       "1    spray  4pRPc04xoEo2          12        18          hard\n",
       "2  running  4pRPc04xoEo3          12        21          hard\n",
       "3    crowd  4pRPc04xoEo4          34        44          none\n",
       "4    crowd  4pRPc04xoEo5          66        71          none"
      ]
     },
     "execution_count": 3,
     "metadata": {},
     "output_type": "execute_result"
    }
   ],
   "source": [
    "# Clean data\n",
    "df['clarity_level'] = df['clarity_level'].fillna('none') # fill NaN values with 'none'\n",
    "df['bad_egg'] = df['bad_egg'].astype(str) # change bad_egg column from boolean to string\n",
    "df['clarity_level'] = np.where(df['bad_egg'] == 'True', df['bad_egg'], df['clarity_level']) # combine bad_egg and clarity_level where bad_egg = True\n",
    "df['clarity_level'] = df['clarity_level'].replace(['True'],'bad') # change value of bad_egg from 'True' to 'bad'\n",
    "df = df.drop(['bad_egg', 'split'], axis=1) # drop bad_egg and split columns\n",
    "df.head()"
   ]
  },
  {
   "cell_type": "code",
   "execution_count": 4,
   "metadata": {},
   "outputs": [],
   "source": [
    "url = os.environ.get(\"SUPABASE_URL\")\n",
    "key = os.environ.get(\"SUPABASE_KEY\")\n",
    "client = create_client(url, key)\n",
    "\n",
    "email = \"jackson.shinpaugh@gmail.com\"\n",
    "password = \"Zestymeatloaf1\"\n",
    "user = client.auth.sign_in(email=email, password=password)\n",
    "\n"
   ]
  },
  {
   "cell_type": "code",
   "execution_count": 5,
   "metadata": {},
   "outputs": [],
   "source": [
    "urls = []\n",
    "\n",
    "for ind, row in df.iterrows():\n",
    "\n",
    "    id = str(row['youtube_id'])\n",
    "    url = f'https://www.youtube.com/watch?v={id[0:11]}'\n",
    "    urls.append(url)\n",
    "\n",
    "unique_urls = set(urls)"
   ]
  },
  {
   "cell_type": "code",
   "execution_count": 6,
   "metadata": {},
   "outputs": [],
   "source": [
    "count = 1\n",
    "\n",
    "for url in unique_urls:\n",
    "    try:\n",
    "        youtube_id = url[32:]\n",
    "        query = client.table(\"urls\").insert({\"id\": count, \"url\": url, \"youtube_id\": youtube_id}).execute()\n",
    "        count = count + 1\n",
    "    except:\n",
    "        continue"
   ]
  },
  {
   "cell_type": "code",
   "execution_count": 42,
   "metadata": {},
   "outputs": [],
   "source": [
    "query = client.table(\"users\").insert({\"id\":\"1\", \"first_name\": \"Jackson\", \"last_name\": \"Shinpaugh\", \n",
    "                                    \"email\": \"jackson.shinpaugh@gmail.com\", \"password\": \"Zestymeatloaf1\"}).execute()"
   ]
  },
  {
   "cell_type": "code",
   "execution_count": 21,
   "metadata": {},
   "outputs": [],
   "source": [
    "#establishing the connection\n",
    "conn = psycopg2.connect(\n",
    "   database=\"var_data\", user='postgres', password='Zestymeatloaf1', host='localhost', port= '5432'\n",
    ")\n",
    "conn.autocommit = True\n",
    "\n",
    "#Creating a cursor object using the cursor() method\n",
    "cursor = conn.cursor()"
   ]
  },
  {
   "cell_type": "code",
   "execution_count": 14,
   "metadata": {},
   "outputs": [],
   "source": [
    "query ='''CREATE TABLE var_data(\n",
    "    LABEL text,\n",
    "    YOUTUBE_ID varchar(20),\n",
    "    CLIP_NUMBER int,\n",
    "    TIME_START int,\n",
    "    TIME_END int,\n",
    "    CLARITY_LEVEL text,\n",
    "    USER_ID int)'''\n",
    "\n",
    "cursor.execute(query)"
   ]
  },
  {
   "cell_type": "code",
   "execution_count": 22,
   "metadata": {},
   "outputs": [],
   "source": [
    "def insert_into_table(cursor, label, youtube_id, clip_number, time_start, time_end, clarity, user_id):\n",
    "    insert_into_var_data = (\"\"\"INSERT INTO var_data (label, youtube_id, clip_number, time_start,\n",
    "                        time_end, clarity_level, user_id)\n",
    "    VALUES(%s,%s,%s,%s,%s,%s,%s);\"\"\")\n",
    "    row_to_insert = (label, youtube_id, clip_number, time_start, time_end, clarity, user_id)\n",
    "    cursor.execute(insert_into_var_data, row_to_insert)"
   ]
  },
  {
   "cell_type": "code",
   "execution_count": 43,
   "metadata": {},
   "outputs": [],
   "source": [
    "for ind, row in df.iterrows():\n",
    "    \n",
    "    try:\n",
    "        id = row['youtube_id']\n",
    "        youtube_id = row['youtube_id'][0:11]\n",
    "        \n",
    "        query = client.table(\"var_data\").insert({\"id\":id, \"label\": row['label'], \"time_start\": row['time_start'], \n",
    "                                                \"time_end\": row['time_end'], \"clarity_level\": row['clarity_level'],\n",
    "                                                \"youtube_id\": youtube_id, \"user_id\": 1}).execute()\n",
    "    \n",
    "    except:\n",
    "        continue"
   ]
  },
  {
   "cell_type": "code",
   "execution_count": 24,
   "metadata": {},
   "outputs": [],
   "source": [
    "# Commit your changes in the database\n",
    "conn.commit()\n",
    "\n",
    "#Closing the connection\n",
    "conn.close()"
   ]
  }
 ],
 "metadata": {
  "interpreter": {
   "hash": "7f0d9b29d3abf450bf16b2b0a1c26e44348ebdbb4c4f2d61ade5ad73213c2959"
  },
  "kernelspec": {
   "display_name": "Python 3.9.7 ('dsbasic')",
   "language": "python",
   "name": "python3"
  },
  "language_info": {
   "codemirror_mode": {
    "name": "ipython",
    "version": 3
   },
   "file_extension": ".py",
   "mimetype": "text/x-python",
   "name": "python",
   "nbconvert_exporter": "python",
   "pygments_lexer": "ipython3",
   "version": "3.9.7"
  },
  "orig_nbformat": 4
 },
 "nbformat": 4,
 "nbformat_minor": 2
}
