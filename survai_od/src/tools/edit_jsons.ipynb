{
 "cells": [
  {
   "cell_type": "markdown",
   "metadata": {},
   "source": [
    "# Various tools to edit or add to a static master JSON."
   ]
  },
  {
   "cell_type": "markdown",
   "metadata": {},
   "source": [
    "### Add iscrowd to static json"
   ]
  },
  {
   "cell_type": "code",
   "execution_count": 162,
   "metadata": {},
   "outputs": [],
   "source": [
    "import json\n",
    "import pandas as pd\n"
   ]
  },
  {
   "cell_type": "code",
   "execution_count": 166,
   "metadata": {},
   "outputs": [],
   "source": [
    "json_inpath = 'master.json'\n",
    "json_outpath = 'master_adjusted.json'\n",
    "\n",
    "# Load JSON object into a variable\n",
    "# Add 'iscrowd: 0' into all annotations\n",
    "# Save JSON object into file"
   ]
  },
  {
   "cell_type": "code",
   "execution_count": 167,
   "metadata": {},
   "outputs": [],
   "source": [
    "# Open JSON\n",
    "f = open(json_inpath)\n",
    "\n",
    "# Load JSON\n",
    "master_json = json.load(f)\n",
    "annot = master_json['annotations']\n",
    "\n",
    "# Add 'iscrowd' into all annotations\n",
    "for i in annot:\n",
    "    \n",
    "    i['iscrowd'] = 0\n"
   ]
  },
  {
   "cell_type": "code",
   "execution_count": 168,
   "metadata": {},
   "outputs": [],
   "source": [
    "# Save updated JSON object to new file\n",
    "with open(json_outpath, \"w\") as outfile:\n",
    "    json.dump(master_json, outfile)"
   ]
  },
  {
   "cell_type": "markdown",
   "metadata": {},
   "source": [
    "## Add Area"
   ]
  },
  {
   "cell_type": "code",
   "execution_count": 80,
   "metadata": {},
   "outputs": [],
   "source": [
    "import json\n",
    "from shapely.geometry import Polygon"
   ]
  },
  {
   "cell_type": "code",
   "execution_count": 81,
   "metadata": {},
   "outputs": [],
   "source": [
    "# Open JSON\n",
    "\n",
    "json_inpath = 'master.json'\n",
    "json_outpath = 'master.json'\n",
    "\n",
    "f = open(json_inpath)\n",
    "\n",
    "# Load JSON\n",
    "master_json = json.load(f)"
   ]
  },
  {
   "cell_type": "code",
   "execution_count": 82,
   "metadata": {},
   "outputs": [],
   "source": [
    "# iterate each annotation in json\n",
    "for annotation in master_json['annotations']:\n",
    "    polygon = []\n",
    "\n",
    "    #iterate indiviual coordinates\n",
    "    for index, coordinate in enumerate(annotation['segmentation'][0]):\n",
    "        #if x or y point\n",
    "        if index % 2 == 0:\n",
    "            x = coordinate\n",
    "        else:\n",
    "            y = coordinate\n",
    "            polygon.append((x, y))\n",
    "\n",
    "    polygon = Polygon(polygon)\n",
    "    annotation['area'] = int(polygon.area)\n"
   ]
  },
  {
   "cell_type": "code",
   "execution_count": 83,
   "metadata": {},
   "outputs": [],
   "source": [
    "# Save updated JSON object to new file\n",
    "with open(json_outpath, \"w\") as outfile:\n",
    "    json.dump(master_json, outfile)"
   ]
  },
  {
   "cell_type": "markdown",
   "metadata": {},
   "source": [
    "# Add Height and Width"
   ]
  },
  {
   "cell_type": "code",
   "execution_count": 155,
   "metadata": {},
   "outputs": [],
   "source": [
    "import json\n",
    "from PIL import Image"
   ]
  },
  {
   "cell_type": "code",
   "execution_count": 156,
   "metadata": {},
   "outputs": [],
   "source": [
    "json_inpath = 'master.json'\n",
    "json_outpath = 'master_adjusted.json'\n",
    "images_root = \"../../LEGACY_test/data/\"\n",
    "\n",
    "f = open(json_inpath)\n",
    "\n",
    "# Load JSON\n",
    "master_json = json.load(f)"
   ]
  },
  {
   "cell_type": "code",
   "execution_count": 157,
   "metadata": {},
   "outputs": [],
   "source": [
    "for image in master_json['images']:\n",
    "    img = Image.open(f\"/home/beanbagthomas/code/hrf/datasets/LEGACY_test/data/{image['file_name']}\")\n",
    "    if image['height'] != img.height or image['width'] != img.width:\n",
    "        print(\"NOT SAME\")\n",
    "    image['height'] = img.height\n",
    "    image['width'] = img.width\n"
   ]
  },
  {
   "cell_type": "code",
   "execution_count": 31,
   "metadata": {},
   "outputs": [],
   "source": [
    "# Save updated JSON object to new file\n",
    "with open(json_outpath, \"w\") as outfile:\n",
    "    json.dump(master_json, outfile)"
   ]
  },
  {
   "cell_type": "markdown",
   "metadata": {},
   "source": [
    "# Pad edges of mask and bbox so they arent pixel edges"
   ]
  },
  {
   "cell_type": "code",
   "execution_count": 71,
   "metadata": {},
   "outputs": [],
   "source": [
    "import json"
   ]
  },
  {
   "cell_type": "code",
   "execution_count": 72,
   "metadata": {},
   "outputs": [],
   "source": [
    "json_inpath = 'master.json'\n",
    "json_outpath = 'master_adjusted.json'\n",
    "\n",
    "f = open(json_inpath)\n",
    "\n",
    "# Load JSON\n",
    "master_json = json.load(f)"
   ]
  },
  {
   "cell_type": "code",
   "execution_count": 73,
   "metadata": {},
   "outputs": [],
   "source": [
    "\n",
    "#go through all annotations\n",
    "for annot in master_json['annotations']:\n",
    "\n",
    "    #find matching image and extract height and width\n",
    "    image_found = False\n",
    "    for image in master_json['images']:\n",
    "        if annot['image_id'] == image['id']:\n",
    "            width_x = image['width']\n",
    "            height_y = image['height']\n",
    "            image_found = True\n",
    "            break\n",
    "\n",
    "    if image_found == False:\n",
    "        print(\"ERROR IMAGE NOT FOUND: \", annot['image_id'])\n",
    "        break\n",
    "\n",
    "    #go through each coordinate and adjust\n",
    "    for index, coor in enumerate(annot['segmentation'][0]):\n",
    "        # TURNS SEGM POINTS TO INTS\n",
    "        annot['segmentation'][0][index] = int(coor)\n",
    "\n",
    "        #raise zeros to 2\n",
    "        if coor >= -1 and coor <= 1:\n",
    "            annot['segmentation'][0][index] = 2\n",
    "        \n",
    "        #if coordinate is x point\n",
    "        if index % 2 == 0:\n",
    "            #if x point is at farthest edge adjust +2\n",
    "            if coor > width_x - 2:\n",
    "                annot['segmentation'][0][index] = width_x - 2\n",
    "\n",
    "        #if coordinate is y point\n",
    "        else:\n",
    "            #if y point is at farthest edge adjust +2\n",
    "            if coor > height_y - 2:\n",
    "                annot['segmentation'][0][index] = height_y - 2\n",
    "\n",
    "    #recalculate bbox\n",
    "    lowest_x = min(point for index, point in enumerate(annot['segmentation'][0]) if index % 2 == 0)\n",
    "    highest_x = max(point for index, point in enumerate(annot['segmentation'][0]) if index % 2 == 0)\n",
    "    lowest_y = min(point for index, point in enumerate(annot['segmentation'][0]) if index % 2 != 0)\n",
    "    highest_y = max(point for index, point in enumerate(annot['segmentation'][0]) if index % 2 != 0)\n",
    "    \n",
    "    annot['bbox'] = [lowest_x, lowest_y, highest_x-lowest_x, highest_y-lowest_y]\n",
    "\n",
    "\n",
    "        \n",
    "\n",
    "\n"
   ]
  },
  {
   "cell_type": "code",
   "execution_count": 74,
   "metadata": {},
   "outputs": [],
   "source": [
    "# Save updated JSON object to new file\n",
    "with open(json_outpath, \"w\") as outfile:\n",
    "    json.dump(master_json, outfile)"
   ]
  },
  {
   "cell_type": "markdown",
   "metadata": {},
   "source": [
    "# Change Categories (used for flipping indiviual COCO JSON's where cat id's are mismatched)\n"
   ]
  },
  {
   "cell_type": "code",
   "execution_count": 141,
   "metadata": {},
   "outputs": [],
   "source": [
    "import json"
   ]
  },
  {
   "cell_type": "code",
   "execution_count": 145,
   "metadata": {},
   "outputs": [],
   "source": [
    "json_inpath = '/home/beanbagthomas/code/hrf/datasets/LEGACY_test/jsons/labels_raw.json'\n",
    "json_outpath = 'labels.json'\n",
    "\n",
    "\n",
    "f = open(json_inpath)\n",
    "\n",
    "# Load JSON\n",
    "master_json = json.load(f)\n",
    "\n",
    "correct = {1:\"Officer\", 2:\"Civilian\", 3:\"Riot Shield\", 4:\"Gun\", 5:\"Pepper Spray\", 6:\"Baton\", 7:\"Chemical Smoke\", 8:\"Blade\"}"
   ]
  },
  {
   "cell_type": "code",
   "execution_count": 146,
   "metadata": {},
   "outputs": [],
   "source": [
    "# get incorrect category\n",
    "\n",
    "for cat in master_json['categories']:\n",
    "\n",
    "    #if incorrect category\n",
    "    if correct[cat['id']] != cat['name']: \n",
    "        wrong_id = cat['id']\n",
    "        right_id = [key for key,val in correct.items() if val == cat['name']][0]\n",
    "\n",
    "        print(\"wrong category: \", cat)\n",
    "        print(\"right id: \", right_id)\n",
    "\n",
    "        #go through all annotations\n",
    "        for annot in master_json['annotations']:\n",
    "            \n",
    "            #if incorrect annotation\n",
    "            if annot['category_id'] == wrong_id:\n",
    "                # temporarily store cat_id in higher number to avoid cross contamination\n",
    "                annot['category_id'] = right_id * 10000\n",
    "\n",
    "        #change incorrect category\n",
    "        cat['id'] = right_id\n",
    "\n",
    "# change temp cat_ids to real\n",
    "for annot in master_json['annotations']:\n",
    "    if annot['category_id'] >= 10000:\n",
    "        annot['category_id'] = int(annot['category_id'] / 10000)\n"
   ]
  },
  {
   "cell_type": "code",
   "execution_count": 147,
   "metadata": {},
   "outputs": [],
   "source": [
    "# Save updated JSON object to new file\n",
    "with open(json_outpath, \"w\") as outfile:\n",
    "    json.dump(master_json, outfile)"
   ]
  },
  {
   "cell_type": "markdown",
   "metadata": {},
   "source": [
    "# Add info & licenses"
   ]
  }
 ],
 "metadata": {
  "interpreter": {
   "hash": "224d2077684d48301571c4288cbf20074c4721bf884654f6e3b9c2f7f09e95c7"
  },
  "kernelspec": {
   "display_name": "Python 3.9.7 ('dsbasic')",
   "language": "python",
   "name": "python3"
  },
  "language_info": {
   "codemirror_mode": {
    "name": "ipython",
    "version": 3
   },
   "file_extension": ".py",
   "mimetype": "text/x-python",
   "name": "python",
   "nbconvert_exporter": "python",
   "pygments_lexer": "ipython3",
   "version": "3.7.12"
  },
  "orig_nbformat": 4
 },
 "nbformat": 4,
 "nbformat_minor": 2
}
