{
 "cells": [
  {
   "cell_type": "code",
   "execution_count": 1,
   "metadata": {},
   "outputs": [],
   "source": [
    "import json\n",
    "import os"
   ]
  },
  {
   "cell_type": "code",
   "execution_count": 5,
   "metadata": {},
   "outputs": [],
   "source": [
    "coco_path = 'master.json'\n",
    "sv_path = 'Screenshot (509).png.json'"
   ]
  },
  {
   "cell_type": "code",
   "execution_count": 7,
   "metadata": {},
   "outputs": [],
   "source": [
    "# Load coco json\n",
    "f = open(coco_path)\n",
    "coco_file = json.load(f)\n",
    "\n",
    "# Load supervisely json\n",
    "f2 = open(sv_path)\n",
    "sv_file = json.load(f2)"
   ]
  },
  {
   "cell_type": "code",
   "execution_count": 24,
   "metadata": {},
   "outputs": [
    {
     "name": "stdout",
     "output_type": "stream",
     "text": [
      "{'description': '', 'tags': [], 'size': {'height': 1080, 'width': 1920}, 'objects': [{'id': 73012033, 'classId': 224346, 'description': '', 'geometryType': 'polygon', 'labelerLogin': 'QAI_MS1002', 'createdAt': '2022-06-20T06:17:54.286Z', 'updatedAt': '2022-06-20T09:57:42.596Z', 'tags': [], 'classTitle': 'Riot Shield', 'points': {'exterior': [[1216, 324], [1222, 316], [1288, 313], [1330, 313], [1340, 320], [1339, 394], [1333, 452], [1300, 478], [1286, 515], [1278, 533], [1268, 545], [1234, 536], [1222, 522], [1221, 486], [1214, 442], [1212, 395]], 'interior': []}}, {'id': 73012047, 'classId': 224346, 'description': '', 'geometryType': 'polygon', 'labelerLogin': 'QAI_MS1002', 'createdAt': '2022-06-20T06:18:39.132Z', 'updatedAt': '2022-06-20T16:25:12.240Z', 'tags': [], 'classTitle': 'Riot Shield', 'points': {'exterior': [[1128, 318], [1144, 317], [1166, 316], [1183, 316], [1190, 320], [1190, 355], [1191, 368], [1192, 404], [1191, 422], [1117, 501], [1106, 504], [1096, 505], [1074, 500], [1071, 472], [1069, 441], [1068, 395], [1066, 343], [1065, 328], [1068, 320], [1075, 321], [1096, 320]], 'interior': []}}, {'id': 73012094, 'classId': 224346, 'description': '', 'geometryType': 'polygon', 'labelerLogin': 'QAI_MS1002', 'createdAt': '2022-06-20T06:20:39.535Z', 'updatedAt': '2022-06-20T16:28:11.756Z', 'tags': [], 'classTitle': 'Riot Shield', 'points': {'exterior': [[954, 395], [952, 349], [952, 328], [962, 324], [980, 324], [989, 323], [1000, 322], [1012, 323], [1026, 322], [1031, 327], [1032, 372], [1032, 420], [1034, 451], [1039, 523], [989, 528], [966, 528], [961, 527], [958, 452]], 'interior': []}}, {'id': 73012104, 'classId': 224346, 'description': '', 'geometryType': 'polygon', 'labelerLogin': 'QAI_MS1002', 'createdAt': '2022-06-20T06:21:09.793Z', 'updatedAt': '2022-06-20T16:28:25.096Z', 'tags': [], 'classTitle': 'Riot Shield', 'points': {'exterior': [[832, 324], [862, 321], [915, 322], [915, 349], [918, 413], [919, 438], [882, 518], [830, 527], [830, 445], [830, 417], [830, 388], [830, 363], [830, 352], [830, 338]], 'interior': []}}, {'id': 73483718, 'classId': 224346, 'description': '', 'geometryType': 'polygon', 'labelerLogin': 'QAI_MS1002', 'createdAt': '2022-06-20T09:57:20.663Z', 'updatedAt': '2022-06-20T16:28:37.484Z', 'tags': [], 'classTitle': 'Riot Shield', 'points': {'exterior': [[698, 314], [783, 314], [797, 335], [799, 459], [802, 540], [687, 562], [681, 435], [683, 396], [685, 328], [685, 316], [690, 315]], 'interior': []}}, {'id': 73483725, 'classId': 224346, 'description': '', 'geometryType': 'polygon', 'labelerLogin': 'QAI_MS1002', 'createdAt': '2022-06-20T09:57:42.353Z', 'updatedAt': '2022-06-20T09:57:46.199Z', 'tags': [], 'classTitle': 'Riot Shield', 'points': {'exterior': [[294, 321], [387, 324], [395, 459], [297, 460]], 'interior': []}}]}\n"
     ]
    }
   ],
   "source": [
    "print(sv_file)"
   ]
  },
  {
   "cell_type": "code",
   "execution_count": 23,
   "metadata": {},
   "outputs": [
    {
     "name": "stdout",
     "output_type": "stream",
     "text": [
      "{'id': 3, 'width': 2048, 'height': 1365, 'file_name': 'gunshow14.jpeg'}\n",
      "{'id': 3, 'iscrowd': 0, 'image_id': 0, 'category_id': 4, 'segmentation': [[429.65801886792434, 399.7621956111499, 421.81603773584885, 418.33530881869706, 439.56367924528286, 418.7480446677536, 447.8183962264149, 414.207950328131, 459.37499999999983, 377.0617239130367, 464.7405660377357, 372.93436542247065, 466.80424528301864, 369.2197427809612, 473.40801886792434, 364.67964844133854, 485.79009433962244, 359.7268182526593, 487.85377358490547, 356.0121956111499, 534.9056603773582, 335.7881390073763, 538.6202830188677, 328.3588937243575, 534.9056603773582, 320.9296484413386, 529.9228203644266, 319.19239931886284, 448.5763366594524, 350.11006655728477, 431.30896226415075, 351.05936542247065, 430.89622641509413, 357.2504031583197, 432.54716981132054, 361.79049749794234, 387.97169811320737, 378.2999314602065, 381.3679245283017, 385.72917674322537, 371.04952830188665, 409.66785598850834, 367.74764150943383, 422.0499314602065, 369.8113207547168, 426.5900257998291, 372.70047169811306, 429.06644089416875, 394.57547169811306, 419.16078051681023, 399.5283018867923, 425.7645541017159, 407.3702830188677, 430.30464844133854, 412.7358490566036, 419.98625221492347, 422.22877358490547, 406.3659691960555]], 'bbox': [367.74764150943383, 319.19239931886284, 170.87264150943383, 111.1122491224757], 'area': 6075.664712710317}\n",
      "[[429.65801886792434, 399.7621956111499, 421.81603773584885, 418.33530881869706, 439.56367924528286, 418.7480446677536, 447.8183962264149, 414.207950328131, 459.37499999999983, 377.0617239130367, 464.7405660377357, 372.93436542247065, 466.80424528301864, 369.2197427809612, 473.40801886792434, 364.67964844133854, 485.79009433962244, 359.7268182526593, 487.85377358490547, 356.0121956111499, 534.9056603773582, 335.7881390073763, 538.6202830188677, 328.3588937243575, 534.9056603773582, 320.9296484413386, 529.9228203644266, 319.19239931886284, 448.5763366594524, 350.11006655728477, 431.30896226415075, 351.05936542247065, 430.89622641509413, 357.2504031583197, 432.54716981132054, 361.79049749794234, 387.97169811320737, 378.2999314602065, 381.3679245283017, 385.72917674322537, 371.04952830188665, 409.66785598850834, 367.74764150943383, 422.0499314602065, 369.8113207547168, 426.5900257998291, 372.70047169811306, 429.06644089416875, 394.57547169811306, 419.16078051681023, 399.5283018867923, 425.7645541017159, 407.3702830188677, 430.30464844133854, 412.7358490566036, 419.98625221492347, 422.22877358490547, 406.3659691960555]]\n"
     ]
    }
   ],
   "source": [
    "# create 3rd dictionary to reference \n",
    "\n",
    "\n",
    "n = 3\n",
    "\n",
    "# componenets of image\n",
    "image = coco_file['images'][n]\n",
    "id = image['id']\n",
    "width = image['width']\n",
    "height = image['height']\n",
    "file_name = image['file_name']\n",
    "\n",
    "# components of annotation\n",
    "annotation = coco_file['annotations'][n]\n",
    "annot_id = annotation['id']\n",
    "iscrowd = annotation['iscrowd']\n",
    "image_id = annotation['image_id']\n",
    "category_id = annotation['category_id']\n",
    "segmentation = annotation['segmentation']\n",
    "\n",
    "\n",
    "print(image)\n",
    "print(annotation)\n",
    "print(segmentation)\n",
    "\n",
    "    "
   ]
  },
  {
   "cell_type": "code",
   "execution_count": 25,
   "metadata": {},
   "outputs": [
    {
     "data": {
      "text/plain": [
       "{'description': '', 'tags': [], 'size': {'height': 1365, 'width': 2048}}"
      ]
     },
     "execution_count": 25,
     "metadata": {},
     "output_type": "execute_result"
    }
   ],
   "source": [
    "poopie = {'description': '', \n",
    "        'tags': [], \n",
    "        'size': {'height': height, 'width': width}\n",
    "        }\n",
    "\n",
    "poopie"
   ]
  }
 ],
 "metadata": {
  "interpreter": {
   "hash": "7f0d9b29d3abf450bf16b2b0a1c26e44348ebdbb4c4f2d61ade5ad73213c2959"
  },
  "kernelspec": {
   "display_name": "Python 3.9.7 ('dsbasic')",
   "language": "python",
   "name": "python3"
  },
  "language_info": {
   "codemirror_mode": {
    "name": "ipython",
    "version": 3
   },
   "file_extension": ".py",
   "mimetype": "text/x-python",
   "name": "python",
   "nbconvert_exporter": "python",
   "pygments_lexer": "ipython3",
   "version": "3.9.7"
  },
  "orig_nbformat": 4
 },
 "nbformat": 4,
 "nbformat_minor": 2
}
