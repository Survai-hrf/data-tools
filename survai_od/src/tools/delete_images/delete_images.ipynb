{
 "cells": [
  {
   "cell_type": "markdown",
   "metadata": {},
   "source": [
    "### Read me\n",
    "\n",
    "This script removes images from a given directory that have no annotations.\n",
    "\n",
    "Instructions:\n",
    "1) Copy the folder of images you wish to delete images from into the \"images\" folder\n",
    "2) Copy the corresponding json into the \"jsons\" folder\n",
    "3) Update \"json_path\" and \"image_path\"\n",
    "4) Run all cells top to bottom"
   ]
  },
  {
   "cell_type": "code",
   "execution_count": 1,
   "metadata": {},
   "outputs": [],
   "source": [
    "import json\n",
    "import os"
   ]
  },
  {
   "cell_type": "code",
   "execution_count": 2,
   "metadata": {},
   "outputs": [],
   "source": [
    "json_path = 'gun_master_video_std.json'\n",
    "image_path = 'MASTER'"
   ]
  },
  {
   "cell_type": "code",
   "execution_count": 3,
   "metadata": {},
   "outputs": [],
   "source": [
    "file = open(json_path)\n",
    "file = json.load(file)"
   ]
  },
  {
   "cell_type": "code",
   "execution_count": 4,
   "metadata": {},
   "outputs": [
    {
     "name": "stdout",
     "output_type": "stream",
     "text": [
      "file count in json:  2146\n",
      "file count in folder:  2281\n"
     ]
    }
   ],
   "source": [
    "# make list of files in json\n",
    "\n",
    "json_files = []\n",
    "images = file['images']\n",
    "\n",
    "for image in images:\n",
    "    file_name = image['file_name']\n",
    "    json_files.append(file_name)\n",
    "\n",
    "print('file count in json: ',len(json_files))\n",
    "\n",
    "# make a list of files in image directory\n",
    "\n",
    "img_files = os.listdir(image_path) \n",
    "\n",
    "print('file count in folder: ',len(img_files))"
   ]
  },
  {
   "cell_type": "code",
   "execution_count": 5,
   "metadata": {},
   "outputs": [
    {
     "name": "stdout",
     "output_type": "stream",
     "text": [
      "files to be deleted:  135\n"
     ]
    }
   ],
   "source": [
    "# make list of files not in json to be deleted\n",
    "\n",
    "delete_files = []\n",
    "\n",
    "for file in img_files:\n",
    "    if file in json_files:\n",
    "        continue\n",
    "    else:\n",
    "        delete_files.append(file)\n",
    "\n",
    "print('files to be deleted: ',len(delete_files))\n"
   ]
  },
  {
   "cell_type": "code",
   "execution_count": 6,
   "metadata": {},
   "outputs": [],
   "source": [
    "# delete images in json\n",
    "\n",
    "for file in delete_files:\n",
    "    if os.path.exists(f'{image_path}/{file}'):\n",
    "        os.remove(f'{image_path}/{file}')"
   ]
  }
 ],
 "metadata": {
  "interpreter": {
   "hash": "7f0d9b29d3abf450bf16b2b0a1c26e44348ebdbb4c4f2d61ade5ad73213c2959"
  },
  "kernelspec": {
   "display_name": "Python 3.9.7 ('dsbasic')",
   "language": "python",
   "name": "python3"
  },
  "language_info": {
   "codemirror_mode": {
    "name": "ipython",
    "version": 3
   },
   "file_extension": ".py",
   "mimetype": "text/x-python",
   "name": "python",
   "nbconvert_exporter": "python",
   "pygments_lexer": "ipython3",
   "version": "3.9.7"
  },
  "orig_nbformat": 4
 },
 "nbformat": 4,
 "nbformat_minor": 2
}
