{
 "cells": [
  {
   "cell_type": "code",
   "execution_count": 161,
   "metadata": {},
   "outputs": [],
   "source": [
    "import json\n",
    "import os\n",
    "from random import randint"
   ]
  },
  {
   "cell_type": "code",
   "execution_count": 162,
   "metadata": {},
   "outputs": [],
   "source": [
    "coco_path = 'MASTER.json'\n",
    "sv_path = 'Screenshot (509).png.json'"
   ]
  },
  {
   "cell_type": "code",
   "execution_count": 163,
   "metadata": {},
   "outputs": [],
   "source": [
    "# Load coco json\n",
    "f = open(coco_path)\n",
    "coco_file = json.load(f)\n",
    "\n",
    "# Load supervisely json\n",
    "f2 = open(sv_path)\n",
    "sv_file = json.load(f2)\n"
   ]
  },
  {
   "cell_type": "code",
   "execution_count": 166,
   "metadata": {},
   "outputs": [],
   "source": [
    "output_json = {}\n",
    "\n",
    "for annot in coco_file['annotations']:\n",
    "    #print(annot)\n",
    "    #get image index\n",
    "    for ind, image in enumerate(coco_file['images']):\n",
    "        if image['id'] == annot['image_id']:\n",
    "            image_index = ind\n",
    "        \n",
    "    #get image name\n",
    "    image_name = coco_file['images'][image_index]['file_name']\n",
    "    \n",
    "    # create new json in output dict if doesnt exist and do these one time operations\n",
    "    if image_name not in output_json.keys():\n",
    "        output_json[image_name] = {}\n",
    "        output_json[image_name]['tags'] = []\n",
    "        output_json[image_name]['size'] = {'height': coco_file['images'][image_index]['height'], 'width': coco_file['images'][image_index]['width']}\n",
    "        output_json[image_name]['objects'] = []\n",
    "\n",
    "    #annot dict to fill and later append to 'objects' - filled with static values on declaration\n",
    "    temp_objects_dict = {'id': randint(10000000, 99999999), 'description': '', \n",
    "                                            'geometryType': 'polygon', 'labelerLogin': '','createdAt': '',\n",
    "                                            'updatedAt': '', 'tags': [], 'points': {'exterior': [], 'interior': []}}\n",
    "\n",
    "    #get class name and id\n",
    "    temp_objects_dict['classId'] = annot['category_id']\n",
    "    temp_objects_dict['classTitle'] = coco_file['categories'][annot['category_id'] - 1]['name']\n",
    "\n",
    "    #coordinates\n",
    "    coordinate_list = annot['segmentation'][0]\n",
    "\n",
    "    while len(coordinate_list) > 0:\n",
    "        xy_list = [coordinate_list.pop(0), coordinate_list.pop(0)]\n",
    "        temp_objects_dict['points']['exterior'].append(xy_list)\n",
    "\n",
    "    output_json[image_name]['objects'].append(temp_objects_dict)\n"
   ]
  },
  {
   "cell_type": "code",
   "execution_count": 170,
   "metadata": {},
   "outputs": [],
   "source": [
    "#run this to nuke your pc and download all image jsons\n",
    "for key in output_json.keys():\n",
    "    with open(f'output/{key}.json', \"w\") as outfile:\n",
    "        json.dump(output_json[key], outfile)"
   ]
  },
  {
   "cell_type": "code",
   "execution_count": 172,
   "metadata": {},
   "outputs": [],
   "source": [
    "#creates meta json\n",
    "meta_json = {\n",
    "    \"classes\": [\n",
    "        {\n",
    "            'id': 1, \n",
    "            'title': 'Officer',\n",
    "            \"shape\": \"polygon\",\n",
    "            \"hotkey\": \"O\",\n",
    "            \"color\": \"#FF69B4\"\n",
    "        },\n",
    "        {\n",
    "            'id': 2, \n",
    "            'title': 'Civilian',\n",
    "            \"shape\": \"polygon\",\n",
    "            'hotkey': 'C',\n",
    "            \"color\": \"#008000\"\n",
    "        },\n",
    "        {\n",
    "            \"id\": 3,\n",
    "            \"title\": \"Riot Shield\",\n",
    "            \"shape\": \"polygon\",\n",
    "            \"hotkey\": \"R\",\n",
    "            \"color\": \"#6FF6F1\"\n",
    "        },\n",
    "        {\n",
    "            'id': 4, \n",
    "            'title': 'Gun',\n",
    "            \"shape\": \"polygon\",\n",
    "            'hotkey': 'G',\n",
    "            'color': '#808080'\n",
    "        },\n",
    "        {\n",
    "            'id': 5, \n",
    "            'title': 'Pepper Spray',\n",
    "            \"shape\": \"polygon\",\n",
    "            'hotkey': 'S',\n",
    "            \"color\": \"#BF40BF\"\n",
    "        },\n",
    "        {\n",
    "            \"id\": 6,\n",
    "            \"title\": \"Baton\",\n",
    "            \"shape\": \"polygon\",\n",
    "            \"hotkey\": \"B\",\n",
    "            \"color\": \"#DB490F\"\n",
    "        },\n",
    "        {\n",
    "            'id': 7, \n",
    "            'title': 'Chemical Smoke',\n",
    "            \"shape\": \"polygon\",\n",
    "            'hotkey': 'T',\n",
    "            \"color\": \"#FFBF00\"\n",
    "        }\n",
    "    ],\n",
    "    \"tags\": [\n",
    "        {\n",
    "            \"id\": 22919711,\n",
    "            \"name\": \"problem\",\n",
    "            \"color\": \"#9F3868\",\n",
    "            \"value_type\": \"none\",\n",
    "            \"hotkey\": \"P\",\n",
    "            \"applicable_type\": \"all\",\n",
    "            \"classes\": []\n",
    "        },\n",
    "    ],\n",
    "    \"projectType\": \"images\"\n",
    "}"
   ]
  },
  {
   "cell_type": "code",
   "execution_count": 173,
   "metadata": {},
   "outputs": [],
   "source": [
    "with open(f'output/meta.json', \"w\") as outfile:\n",
    "    json.dump(meta_json, outfile)"
   ]
  }
 ],
 "metadata": {
  "kernelspec": {
   "display_name": "Python 3.10.2 ('dsbasic')",
   "language": "python",
   "name": "python3"
  },
  "language_info": {
   "codemirror_mode": {
    "name": "ipython",
    "version": 3
   },
   "file_extension": ".py",
   "mimetype": "text/x-python",
   "name": "python",
   "nbconvert_exporter": "python",
   "pygments_lexer": "ipython3",
   "version": "3.10.2"
  },
  "orig_nbformat": 4,
  "vscode": {
   "interpreter": {
    "hash": "696d2529491b84605c2f10100943787b7539f12fba5e4adcc6c4f988d6b014cb"
   }
  }
 },
 "nbformat": 4,
 "nbformat_minor": 2
}
