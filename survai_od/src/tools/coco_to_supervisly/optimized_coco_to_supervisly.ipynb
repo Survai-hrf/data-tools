{
 "cells": [
  {
   "cell_type": "code",
   "execution_count": 1,
   "metadata": {},
   "outputs": [],
   "source": [
    "import json\n",
    "import os\n",
    "from random import randint\n",
    "import shutil"
   ]
  },
  {
   "cell_type": "code",
   "execution_count": 2,
   "metadata": {},
   "outputs": [],
   "source": [
    "#if new objects have been added, the META_JSON at bottom must be modified to account for it\n",
    "\n",
    "coco_path = 'master_main.json'\n",
    "sv_path = 'Screenshot (509).png.json'\n",
    "project_name = 'coyote1.1'"
   ]
  },
  {
   "cell_type": "code",
   "execution_count": 3,
   "metadata": {},
   "outputs": [],
   "source": [
    "# Load coco json\n",
    "f = open(coco_path)\n",
    "coco_file = json.load(f)\n",
    "\n",
    "# Load supervisely json\n",
    "f2 = open(sv_path)\n",
    "sv_file = json.load(f2)\n"
   ]
  },
  {
   "cell_type": "code",
   "execution_count": 4,
   "metadata": {},
   "outputs": [],
   "source": [
    "output_json = {}\n",
    "\n",
    "for annot in coco_file['annotations']:\n",
    "\n",
    "    #get image index\n",
    "    for ind, image in enumerate(coco_file['images']):\n",
    "        if image['id'] == annot['image_id']:\n",
    "            image_index = ind\n",
    "        \n",
    "    #get image name\n",
    "    image_name = coco_file['images'][image_index]['file_name']\n",
    "    \n",
    "    # create new key of filename in output dict if doesnt exist and do these one time operations\n",
    "    if image_name not in output_json.keys():\n",
    "        output_json[image_name] = {}\n",
    "        output_json[image_name]['tags'] = []\n",
    "        output_json[image_name]['size'] = {'height': coco_file['images'][image_index]['height'], 'width': coco_file['images'][image_index]['width']}\n",
    "        output_json[image_name]['objects'] = []\n",
    "\n",
    "    #annot dict to fill and later append to 'objects' - filled with static values on declaration\n",
    "    temp_objects_dict = {'id': randint(10000000, 99999999), 'description': '', \n",
    "                                            'geometryType': 'polygon', 'labelerLogin': '', \n",
    "                                            'tags': [], 'points': {'exterior': [], 'interior': []}}\n",
    "\n",
    "    #get class name and id\n",
    "    temp_objects_dict['classId'] = annot['category_id']\n",
    "    temp_objects_dict['classTitle'] = coco_file['categories'][annot['category_id'] - 1]['name']\n",
    "\n",
    "    #coordinates\n",
    "    coordinate_list = annot['segmentation'][0]\n",
    "\n",
    "    while len(coordinate_list) > 0:\n",
    "        xy_list = [coordinate_list.pop(0), coordinate_list.pop(0)]\n",
    "        temp_objects_dict['points']['exterior'].append(xy_list)\n",
    "\n",
    "    output_json[image_name]['objects'].append(temp_objects_dict)\n"
   ]
  },
  {
   "cell_type": "code",
   "execution_count": 5,
   "metadata": {},
   "outputs": [],
   "source": [
    "#run this to nuke your pc and download all image jsons\n",
    "os.makedirs(f'output/{project_name}/{project_name}', exist_ok=True)\n",
    "\n",
    "for key in output_json.keys():\n",
    "    with open(f'output/{project_name}/{project_name}/{key}.json', \"w\") as outfile:\n",
    "        json.dump(output_json[key], outfile)"
   ]
  },
  {
   "cell_type": "code",
   "execution_count": 6,
   "metadata": {},
   "outputs": [],
   "source": [
    "#creates meta json\n",
    "meta_json = {\n",
    "    \"classes\": [\n",
    "        {\n",
    "            'id': 1, \n",
    "            'title': 'Officer',\n",
    "            \"shape\": \"polygon\",\n",
    "            \"hotkey\": \"O\",\n",
    "            \"color\": \"#FF69B4\"\n",
    "        },\n",
    "        {\n",
    "            'id': 2, \n",
    "            'title': 'Civilian',\n",
    "            \"shape\": \"polygon\",\n",
    "            'hotkey': 'C',\n",
    "            \"color\": \"#008000\"\n",
    "        },\n",
    "        {\n",
    "            \"id\": 3,\n",
    "            \"title\": \"Riot Shield\",\n",
    "            \"shape\": \"polygon\",\n",
    "            \"hotkey\": \"R\",\n",
    "            \"color\": \"#6FF6F1\"\n",
    "        },\n",
    "        {\n",
    "            'id': 4, \n",
    "            'title': 'Gun',\n",
    "            \"shape\": \"polygon\",\n",
    "            'hotkey': 'G',\n",
    "            'color': '#808080'\n",
    "        },\n",
    "        {\n",
    "            'id': 5, \n",
    "            'title': 'Pepper Spray',\n",
    "            \"shape\": \"polygon\",\n",
    "            'hotkey': 'S',\n",
    "            \"color\": \"#BF40BF\"\n",
    "        },\n",
    "        {\n",
    "            \"id\": 6,\n",
    "            \"title\": \"Baton\",\n",
    "            \"shape\": \"polygon\",\n",
    "            \"hotkey\": \"B\",\n",
    "            \"color\": \"#DB490F\"\n",
    "        },\n",
    "        {\n",
    "            'id': 7, \n",
    "            'title': 'Chemical Smoke',\n",
    "            \"shape\": \"polygon\",\n",
    "            'hotkey': 'T',\n",
    "            \"color\": \"#FFBF00\"\n",
    "        }\n",
    "    ],\n",
    "    \"tags\": [\n",
    "        {\n",
    "            \"id\": 22919711,\n",
    "            \"name\": \"problem\",\n",
    "            \"color\": \"#9F3868\",\n",
    "            \"value_type\": \"none\",\n",
    "            \"hotkey\": \"P\",\n",
    "            \"applicable_type\": \"all\",\n",
    "            \"classes\": []\n",
    "        },\n",
    "    ],\n",
    "    \"projectType\": \"images\"\n",
    "}"
   ]
  },
  {
   "cell_type": "code",
   "execution_count": 7,
   "metadata": {},
   "outputs": [],
   "source": [
    "#exports meta, zips it all, then removes output folder\n",
    "\n",
    "with open(f'output/{project_name}/meta.json', \"w\") as outfile:\n",
    "    json.dump(meta_json, outfile)\n",
    "\n",
    "shutil.make_archive(project_name, 'zip', 'output')\n",
    "\n",
    "shutil.rmtree('output')"
   ]
  }
 ],
 "metadata": {
  "interpreter": {
   "hash": "7f0d9b29d3abf450bf16b2b0a1c26e44348ebdbb4c4f2d61ade5ad73213c2959"
  },
  "kernelspec": {
   "display_name": "Python 3.9.7 ('dsbasic')",
   "language": "python",
   "name": "python3"
  },
  "language_info": {
   "codemirror_mode": {
    "name": "ipython",
    "version": 3
   },
   "file_extension": ".py",
   "mimetype": "text/x-python",
   "name": "python",
   "nbconvert_exporter": "python",
   "pygments_lexer": "ipython3",
   "version": "3.9.7"
  },
  "orig_nbformat": 4,
  "vscode": {
   "interpreter": {
    "hash": "696d2529491b84605c2f10100943787b7539f12fba5e4adcc6c4f988d6b014cb"
   }
  }
 },
 "nbformat": 4,
 "nbformat_minor": 2
}
