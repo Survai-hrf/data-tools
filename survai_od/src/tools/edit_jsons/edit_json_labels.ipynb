{
 "cells": [
  {
   "cell_type": "markdown",
   "metadata": {},
   "source": [
    "This code is for changing the category_id of new json data to the appropriate category_id for the master json"
   ]
  },
  {
   "cell_type": "code",
   "execution_count": 1,
   "metadata": {},
   "outputs": [],
   "source": [
    "import json"
   ]
  },
  {
   "cell_type": "code",
   "execution_count": 2,
   "metadata": {},
   "outputs": [],
   "source": [
    "json_path = 'gun_master_video_std.json'\n",
    "data = json.load(open(json_path, 'r'))"
   ]
  },
  {
   "cell_type": "markdown",
   "metadata": {},
   "source": [
    "Change category names to match master.json categories"
   ]
  },
  {
   "cell_type": "code",
   "execution_count": 3,
   "metadata": {},
   "outputs": [],
   "source": [
    "data['categories'] = [{\"id\": 1, \"name\": \"uniformed\"}, {\"id\": 2, \"name\": \"non_uniformed\"}, \n",
    "                    {\"id\": 3, \"name\": \"riot_shield\"}, {\"id\": 4, \"name\": \"gun\"}, \n",
    "                    {\"id\": 5, \"name\": \"pepper_spray\"}, {\"id\": 6, \"name\": \"baton\"}, \n",
    "                    {\"id\": 7, \"name\": \"chemical_smoke\"}, {\"id\": 8, \"name\": \"blade\"}]"
   ]
  },
  {
   "cell_type": "code",
   "execution_count": 5,
   "metadata": {},
   "outputs": [],
   "source": [
    "# Run if just correcting categories\n",
    "with open(\"gun_master_video_std1.json\", \"w\") as outfile:\n",
    "    json.dump(data, outfile)"
   ]
  },
  {
   "cell_type": "markdown",
   "metadata": {},
   "source": [
    "Change category_id to match master json"
   ]
  },
  {
   "cell_type": "code",
   "execution_count": 5,
   "metadata": {},
   "outputs": [],
   "source": [
    "annotations = data['annotations']"
   ]
  },
  {
   "cell_type": "code",
   "execution_count": 6,
   "metadata": {},
   "outputs": [],
   "source": [
    "# Run if converting a json from gun\n",
    "for annot in annotations:\n",
    "    annot['category_id'] = 4\n",
    "\n",
    "with open(\"jsons/gun_master_video_std.json\", \"w\") as outfile:\n",
    "    json.dump(data, outfile)"
   ]
  },
  {
   "cell_type": "code",
   "execution_count": 11,
   "metadata": {},
   "outputs": [],
   "source": [
    "# Update catagories\n",
    "# if category is wrong, correct it\n",
    "\n",
    "for annot in annotations:\n",
    "    \n",
    "    if annot['category_id'] == 1:\n",
    "        annot['category_id'] = 6\n",
    "    if annot['category_id'] == 2:\n",
    "        annot['category_id'] = 3\n",
    "\n",
    "with open(\"jsons/riot_shield_master.json\", \"w\") as outfile:\n",
    "    json.dump(data, outfile)"
   ]
  }
 ],
 "metadata": {
  "interpreter": {
   "hash": "7f0d9b29d3abf450bf16b2b0a1c26e44348ebdbb4c4f2d61ade5ad73213c2959"
  },
  "kernelspec": {
   "display_name": "Python 3.9.7 ('dsbasic')",
   "language": "python",
   "name": "python3"
  },
  "language_info": {
   "codemirror_mode": {
    "name": "ipython",
    "version": 3
   },
   "file_extension": ".py",
   "mimetype": "text/x-python",
   "name": "python",
   "nbconvert_exporter": "python",
   "pygments_lexer": "ipython3",
   "version": "3.9.7"
  },
  "orig_nbformat": 4
 },
 "nbformat": 4,
 "nbformat_minor": 2
}
