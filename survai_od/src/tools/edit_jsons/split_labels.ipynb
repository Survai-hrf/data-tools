{
 "cells": [
  {
   "cell_type": "code",
   "execution_count": 1,
   "metadata": {},
   "outputs": [],
   "source": [
    "import json"
   ]
  },
  {
   "cell_type": "code",
   "execution_count": 7,
   "metadata": {},
   "outputs": [],
   "source": [
    "# args\n",
    "json_path = \"baton.json\"\n",
    "label = \"\""
   ]
  },
  {
   "cell_type": "code",
   "execution_count": 8,
   "metadata": {},
   "outputs": [],
   "source": [
    "with open(json_path) as file:\n",
    "    data = json.load(file)"
   ]
  },
  {
   "cell_type": "code",
   "execution_count": 9,
   "metadata": {},
   "outputs": [],
   "source": [
    "categories = [\n",
    "        {\n",
    "            \"id\": 1,\n",
    "            \"name\": \"uniformed\"\n",
    "        },\n",
    "        {\n",
    "            \"id\": 2,\n",
    "            \"name\": \"non_uniformed\"\n",
    "        },\n",
    "        {\n",
    "            \"id\": 3,\n",
    "            \"name\": \"riot_shield\"\n",
    "        },\n",
    "        {\n",
    "            \"id\": 4,\n",
    "            \"name\": \"gun\"\n",
    "        },\n",
    "        {\n",
    "            \"id\": 5,\n",
    "            \"name\": \"pepper_spray\"\n",
    "        },\n",
    "        {\n",
    "            \"id\": 6,\n",
    "            \"name\": \"baton\"\n",
    "        },\n",
    "        {\n",
    "            \"id\": 7,\n",
    "            \"name\": \"chemical_smoke\"\n",
    "        },\n",
    "        {\n",
    "            \"id\": 8,\n",
    "            \"name\": \"civilian_vehicle\"\n",
    "        },\n",
    "        {\n",
    "            \"id\": 9,\n",
    "            \"name\": \"emergency_vehicle\"\n",
    "        },\n",
    "        {\n",
    "            \"id\": 10,\n",
    "            \"name\": \"armored_vehicle\"\n",
    "        },\n",
    "        {\n",
    "            \"id\": 11,\n",
    "            \"name\": \"blade\"\n",
    "        }\n",
    "    ]\n",
    "\n",
    "info = {\"description\": \"my-project-name\"}"
   ]
  },
  {
   "cell_type": "code",
   "execution_count": 10,
   "metadata": {},
   "outputs": [],
   "source": [
    "output = {}\n",
    "annotations = []\n",
    "\n",
    "count = 0\n",
    "# get all annotations for one class\n",
    "for annot in data['annotations']:\n",
    "    if annot['category_id'] == 2:\n",
    "        annot['id'] = count\n",
    "        annotations.append(annot)\n",
    "        count += 1"
   ]
  },
  {
   "cell_type": "code",
   "execution_count": 12,
   "metadata": {},
   "outputs": [],
   "source": [
    "images = []\n",
    "used_ids = []\n",
    "\n",
    "# get images\n",
    "for annot in annotations:\n",
    "    image_id = annot['image_id']\n",
    "\n",
    "    if image_id in used_ids:\n",
    "        continue\n",
    "    else:\n",
    "        used_ids.append(image_id)\n",
    "        images.append(data['images'][image_id-1])"
   ]
  },
  {
   "cell_type": "code",
   "execution_count": 13,
   "metadata": {},
   "outputs": [],
   "source": [
    "output['info'] = info\n",
    "output['images'] = images\n",
    "output['annotations'] = annotations\n",
    "output['categories'] = categories"
   ]
  },
  {
   "cell_type": "code",
   "execution_count": 14,
   "metadata": {},
   "outputs": [],
   "source": [
    "with open(\"test.json\", \"w+\") as file:\n",
    "    json.dump(output, file)"
   ]
  }
 ],
 "metadata": {
  "kernelspec": {
   "display_name": "Python 3.9.13 ('dsbasic')",
   "language": "python",
   "name": "python3"
  },
  "language_info": {
   "codemirror_mode": {
    "name": "ipython",
    "version": 3
   },
   "file_extension": ".py",
   "mimetype": "text/x-python",
   "name": "python",
   "nbconvert_exporter": "python",
   "pygments_lexer": "ipython3",
   "version": "3.9.13"
  },
  "orig_nbformat": 4,
  "vscode": {
   "interpreter": {
    "hash": "ba6b70012bb1886e671e644fad58c5bb2ecea54d2fb7ca838b4cfe439afad372"
   }
  }
 },
 "nbformat": 4,
 "nbformat_minor": 2
}
