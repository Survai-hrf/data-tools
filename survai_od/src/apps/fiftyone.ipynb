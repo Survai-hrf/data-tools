{
 "cells": [
  {
   "cell_type": "code",
   "execution_count": 1,
   "metadata": {},
   "outputs": [],
   "source": [
    "import fiftyone as fo\n",
    "import fiftyone.brain as fob"
   ]
  },
  {
   "cell_type": "code",
   "execution_count": 2,
   "metadata": {},
   "outputs": [],
   "source": [
    "images_path = \"../../../../FINAL_od_dataset/ground_truth/MKlAEkuig_A_540_630\"\n",
    "json_path = \"../../../../FINAL_od_dataset/ground_truth/MKlAEkuig_A_540_630.json\""
   ]
  },
  {
   "cell_type": "code",
   "execution_count": 3,
   "metadata": {},
   "outputs": [
    {
     "name": "stdout",
     "output_type": "stream",
     "text": [
      " 100% |███████████████| 2699/2699 [59.9s elapsed, 0s remaining, 83.0 samples/s]       \n"
     ]
    },
    {
     "data": {
      "text/html": [
       "\n",
       "        <iframe\n",
       "            width=\"100%\"\n",
       "            height=\"800\"\n",
       "            src=\"http://localhost:5151/?context=ipython&subscription=2a3345be-7d74-46fc-9ffd-a331929a251a\"\n",
       "            frameborder=\"0\"\n",
       "            allowfullscreen\n",
       "            \n",
       "        ></iframe>\n",
       "        "
      ],
      "text/plain": [
       "<IPython.lib.display.IFrame at 0x7f01eb5a6f10>"
      ]
     },
     "metadata": {},
     "output_type": "display_data"
    }
   ],
   "source": [
    "dataset = fo.Dataset.from_dir(\n",
    "    data_path=images_path,\n",
    "    labels_path=json_path,\n",
    "    dataset_type=fo.types.COCODetectionDataset,\n",
    "    label_types = [\"segmentations\", \"detections\"]\n",
    ")\n",
    "\n",
    "dataset.persistent = True\n",
    "\n",
    "session=fo.launch_app(dataset)"
   ]
  }
 ],
 "metadata": {
  "kernelspec": {
   "display_name": "Python 3.9.13 ('dsbasic')",
   "language": "python",
   "name": "python3"
  },
  "language_info": {
   "codemirror_mode": {
    "name": "ipython",
    "version": 3
   },
   "file_extension": ".py",
   "mimetype": "text/x-python",
   "name": "python",
   "nbconvert_exporter": "python",
   "pygments_lexer": "ipython3",
   "version": "3.9.13"
  },
  "orig_nbformat": 4,
  "vscode": {
   "interpreter": {
    "hash": "ba6b70012bb1886e671e644fad58c5bb2ecea54d2fb7ca838b4cfe439afad372"
   }
  }
 },
 "nbformat": 4,
 "nbformat_minor": 2
}
