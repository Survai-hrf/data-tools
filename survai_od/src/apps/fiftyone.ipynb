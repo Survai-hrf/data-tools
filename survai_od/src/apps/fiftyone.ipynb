{
 "cells": [
  {
   "cell_type": "code",
   "execution_count": 2,
   "metadata": {},
   "outputs": [
    {
     "name": "stdout",
     "output_type": "stream",
     "text": [
      "Migrating database to v0.18.0\n"
     ]
    }
   ],
   "source": [
    "import fiftyone as fo\n",
    "import fiftyone.brain as fob"
   ]
  },
  {
   "cell_type": "code",
   "execution_count": 7,
   "metadata": {},
   "outputs": [
    {
     "name": "stdout",
     "output_type": "stream",
     "text": [
      "Downloading split 'train' to '/home/jackson/fiftyone/coco-2017/train' if necessary\n",
      "Downloading annotations to '/home/jackson/fiftyone/coco-2017/tmp-download/annotations_trainval2017.zip'\n",
      " 100% |██████|    1.9Gb/1.9Gb [31.9s elapsed, 0s remaining, 57.5Mb/s]      \n",
      "Extracting annotations to '/home/jackson/fiftyone/coco-2017/raw/instances_train2017.json'\n",
      "Downloading 100 images\n",
      " 100% |██████████████████| 100/100 [5.6s elapsed, 0s remaining, 17.5 images/s]      \n",
      "Writing annotations for 100 downloaded samples to '/home/jackson/fiftyone/coco-2017/train/labels.json'\n",
      "Dataset info written to '/home/jackson/fiftyone/coco-2017/info.json'\n",
      "Loading 'coco-2017' split 'train'\n",
      " 100% |█████████████████| 100/100 [1.6s elapsed, 0s remaining, 63.3 samples/s]         \n",
      "Dataset 'coco-2017-train-100' created\n"
     ]
    }
   ],
   "source": [
    "dataset = fo.zoo.load_zoo_dataset(\n",
    "              \"coco-2017\",\n",
    "              split=\"train\",\n",
    "              label_types=[\"detections\", \"segmentations\"],\n",
    "              classes=[\"car\"],\n",
    "              max_samples=100,\n",
    "          )"
   ]
  },
  {
   "cell_type": "code",
   "execution_count": 6,
   "metadata": {},
   "outputs": [
    {
     "name": "stdout",
     "output_type": "stream",
     "text": [
      " 100% |███████████████| 1107/1107 [47.3s elapsed, 0s remaining, 22.0 samples/s]      \n"
     ]
    },
    {
     "data": {
      "text/html": [
       "\n",
       "        <iframe\n",
       "            width=\"100%\"\n",
       "            height=\"800\"\n",
       "            src=\"http://localhost:5151/?notebook=true&handleId=0e2d2e15-c974-4a8a-989b-9a0aec09d2c4\"\n",
       "            frameborder=\"0\"\n",
       "            allowfullscreen\n",
       "            \n",
       "        ></iframe>\n",
       "        "
      ],
      "text/plain": [
       "<IPython.lib.display.IFrame at 0x2775c488550>"
      ]
     },
     "metadata": {},
     "output_type": "display_data"
    }
   ],
   "source": [
    "#path to images\n",
    "#data_path = \"../../../datasets/od/object_datasets/guns/images/MASTER\"\n",
    "\n",
    "#path to video_images\n",
    "data_path = \"../../../../datasets/od/object_datasets/guns/images/MASTER\"\n",
    "\n",
    "#path to master\n",
    "#data_path = \"../../../datasets/od/master_datasets/LEGACY_test/data\"\n",
    "\n",
    "\n",
    "\n",
    "#path to jsons\n",
    "#labels_path= \"../../../datasets/od/object_datasets/guns/jsons/MASTER.json\" \n",
    "\n",
    "#path to video_jsons\n",
    "labels_path= \"../../../../datasets/od/object_datasets/guns/jsons/updated_gun_master_image.json\"\n",
    "\n",
    "#path to master\n",
    "#labels_path= \"../../../datasets/od/master_datasets/LEGACY_test/master.json\"\n",
    "\n",
    "\n",
    "dataset = fo.Dataset.from_dir(\n",
    "    data_path=data_path,\n",
    "    labels_path=labels_path,\n",
    "    dataset_type=fo.types.COCODetectionDataset,\n",
    "    label_types = [\"segmentations\", \"detections\"]\n",
    ")\n",
    "\n",
    "dataset.persistent = True\n",
    "\n",
    "session=fo.launch_app(dataset)\n"
   ]
  }
 ],
 "metadata": {
  "kernelspec": {
   "display_name": "Python 3.9.13 ('dsbasic')",
   "language": "python",
   "name": "python3"
  },
  "language_info": {
   "codemirror_mode": {
    "name": "ipython",
    "version": 3
   },
   "file_extension": ".py",
   "mimetype": "text/x-python",
   "name": "python",
   "nbconvert_exporter": "python",
   "pygments_lexer": "ipython3",
   "version": "3.9.13"
  },
  "orig_nbformat": 4,
  "vscode": {
   "interpreter": {
    "hash": "ba6b70012bb1886e671e644fad58c5bb2ecea54d2fb7ca838b4cfe439afad372"
   }
  }
 },
 "nbformat": 4,
 "nbformat_minor": 2
}
