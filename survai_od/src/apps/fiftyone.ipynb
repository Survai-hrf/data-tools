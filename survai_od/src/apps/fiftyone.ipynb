{
 "cells": [
  {
   "cell_type": "code",
   "execution_count": 1,
   "metadata": {},
   "outputs": [],
   "source": [
    "import fiftyone as fo\n",
    "#import fiftyone.brain as fob"
   ]
  },
  {
   "cell_type": "code",
   "execution_count": 4,
   "metadata": {},
   "outputs": [
    {
     "name": "stdout",
     "output_type": "stream",
     "text": [
      " 100% |███████████████| 1107/1107 [39.2s elapsed, 0s remaining, 28.8 samples/s]      \n"
     ]
    },
    {
     "data": {
      "text/html": [
       "\n",
       "        <iframe\n",
       "            width=\"100%\"\n",
       "            height=\"800\"\n",
       "            src=\"http://localhost:5151/?notebook=true&handleId=2bd6dac3-2ae9-4729-a2b6-9172af30bff6\"\n",
       "            frameborder=\"0\"\n",
       "            allowfullscreen\n",
       "            \n",
       "        ></iframe>\n",
       "        "
      ],
      "text/plain": [
       "<IPython.lib.display.IFrame at 0x2775c1923d0>"
      ]
     },
     "metadata": {},
     "output_type": "display_data"
    }
   ],
   "source": [
    "#path to images\n",
    "#data_path = \"../../../datasets/od/object_datasets/guns/images/MASTER\"\n",
    "\n",
    "#path to video_images\n",
    "data_path = \"../../../../datasets/od/object_datasets/guns/images/MASTER\"\n",
    "\n",
    "#path to master\n",
    "#data_path = \"../../../datasets/od/master_datasets/LEGACY_test/data\"\n",
    "\n",
    "\n",
    "\n",
    "#path to jsons\n",
    "#labels_path= \"../../../datasets/od/object_datasets/guns/jsons/MASTER.json\" \n",
    "\n",
    "#path to video_jsons\n",
    "labels_path= \"../../../../datasets/od/object_datasets/guns/jsons/updated_gun_master_image.json\"\n",
    "\n",
    "#path to master\n",
    "#labels_path= \"../../../datasets/od/master_datasets/LEGACY_test/master.json\"\n",
    "\n",
    "\n",
    "dataset = fo.Dataset.from_dir(\n",
    "    data_path=data_path,\n",
    "    labels_path=labels_path,\n",
    "    dataset_type=fo.types.COCODetectionDataset,\n",
    "    label_types = [\"segmentations\", \"detections\"]\n",
    ")\n",
    "\n",
    "dataset.persistent = True\n",
    "\n",
    "session=fo.launch_app(dataset)\n"
   ]
  }
 ],
 "metadata": {
  "interpreter": {
   "hash": "7f0d9b29d3abf450bf16b2b0a1c26e44348ebdbb4c4f2d61ade5ad73213c2959"
  },
  "kernelspec": {
   "display_name": "Python 3.9.7 ('dsbasic')",
   "language": "python",
   "name": "python3"
  },
  "language_info": {
   "codemirror_mode": {
    "name": "ipython",
    "version": 3
   },
   "file_extension": ".py",
   "mimetype": "text/x-python",
   "name": "python",
   "nbconvert_exporter": "python",
   "pygments_lexer": "ipython3",
   "version": "3.9.7"
  },
  "orig_nbformat": 4,
  "vscode": {
   "interpreter": {
    "hash": "916dbcbb3f70747c44a77c7bcd40155683ae19c65e1c03b4aa3499c5328201f1"
   }
  }
 },
 "nbformat": 4,
 "nbformat_minor": 2
}
