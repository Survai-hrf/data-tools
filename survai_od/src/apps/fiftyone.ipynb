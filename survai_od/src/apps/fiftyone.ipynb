{
 "cells": [
  {
   "cell_type": "code",
   "execution_count": null,
   "metadata": {},
   "outputs": [],
   "source": [
    "import fiftyone as fo\n",
    "import fiftyone.brain as fob"
   ]
  },
  {
   "cell_type": "code",
   "execution_count": null,
   "metadata": {},
   "outputs": [],
   "source": [
    "#path to images\n",
    "#data_path = \"../../../datasets/od/object_datasets/guns/images/MASTER\"\n",
    "\n",
    "#path to video_images\n",
    "data_path = \"../../../../datasets/od/object_datasets/guns/video_images/MASTER\"\n",
    "\n",
    "#path to master\n",
    "#data_path = \"../../../datasets/od/master_datasets/LEGACY_test/data\"\n",
    "\n",
    "\n",
    "\n",
    "#path to jsons\n",
    "#labels_path= \"../../../datasets/od/object_datasets/guns/jsons/MASTER.json\" \n",
    "\n",
    "#path to video_jsons\n",
    "labels_path= \"../../../../datasets/od/object_datasets/guns/video_jsons/updated_gun_master_video.json\"\n",
    "\n",
    "#path to master\n",
    "#labels_path= \"../../../datasets/od/master_datasets/LEGACY_test/master.json\"\n",
    "\n",
    "\n",
    "dataset = fo.Dataset.from_dir(\n",
    "    data_path=data_path,\n",
    "    labels_path=labels_path,\n",
    "    dataset_type=fo.types.COCODetectionDataset,\n",
    "    label_types = [\"segmentations\", \"detections\"]\n",
    ")\n",
    "\n",
    "dataset.persistent = True\n",
    "\n",
    "session=fo.launch_app(dataset)\n"
   ]
  },
  {
   "cell_type": "code",
   "execution_count": 3,
   "metadata": {},
   "outputs": [
    {
     "name": "stdout",
     "output_type": "stream",
     "text": [
      "Downloading split 'train' to 'C:\\Users\\jacks\\fiftyone\\open-images-v6\\train' if necessary\n",
      "Downloading 'https://storage.googleapis.com/openimages/2018_04/train/train-images-boxable-with-rotation.csv' to 'C:\\Users\\jacks\\fiftyone\\open-images-v6\\train\\metadata\\image_ids.csv'\n",
      " 100% |██████|    4.8Gb/4.8Gb [1.4m elapsed, 0s remaining, 79.4Mb/s]      \n",
      "Downloading 'https://storage.googleapis.com/openimages/v5/class-descriptions-boxable.csv' to 'C:\\Users\\jacks\\fiftyone\\open-images-v6\\train\\metadata\\classes.csv'\n",
      "Downloading 'https://storage.googleapis.com/openimages/v5/classes-segmentation.txt' to 'C:\\Users\\jacks\\fiftyone\\open-images-v6\\train\\metadata\\segmentation_classes.csv'\n",
      "Downloading 'https://storage.googleapis.com/openimages/2018_04/bbox_labels_600_hierarchy.json' to 'C:\\Users\\jacks\\AppData\\Local\\Temp\\tmp_n8toi8f\\metadata\\hierarchy.json'\n",
      "Downloading 'https://storage.googleapis.com/openimages/v6/oidv6-train-annotations-bbox.csv' to 'C:\\Users\\jacks\\fiftyone\\open-images-v6\\train\\labels\\detections.csv'\n",
      "Downloading 'https://storage.googleapis.com/openimages/v5/train-annotations-object-segmentation.csv' to 'C:\\Users\\jacks\\fiftyone\\open-images-v6\\train\\labels\\segmentations.csv'\n",
      "Downloading 'https://storage.googleapis.com/openimages/v5/train-masks/train-masks-0.zip' to 'C:\\Users\\jacks\\fiftyone\\open-images-v6\\train\\labels\\masks\\0.zip'\n",
      "Downloading 100 images\n",
      " 100% |███████████████████| 100/100 [11.5s elapsed, 0s remaining, 6.9 files/s]      \n",
      "Dataset info written to 'C:\\Users\\jacks\\fiftyone\\open-images-v6\\info.json'\n",
      "Loading 'open-images-v6' split 'train'\n",
      " 100% |█████████████████| 100/100 [6.9s elapsed, 0s remaining, 14.9 samples/s]      \n",
      "Dataset 'open-images-v6-train-100' created\n"
     ]
    },
    {
     "data": {
      "text/html": [
       "\n",
       "        <iframe\n",
       "            width=\"100%\"\n",
       "            height=\"800\"\n",
       "            src=\"http://localhost:5151/?notebook=true&handleId=4e56b8a4-cdcb-4e3c-9fa1-e9e0a478097c\"\n",
       "            frameborder=\"0\"\n",
       "            allowfullscreen\n",
       "            \n",
       "        ></iframe>\n",
       "        "
      ],
      "text/plain": [
       "<IPython.lib.display.IFrame at 0x2ea75e98b50>"
      ]
     },
     "metadata": {},
     "output_type": "display_data"
    }
   ],
   "source": [
    "dataset = fo.zoo.load_zoo_dataset(\n",
    "              \"open-images-v6\",\n",
    "              split=\"train\",\n",
    "              label_types=[\"detections\", \"segmentations\"],\n",
    "              classes=[\"Camera\"],\n",
    "              max_samples=100,\n",
    "          )\n",
    "\n",
    "session=fo.launch_app(dataset)"
   ]
  }
 ],
 "metadata": {
  "interpreter": {
   "hash": "7f0d9b29d3abf450bf16b2b0a1c26e44348ebdbb4c4f2d61ade5ad73213c2959"
  },
  "kernelspec": {
   "display_name": "Python 3.9.7 ('dsbasic')",
   "language": "python",
   "name": "python3"
  },
  "language_info": {
   "codemirror_mode": {
    "name": "ipython",
    "version": 3
   },
   "file_extension": ".py",
   "mimetype": "text/x-python",
   "name": "python",
   "nbconvert_exporter": "python",
   "pygments_lexer": "ipython3",
   "version": "3.9.7"
  },
  "orig_nbformat": 4,
  "vscode": {
   "interpreter": {
    "hash": "916dbcbb3f70747c44a77c7bcd40155683ae19c65e1c03b4aa3499c5328201f1"
   }
  }
 },
 "nbformat": 4,
 "nbformat_minor": 2
}
