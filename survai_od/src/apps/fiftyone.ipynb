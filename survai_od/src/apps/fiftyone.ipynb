{
 "cells": [
  {
   "cell_type": "code",
   "execution_count": 2,
   "metadata": {},
   "outputs": [],
   "source": [
    "import fiftyone as fo\n",
    "import fiftyone.brain as fob"
   ]
  },
  {
   "cell_type": "code",
   "execution_count": null,
   "metadata": {},
   "outputs": [],
   "source": [
    "#path to folder containing all images in dataset\n",
    "data_path = \"../../LEGACY_test/data\"\n",
    "\n",
    "#path to json you want to see\n",
    "labels_path= \"../../LEGACY_test/jsons/master.json\"\n",
    "\n",
    "\n",
    "dataset = fo.Dataset.from_dir(\n",
    "    data_path=data_path,\n",
    "    labels_path=labels_path,\n",
    "    dataset_type=fo.types.COCODetectionDataset,\n",
    "    label_types = [\"segmentations\", \"detections\"]\n",
    ")\n",
    "\n",
    "session=fo.launch_app(dataset)\n"
   ]
  },
  {
   "cell_type": "code",
   "execution_count": null,
   "metadata": {},
   "outputs": [],
   "source": [
    "dataset.persistent = True"
   ]
  },
  {
   "cell_type": "code",
   "execution_count": 3,
   "metadata": {},
   "outputs": [
    {
     "ename": "AttributeError",
     "evalue": "module 'fiftyone' has no attribute 'brain'",
     "output_type": "error",
     "traceback": [
      "\u001b[0;31m---------------------------------------------------------------------------\u001b[0m",
      "\u001b[0;31mAttributeError\u001b[0m                            Traceback (most recent call last)",
      "\u001b[1;32m/home/bean/code/hrf/datasets/data-tools/survai_od/fiftyone.ipynb Cell 4'\u001b[0m in \u001b[0;36m<cell line: 1>\u001b[0;34m()\u001b[0m\n\u001b[0;32m----> <a href='vscode-notebook-cell:/home/bean/code/hrf/datasets/data-tools/survai_od/fiftyone.ipynb#ch0000003?line=0'>1</a>\u001b[0m results \u001b[39m=\u001b[39m fo\u001b[39m.\u001b[39;49mbrain\u001b[39m.\u001b[39mcompute_similarity(dataset, brain_key\u001b[39m=\u001b[39m\u001b[39m\"\u001b[39m\u001b[39mimg_sim\u001b[39m\u001b[39m\"\u001b[39m)\n\u001b[1;32m      <a href='vscode-notebook-cell:/home/bean/code/hrf/datasets/data-tools/survai_od/fiftyone.ipynb#ch0000003?line=1'>2</a>\u001b[0m results\u001b[39m.\u001b[39mfind_unique(\u001b[39m100\u001b[39m)\n",
      "\u001b[0;31mAttributeError\u001b[0m: module 'fiftyone' has no attribute 'brain'"
     ]
    }
   ],
   "source": [
    "results = fo.brain.compute_similarity(dataset, brain_key=\"img_sim\")\n",
    "results.find_unique(100)"
   ]
  }
 ],
 "metadata": {
  "interpreter": {
   "hash": "18a103535ba30ec4e76ff130aff6f6f53f39fb851407c0e9c675d56b0484a1f1"
  },
  "kernelspec": {
   "display_name": "Python 3.7.10 64-bit ('survai2': conda)",
   "language": "python",
   "name": "python3"
  },
  "language_info": {
   "codemirror_mode": {
    "name": "ipython",
    "version": 3
   },
   "file_extension": ".py",
   "mimetype": "text/x-python",
   "name": "python",
   "nbconvert_exporter": "python",
   "pygments_lexer": "ipython3",
   "version": "3.9.7"
  },
  "orig_nbformat": 4
 },
 "nbformat": 4,
 "nbformat_minor": 2
}
