{
 "cells": [
  {
   "cell_type": "code",
   "execution_count": 2,
   "metadata": {},
   "outputs": [],
   "source": [
    "import fiftyone as fo\n",
    "import fiftyone.brain as fob"
   ]
  },
  {
   "cell_type": "code",
   "execution_count": 3,
   "metadata": {},
   "outputs": [
    {
     "name": "stdout",
     "output_type": "stream",
     "text": [
      " 100% |███████████████████| 14/14 [430.1ms elapsed, 0s remaining, 32.7 samples/s]     \n"
     ]
    },
    {
     "data": {
      "text/html": [
       "\n",
       "        <iframe\n",
       "            width=\"100%\"\n",
       "            height=\"800\"\n",
       "            src=\"http://localhost:5151/?notebook=true&handleId=a949e483-7140-436c-b429-907edd47d5e2\"\n",
       "            frameborder=\"0\"\n",
       "            allowfullscreen\n",
       "            \n",
       "        ></iframe>\n",
       "        "
      ],
      "text/plain": [
       "<IPython.lib.display.IFrame at 0x1c8ba9a1160>"
      ]
     },
     "metadata": {},
     "output_type": "display_data"
    }
   ],
   "source": [
    "#path to folder containing all images in dataset\n",
    "data_path = \"../../../datasets/od/object_datasets/guns/images/colt_1911_gun\"\n",
    "\n",
    "#path to json you want to see\n",
    "labels_path= \"../../../datasets/od/object_datasets/guns/jsons/colt1911gun1-24.json\"\n",
    "\n",
    "\n",
    "dataset = fo.Dataset.from_dir(\n",
    "    data_path=data_path,\n",
    "    labels_path=labels_path,\n",
    "    dataset_type=fo.types.COCODetectionDataset,\n",
    "    label_types = [\"segmentations\", \"detections\"]\n",
    ")\n",
    "\n",
    "dataset.persistent = True\n",
    "\n",
    "session=fo.launch_app(dataset)\n"
   ]
  },
  {
   "cell_type": "code",
   "execution_count": 23,
   "metadata": {},
   "outputs": [],
   "source": [
    "dataset.delete_samples('626c6a0e8a54c711eb160ae5')"
   ]
  }
 ],
 "metadata": {
  "interpreter": {
   "hash": "18a103535ba30ec4e76ff130aff6f6f53f39fb851407c0e9c675d56b0484a1f1"
  },
  "kernelspec": {
   "display_name": "Python 3.7.10 64-bit ('survai2': conda)",
   "language": "python",
   "name": "python3"
  },
  "language_info": {
   "codemirror_mode": {
    "name": "ipython",
    "version": 3
   },
   "file_extension": ".py",
   "mimetype": "text/x-python",
   "name": "python",
   "nbconvert_exporter": "python",
   "pygments_lexer": "ipython3",
   "version": "3.9.7"
  },
  "orig_nbformat": 4
 },
 "nbformat": 4,
 "nbformat_minor": 2
}
